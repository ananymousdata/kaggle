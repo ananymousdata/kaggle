{
 "cells": [
  {
   "cell_type": "markdown",
   "id": "8e09c62b",
   "metadata": {
    "papermill": {
     "duration": 0.007825,
     "end_time": "2023-02-21T05:48:46.133524",
     "exception": false,
     "start_time": "2023-02-21T05:48:46.125699",
     "status": "completed"
    },
    "tags": []
   },
   "source": [
    "**This notebook is an exercise in the [Intro to Programming](https://www.kaggle.com/learn/intro-to-programming) course.  You can reference the tutorial at [this link](https://www.kaggle.com/alexisbcook/intro-to-lists).**\n",
    "\n",
    "---\n"
   ]
  },
  {
   "cell_type": "markdown",
   "id": "44216935",
   "metadata": {
    "papermill": {
     "duration": 0.006149,
     "end_time": "2023-02-21T05:48:46.146361",
     "exception": false,
     "start_time": "2023-02-21T05:48:46.140212",
     "status": "completed"
    },
    "tags": []
   },
   "source": [
    "In the tutorial, you learned how to define and modify Python lists.  In this exercise, you will use your new knowledge to solve several problems.\n",
    "\n",
    "# Set up the notebook\n",
    "\n",
    "Run the next code cell without changes to set up the notebook."
   ]
  },
  {
   "cell_type": "code",
   "execution_count": 1,
   "id": "29e077dc",
   "metadata": {
    "execution": {
     "iopub.execute_input": "2023-02-21T05:48:46.161208Z",
     "iopub.status.busy": "2023-02-21T05:48:46.160704Z",
     "iopub.status.idle": "2023-02-21T05:48:46.212508Z",
     "shell.execute_reply": "2023-02-21T05:48:46.211349Z"
    },
    "papermill": {
     "duration": 0.062631,
     "end_time": "2023-02-21T05:48:46.215458",
     "exception": false,
     "start_time": "2023-02-21T05:48:46.152827",
     "status": "completed"
    },
    "tags": []
   },
   "outputs": [
    {
     "name": "stdout",
     "output_type": "stream",
     "text": [
      "Setup complete.\n"
     ]
    }
   ],
   "source": [
    "from learntools.core import binder\n",
    "binder.bind(globals())\n",
    "from learntools.intro_to_programming.ex5 import *\n",
    "print('Setup complete.')"
   ]
  },
  {
   "cell_type": "markdown",
   "id": "17531a77",
   "metadata": {
    "papermill": {
     "duration": 0.006183,
     "end_time": "2023-02-21T05:48:46.228252",
     "exception": false,
     "start_time": "2023-02-21T05:48:46.222069",
     "status": "completed"
    },
    "tags": []
   },
   "source": [
    "# Question 1\n",
    "\n",
    "You own a restaurant with five food dishes, organized in the Python list `menu` below.  One day, you decide to:\n",
    "- remove bean soup (`'bean soup'`) from the menu, and\n",
    "- add roasted beet salad (`'roasted beet salad'`) to the menu.\n",
    "\n",
    "Implement this change to the list below.  While completing this task, \n",
    "- do not change the line that creates the `menu` list.  \n",
    "- your answer should use `.remove()` and `.append()`.  "
   ]
  },
  {
   "cell_type": "code",
   "execution_count": 2,
   "id": "0d14d1c4",
   "metadata": {
    "execution": {
     "iopub.execute_input": "2023-02-21T05:48:46.242839Z",
     "iopub.status.busy": "2023-02-21T05:48:46.242404Z",
     "iopub.status.idle": "2023-02-21T05:48:46.254320Z",
     "shell.execute_reply": "2023-02-21T05:48:46.253178Z"
    },
    "papermill": {
     "duration": 0.021966,
     "end_time": "2023-02-21T05:48:46.256631",
     "exception": false,
     "start_time": "2023-02-21T05:48:46.234665",
     "status": "completed"
    },
    "tags": []
   },
   "outputs": [
    {
     "data": {
      "application/javascript": [
       "parent.postMessage({\"jupyterEvent\": \"custom.exercise_interaction\", \"data\": {\"outcomeType\": 1, \"valueTowardsCompletion\": 0.2, \"interactionType\": 1, \"questionType\": 2, \"questionId\": \"1_FoodMenu\", \"learnToolsVersion\": \"0.3.4\", \"failureMessage\": \"\", \"exceptionClass\": \"\", \"trace\": \"\"}}, \"*\")"
      ],
      "text/plain": [
       "<IPython.core.display.Javascript object>"
      ]
     },
     "metadata": {},
     "output_type": "display_data"
    },
    {
     "data": {
      "text/markdown": [
       "<span style=\"color:#33cc33\">Correct</span>"
      ],
      "text/plain": [
       "Correct"
      ]
     },
     "metadata": {},
     "output_type": "display_data"
    }
   ],
   "source": [
    "# Do not change: Initial menu for your restaurant\n",
    "menu = ['stewed meat with onions', 'bean soup', 'risotto with trout and shrimp',\n",
    "       'fish soup with cream and onion', 'gyro']\n",
    "\n",
    "# TODO: remove 'bean soup', and add 'roasted beet salad' to the end of the menu\n",
    "menu.remove('bean soup')\n",
    "menu.append('roasted beet salad')\n",
    "\n",
    "# Do not change: Check your answer\n",
    "q1.check()"
   ]
  },
  {
   "cell_type": "code",
   "execution_count": 3,
   "id": "c5e2fe7c",
   "metadata": {
    "execution": {
     "iopub.execute_input": "2023-02-21T05:48:46.272037Z",
     "iopub.status.busy": "2023-02-21T05:48:46.271609Z",
     "iopub.status.idle": "2023-02-21T05:48:46.276605Z",
     "shell.execute_reply": "2023-02-21T05:48:46.275407Z"
    },
    "papermill": {
     "duration": 0.015419,
     "end_time": "2023-02-21T05:48:46.278915",
     "exception": false,
     "start_time": "2023-02-21T05:48:46.263496",
     "status": "completed"
    },
    "tags": []
   },
   "outputs": [],
   "source": [
    "# Uncomment to see a hint\n",
    "#q1.hint()\n",
    "\n",
    "# Uncomment to see the solution\n",
    "#q1.solution()"
   ]
  },
  {
   "cell_type": "markdown",
   "id": "2655c198",
   "metadata": {
    "papermill": {
     "duration": 0.006563,
     "end_time": "2023-02-21T05:48:46.292209",
     "exception": false,
     "start_time": "2023-02-21T05:48:46.285646",
     "status": "completed"
    },
    "tags": []
   },
   "source": [
    "# Question 2\n",
    "\n",
    "The list `num_customers` contains the number of customers who came into your restaurant every day over the last month (which lasted thirty days).  Fill in values for each of the following:\n",
    "- `avg_first_seven` - average number of customers who visited in the first seven days\n",
    "- `avg_last_seven` - average number of customers who visited in the last seven days\n",
    "- `max_month` - number of customers on the day that got the most customers in the last month\n",
    "- `min_month` - number of customers on the day that got the least customers in the last month\n",
    "\n",
    "Answer this question by writing code.  For instance, if you have to find the minimum value in a list, use `min()` instead of scanning for the smallest value and directly filling in a number."
   ]
  },
  {
   "cell_type": "code",
   "execution_count": 4,
   "id": "33502185",
   "metadata": {
    "execution": {
     "iopub.execute_input": "2023-02-21T05:48:46.307818Z",
     "iopub.status.busy": "2023-02-21T05:48:46.307039Z",
     "iopub.status.idle": "2023-02-21T05:48:46.319431Z",
     "shell.execute_reply": "2023-02-21T05:48:46.318272Z"
    },
    "papermill": {
     "duration": 0.022658,
     "end_time": "2023-02-21T05:48:46.321648",
     "exception": false,
     "start_time": "2023-02-21T05:48:46.298990",
     "status": "completed"
    },
    "tags": []
   },
   "outputs": [
    {
     "data": {
      "application/javascript": [
       "parent.postMessage({\"jupyterEvent\": \"custom.exercise_interaction\", \"data\": {\"outcomeType\": 1, \"valueTowardsCompletion\": 0.2, \"interactionType\": 1, \"questionType\": 1, \"questionId\": \"2_NumCustomers\", \"learnToolsVersion\": \"0.3.4\", \"failureMessage\": \"\", \"exceptionClass\": \"\", \"trace\": \"\"}}, \"*\")"
      ],
      "text/plain": [
       "<IPython.core.display.Javascript object>"
      ]
     },
     "metadata": {},
     "output_type": "display_data"
    },
    {
     "data": {
      "text/markdown": [
       "<span style=\"color:#33cc33\">Correct</span>"
      ],
      "text/plain": [
       "Correct"
      ]
     },
     "metadata": {},
     "output_type": "display_data"
    }
   ],
   "source": [
    "# Do not change: Number of customers each day for the last month\n",
    "num_customers = [137, 147, 135, 128, 170, 174, 165, 146, 126, 159,\n",
    "                 141, 148, 132, 147, 168, 153, 170, 161, 148, 152,\n",
    "                 141, 151, 131, 149, 164, 163, 143, 143, 166, 171]\n",
    "\n",
    "# TODO: Fill in values for the variables below\n",
    "avg_first_seven = sum(num_customers[:7])/7 \n",
    "avg_last_seven =  sum(num_customers[-7:])/7\n",
    "max_month = max(num_customers)\n",
    "min_month = min(num_customers)\n",
    "\n",
    "# Do not change: Check your answer\n",
    "q2.check()"
   ]
  },
  {
   "cell_type": "code",
   "execution_count": 5,
   "id": "fe7c5c2d",
   "metadata": {
    "execution": {
     "iopub.execute_input": "2023-02-21T05:48:46.337612Z",
     "iopub.status.busy": "2023-02-21T05:48:46.337173Z",
     "iopub.status.idle": "2023-02-21T05:48:46.341950Z",
     "shell.execute_reply": "2023-02-21T05:48:46.340689Z"
    },
    "papermill": {
     "duration": 0.015396,
     "end_time": "2023-02-21T05:48:46.344186",
     "exception": false,
     "start_time": "2023-02-21T05:48:46.328790",
     "status": "completed"
    },
    "tags": []
   },
   "outputs": [],
   "source": [
    "# Uncomment to see a hint\n",
    "#q2.hint()\n",
    "\n",
    "# Uncomment to see the solution\n",
    "#q2.solution()"
   ]
  },
  {
   "cell_type": "markdown",
   "id": "20211b51",
   "metadata": {
    "papermill": {
     "duration": 0.006815,
     "end_time": "2023-02-21T05:48:46.358147",
     "exception": false,
     "start_time": "2023-02-21T05:48:46.351332",
     "status": "completed"
    },
    "tags": []
   },
   "source": [
    "# Question 3\n",
    "\n",
    "In the tutorial, we gave an example of a Python string with information that was better as a list."
   ]
  },
  {
   "cell_type": "code",
   "execution_count": 6,
   "id": "993752c7",
   "metadata": {
    "execution": {
     "iopub.execute_input": "2023-02-21T05:48:46.374298Z",
     "iopub.status.busy": "2023-02-21T05:48:46.373919Z",
     "iopub.status.idle": "2023-02-21T05:48:46.379098Z",
     "shell.execute_reply": "2023-02-21T05:48:46.377649Z"
    },
    "papermill": {
     "duration": 0.016173,
     "end_time": "2023-02-21T05:48:46.381412",
     "exception": false,
     "start_time": "2023-02-21T05:48:46.365239",
     "status": "completed"
    },
    "tags": []
   },
   "outputs": [],
   "source": [
    "flowers = \"pink primrose,hard-leaved pocket orchid,canterbury bells,sweet pea,english marigold,tiger lily,moon orchid,bird of paradise,monkshood,globe thistle\""
   ]
  },
  {
   "cell_type": "markdown",
   "id": "106f2e27",
   "metadata": {
    "papermill": {
     "duration": 0.006735,
     "end_time": "2023-02-21T05:48:46.395241",
     "exception": false,
     "start_time": "2023-02-21T05:48:46.388506",
     "status": "completed"
    },
    "tags": []
   },
   "source": [
    "You can actually use Python to quickly turn this string into a list with `.split()`.  In the parentheses, we need to provide the character should be used to mark the end of one list item and the beginning of another, and enclose it in quotation marks.  In this case, that character is a comma."
   ]
  },
  {
   "cell_type": "code",
   "execution_count": 7,
   "id": "a960589c",
   "metadata": {
    "execution": {
     "iopub.execute_input": "2023-02-21T05:48:46.411006Z",
     "iopub.status.busy": "2023-02-21T05:48:46.410606Z",
     "iopub.status.idle": "2023-02-21T05:48:46.417135Z",
     "shell.execute_reply": "2023-02-21T05:48:46.415401Z"
    },
    "papermill": {
     "duration": 0.017406,
     "end_time": "2023-02-21T05:48:46.419656",
     "exception": false,
     "start_time": "2023-02-21T05:48:46.402250",
     "status": "completed"
    },
    "tags": []
   },
   "outputs": [
    {
     "name": "stdout",
     "output_type": "stream",
     "text": [
      "['pink primrose', 'hard-leaved pocket orchid', 'canterbury bells', 'sweet pea', 'english marigold', 'tiger lily', 'moon orchid', 'bird of paradise', 'monkshood', 'globe thistle']\n"
     ]
    }
   ],
   "source": [
    " print(flowers.split(\",\"))"
   ]
  },
  {
   "cell_type": "markdown",
   "id": "708e7b65",
   "metadata": {
    "papermill": {
     "duration": 0.008917,
     "end_time": "2023-02-21T05:48:46.438065",
     "exception": false,
     "start_time": "2023-02-21T05:48:46.429148",
     "status": "completed"
    },
    "tags": []
   },
   "source": [
    "Now it is your turn to try this out!  Create two Python lists:\n",
    "- `letters` should be a Python list where each entry is an uppercase letter of the English alphabet.  For instance, the first two entries should be `\"A\"` and `\"B\"`, and the final two entries should be `\"Y\"` and `\"Z\"`.  Use the string `alphabet` to create this list.\n",
    "- `address` should be a Python list where each row in `address` is a different item in the list.  Currently, each row in `address` is separated by a comma. "
   ]
  },
  {
   "cell_type": "code",
   "execution_count": 8,
   "id": "5e0179e4",
   "metadata": {
    "execution": {
     "iopub.execute_input": "2023-02-21T05:48:46.459861Z",
     "iopub.status.busy": "2023-02-21T05:48:46.458628Z",
     "iopub.status.idle": "2023-02-21T05:48:46.472313Z",
     "shell.execute_reply": "2023-02-21T05:48:46.470889Z"
    },
    "papermill": {
     "duration": 0.034248,
     "end_time": "2023-02-21T05:48:46.481313",
     "exception": false,
     "start_time": "2023-02-21T05:48:46.447065",
     "status": "completed"
    },
    "tags": []
   },
   "outputs": [
    {
     "data": {
      "application/javascript": [
       "parent.postMessage({\"jupyterEvent\": \"custom.exercise_interaction\", \"data\": {\"outcomeType\": 1, \"valueTowardsCompletion\": 0.2, \"interactionType\": 1, \"questionType\": 1, \"questionId\": \"3_SplitString\", \"learnToolsVersion\": \"0.3.4\", \"failureMessage\": \"\", \"exceptionClass\": \"\", \"trace\": \"\"}}, \"*\")"
      ],
      "text/plain": [
       "<IPython.core.display.Javascript object>"
      ]
     },
     "metadata": {},
     "output_type": "display_data"
    },
    {
     "data": {
      "text/markdown": [
       "<span style=\"color:#33cc33\">Correct</span>"
      ],
      "text/plain": [
       "Correct"
      ]
     },
     "metadata": {},
     "output_type": "display_data"
    }
   ],
   "source": [
    "# DO not change: Define two Python strings\n",
    "alphabet = \"A.B.C.D.E.F.G.H.I.J.K.L.M.N.O.P.Q.R.S.T.U.V.W.X.Y.Z\"\n",
    "address = \"Mr. H. Potter,The cupboard under the Stairs,4 Privet Drive,Little Whinging,Surrey\"\n",
    "\n",
    "# TODO: Convert strings into Python lists\n",
    "letters = alphabet.split(\".\")\n",
    "formatted_address = address.split(\",\")\n",
    "\n",
    "# Do not change: Check your answer\n",
    "q3.check()"
   ]
  },
  {
   "cell_type": "code",
   "execution_count": 9,
   "id": "37f0725e",
   "metadata": {
    "execution": {
     "iopub.execute_input": "2023-02-21T05:48:46.498534Z",
     "iopub.status.busy": "2023-02-21T05:48:46.498081Z",
     "iopub.status.idle": "2023-02-21T05:48:46.503335Z",
     "shell.execute_reply": "2023-02-21T05:48:46.501986Z"
    },
    "papermill": {
     "duration": 0.016823,
     "end_time": "2023-02-21T05:48:46.505871",
     "exception": false,
     "start_time": "2023-02-21T05:48:46.489048",
     "status": "completed"
    },
    "tags": []
   },
   "outputs": [],
   "source": [
    "# Uncomment to see a hint\n",
    "#q3.hint()\n",
    "\n",
    "# Uncomment to see the solution\n",
    "#q3.solution()"
   ]
  },
  {
   "cell_type": "markdown",
   "id": "6c255017",
   "metadata": {
    "papermill": {
     "duration": 0.007433,
     "end_time": "2023-02-21T05:48:46.521255",
     "exception": false,
     "start_time": "2023-02-21T05:48:46.513822",
     "status": "completed"
    },
    "tags": []
   },
   "source": [
    "# Question 4\n",
    "\n",
    "In the Python course, you'll learn all about **list comprehensions**, which allow you to create a list based on the values in another list.  In this question, you'll get a brief preview of how they work.\n",
    "\n",
    "Say we're working with the list below."
   ]
  },
  {
   "cell_type": "code",
   "execution_count": 10,
   "id": "b788839a",
   "metadata": {
    "execution": {
     "iopub.execute_input": "2023-02-21T05:48:46.538493Z",
     "iopub.status.busy": "2023-02-21T05:48:46.538060Z",
     "iopub.status.idle": "2023-02-21T05:48:46.543835Z",
     "shell.execute_reply": "2023-02-21T05:48:46.542513Z"
    },
    "papermill": {
     "duration": 0.017345,
     "end_time": "2023-02-21T05:48:46.546292",
     "exception": false,
     "start_time": "2023-02-21T05:48:46.528947",
     "status": "completed"
    },
    "tags": []
   },
   "outputs": [],
   "source": [
    "test_ratings = [1, 2, 3, 4, 5]"
   ]
  },
  {
   "cell_type": "markdown",
   "id": "54e0f193",
   "metadata": {
    "papermill": {
     "duration": 0.010124,
     "end_time": "2023-02-21T05:48:46.564153",
     "exception": false,
     "start_time": "2023-02-21T05:48:46.554029",
     "status": "completed"
    },
    "tags": []
   },
   "source": [
    "Then we can use this list (`test_ratings`) to create a new list (`test_liked`) where each item has been turned into a boolean, depending on whether or not the item is greater than or equal to four."
   ]
  },
  {
   "cell_type": "code",
   "execution_count": 11,
   "id": "13b8033a",
   "metadata": {
    "execution": {
     "iopub.execute_input": "2023-02-21T05:48:46.581669Z",
     "iopub.status.busy": "2023-02-21T05:48:46.580902Z",
     "iopub.status.idle": "2023-02-21T05:48:46.587153Z",
     "shell.execute_reply": "2023-02-21T05:48:46.585976Z"
    },
    "papermill": {
     "duration": 0.017851,
     "end_time": "2023-02-21T05:48:46.589674",
     "exception": false,
     "start_time": "2023-02-21T05:48:46.571823",
     "status": "completed"
    },
    "tags": []
   },
   "outputs": [
    {
     "name": "stdout",
     "output_type": "stream",
     "text": [
      "[False, False, False, True, True]\n"
     ]
    }
   ],
   "source": [
    "test_liked = [i>=4 for i in test_ratings]\n",
    "print(test_liked)"
   ]
  },
  {
   "cell_type": "markdown",
   "id": "e67d1697",
   "metadata": {
    "papermill": {
     "duration": 0.007315,
     "end_time": "2023-02-21T05:48:46.604773",
     "exception": false,
     "start_time": "2023-02-21T05:48:46.597458",
     "status": "completed"
    },
    "tags": []
   },
   "source": [
    "In this question, you'll use this list comprehension to define a function `percentage_liked()` that takes one argument as input:\n",
    "- `ratings`: list of ratings that people gave to a movie, where each rating is a number between 1-5, inclusive\n",
    "\n",
    "We say someone liked the movie, if they gave a rating of either 4 or 5.  Your function should return the percentage of people who liked the movie.\n",
    "\n",
    "For instance, if we supply a value of `[1, 2, 3, 4, 5, 4, 5, 1]`, then 50% (4/8) of the people liked the movie, and the function should return `0.5`.\n",
    "\n",
    "Part of the function has already been completed for you.  You need only use `list_liked` to calculate `percentage_liked`."
   ]
  },
  {
   "cell_type": "code",
   "execution_count": 12,
   "id": "a179acb1",
   "metadata": {
    "execution": {
     "iopub.execute_input": "2023-02-21T05:48:46.624349Z",
     "iopub.status.busy": "2023-02-21T05:48:46.623940Z",
     "iopub.status.idle": "2023-02-21T05:48:46.635929Z",
     "shell.execute_reply": "2023-02-21T05:48:46.634929Z"
    },
    "papermill": {
     "duration": 0.023867,
     "end_time": "2023-02-21T05:48:46.638351",
     "exception": false,
     "start_time": "2023-02-21T05:48:46.614484",
     "status": "completed"
    },
    "tags": []
   },
   "outputs": [
    {
     "data": {
      "application/javascript": [
       "parent.postMessage({\"jupyterEvent\": \"custom.exercise_interaction\", \"data\": {\"outcomeType\": 1, \"valueTowardsCompletion\": 0.2, \"interactionType\": 1, \"questionType\": 2, \"questionId\": \"4_PercentageLiked\", \"learnToolsVersion\": \"0.3.4\", \"failureMessage\": \"\", \"exceptionClass\": \"\", \"trace\": \"\"}}, \"*\")"
      ],
      "text/plain": [
       "<IPython.core.display.Javascript object>"
      ]
     },
     "metadata": {},
     "output_type": "display_data"
    },
    {
     "data": {
      "text/markdown": [
       "<span style=\"color:#33cc33\">Correct</span>"
      ],
      "text/plain": [
       "Correct"
      ]
     },
     "metadata": {},
     "output_type": "display_data"
    }
   ],
   "source": [
    "\n",
    "def percentage_liked(ratings):\n",
    "    list_liked = [i>=4 for i in ratings]\n",
    "    # TODO: Complete the function\n",
    "    percentage_liked = sum(list_liked)/len(list_liked)\n",
    "    return percentage_liked\n",
    "\n",
    "# Do not change: should return 0.5\n",
    "percentage_liked([1, 2, 3, 4, 5, 4, 5, 1])\n",
    "\n",
    "# Do not change: Check your answer\n",
    "q4.check()"
   ]
  },
  {
   "cell_type": "code",
   "execution_count": 13,
   "id": "cd049bb3",
   "metadata": {
    "execution": {
     "iopub.execute_input": "2023-02-21T05:48:46.656739Z",
     "iopub.status.busy": "2023-02-21T05:48:46.655924Z",
     "iopub.status.idle": "2023-02-21T05:48:46.665444Z",
     "shell.execute_reply": "2023-02-21T05:48:46.664497Z"
    },
    "papermill": {
     "duration": 0.021477,
     "end_time": "2023-02-21T05:48:46.667938",
     "exception": false,
     "start_time": "2023-02-21T05:48:46.646461",
     "status": "completed"
    },
    "tags": []
   },
   "outputs": [
    {
     "data": {
      "application/javascript": [
       "parent.postMessage({\"jupyterEvent\": \"custom.exercise_interaction\", \"data\": {\"interactionType\": 2, \"questionType\": 2, \"questionId\": \"4_PercentageLiked\", \"learnToolsVersion\": \"0.3.4\", \"valueTowardsCompletion\": 0.0, \"failureMessage\": \"\", \"exceptionClass\": \"\", \"trace\": \"\", \"outcomeType\": 4}}, \"*\")"
      ],
      "text/plain": [
       "<IPython.core.display.Javascript object>"
      ]
     },
     "metadata": {},
     "output_type": "display_data"
    },
    {
     "data": {
      "text/markdown": [
       "<span style=\"color:#3366cc\">Hint:</span> Remember that when we add booleans, it returns the total number of entries in the sum that are `True`."
      ],
      "text/plain": [
       "Hint: Remember that when we add booleans, it returns the total number of entries in the sum that are `True`."
      ]
     },
     "metadata": {},
     "output_type": "display_data"
    }
   ],
   "source": [
    "# Uncomment to see a hint\n",
    "q4.hint()\n",
    "\n",
    "# Uncomment to see the solution\n",
    "#q4.solution()"
   ]
  },
  {
   "cell_type": "markdown",
   "id": "df27c513",
   "metadata": {
    "papermill": {
     "duration": 0.007682,
     "end_time": "2023-02-21T05:48:46.686091",
     "exception": false,
     "start_time": "2023-02-21T05:48:46.678409",
     "status": "completed"
    },
    "tags": []
   },
   "source": [
    "# 🌶️ Question 5\n",
    " \n",
    "Say you're doing analytics for a website.  You need to write a function that returns the percentage growth in the total number of users relative to a specified number of years ago.\n",
    "\n",
    "Your function `percentage_growth()` should take two arguments as input:\n",
    "- `num_users` = Python list with the total number of users each year.  So `num_users[0]` is the total number of users in the first year, `num_users[1]` is the total number of users in the second year, and so on.  The final entry in the list gives the total number of users in the most recently completed year.\n",
    "- `yrs_ago` = number of years to go back in time when calculating the growth percentage\n",
    "\n",
    "For instance, say `num_users = [920344, 1043553, 1204334, 1458996, 1503323, 1593432, 1623463, 1843064, 1930992, 2001078]`.\n",
    "- if `yrs_ago = 1`, we want the function to return a value of about `0.036`. This corresponds to a percentage growth of approximately 3.6%, calculated as (2001078 - 1930992)/1930992.\n",
    "- if `years_ago = 7`, we would want to return approximately `0.66`.  This corresponds to a percentage growth of approximately 66%, calculated as (2001078 - 1204334)/1204334.\n",
    "\n",
    "Your coworker sent you a draft of a function, but it doesn't seem to be doing the correct calculation.  Can you figure out what has gone wrong and make the needed changes?"
   ]
  },
  {
   "cell_type": "code",
   "execution_count": 14,
   "id": "1c4b9a7a",
   "metadata": {
    "execution": {
     "iopub.execute_input": "2023-02-21T05:48:46.704764Z",
     "iopub.status.busy": "2023-02-21T05:48:46.703592Z",
     "iopub.status.idle": "2023-02-21T05:48:46.717897Z",
     "shell.execute_reply": "2023-02-21T05:48:46.716601Z"
    },
    "papermill": {
     "duration": 0.026391,
     "end_time": "2023-02-21T05:48:46.720659",
     "exception": false,
     "start_time": "2023-02-21T05:48:46.694268",
     "status": "completed"
    },
    "tags": []
   },
   "outputs": [
    {
     "name": "stdout",
     "output_type": "stream",
     "text": [
      "0.03629533421163837\n",
      "0.6615639847417742\n"
     ]
    },
    {
     "data": {
      "application/javascript": [
       "parent.postMessage({\"jupyterEvent\": \"custom.exercise_interaction\", \"data\": {\"outcomeType\": 1, \"valueTowardsCompletion\": 0.2, \"interactionType\": 1, \"questionType\": 2, \"questionId\": \"5_WebsiteAnalytics\", \"learnToolsVersion\": \"0.3.4\", \"failureMessage\": \"\", \"exceptionClass\": \"\", \"trace\": \"\"}}, \"*\")"
      ],
      "text/plain": [
       "<IPython.core.display.Javascript object>"
      ]
     },
     "metadata": {},
     "output_type": "display_data"
    },
    {
     "data": {
      "text/markdown": [
       "<span style=\"color:#33cc33\">Correct</span>"
      ],
      "text/plain": [
       "Correct"
      ]
     },
     "metadata": {},
     "output_type": "display_data"
    }
   ],
   "source": [
    "# TODO: Edit the function\n",
    "def percentage_growth(num_users, yrs_ago):\n",
    "    growth = (num_users[len(num_users)-1] - num_users[len(num_users)-yrs_ago-1])/num_users[len(num_users)-yrs_ago-1]\n",
    "    return growth\n",
    "\n",
    "# Do not change: Variable for calculating some test examples\n",
    "num_users_test = [920344, 1043553, 1204334, 1458996, 1503323, 1593432, 1623463, 1843064, 1930992, 2001078]\n",
    "\n",
    "# Do not change: Should return .036\n",
    "print(percentage_growth(num_users_test, 1))\n",
    "\n",
    "# Do not change: Should return 0.66\n",
    "print(percentage_growth(num_users_test, 7))\n",
    "\n",
    "# Do not change: Check your answer\n",
    "q5.check()"
   ]
  },
  {
   "cell_type": "code",
   "execution_count": 15,
   "id": "c448fc43",
   "metadata": {
    "execution": {
     "iopub.execute_input": "2023-02-21T05:48:46.741405Z",
     "iopub.status.busy": "2023-02-21T05:48:46.740745Z",
     "iopub.status.idle": "2023-02-21T05:48:46.750463Z",
     "shell.execute_reply": "2023-02-21T05:48:46.749468Z"
    },
    "papermill": {
     "duration": 0.023142,
     "end_time": "2023-02-21T05:48:46.752861",
     "exception": false,
     "start_time": "2023-02-21T05:48:46.729719",
     "status": "completed"
    },
    "tags": []
   },
   "outputs": [
    {
     "data": {
      "application/javascript": [
       "parent.postMessage({\"jupyterEvent\": \"custom.exercise_interaction\", \"data\": {\"interactionType\": 2, \"questionType\": 2, \"questionId\": \"5_WebsiteAnalytics\", \"learnToolsVersion\": \"0.3.4\", \"valueTowardsCompletion\": 0.0, \"failureMessage\": \"\", \"exceptionClass\": \"\", \"trace\": \"\", \"outcomeType\": 4}}, \"*\")"
      ],
      "text/plain": [
       "<IPython.core.display.Javascript object>"
      ]
     },
     "metadata": {},
     "output_type": "display_data"
    },
    {
     "data": {
      "text/markdown": [
       "<span style=\"color:#3366cc\">Hint:</span> It's already correct that you need to subtract two numbers from the list, before dividing by an item in the list. You only need to modify the positions for the items that are pulled from the list. \n",
       "\n",
       "In order to pull the final entry in the `num_users` list, you would need to use `num_users[len(num_users)-1]`.  This corresponds to the number of users in the most recently completed year.  \n",
       "\n",
       "Then, to get the number of users from one year prior, you should use `num_users[len(num_users)-2]`.  \n",
       "\n",
       "To get the number of users from `yrs_ago` years ago, use `num_users[len(num_users)-yrs_ago-1]`."
      ],
      "text/plain": [
       "Hint: It's already correct that you need to subtract two numbers from the list, before dividing by an item in the list. You only need to modify the positions for the items that are pulled from the list. \n",
       "\n",
       "In order to pull the final entry in the `num_users` list, you would need to use `num_users[len(num_users)-1]`.  This corresponds to the number of users in the most recently completed year.  \n",
       "\n",
       "Then, to get the number of users from one year prior, you should use `num_users[len(num_users)-2]`.  \n",
       "\n",
       "To get the number of users from `yrs_ago` years ago, use `num_users[len(num_users)-yrs_ago-1]`."
      ]
     },
     "metadata": {},
     "output_type": "display_data"
    }
   ],
   "source": [
    "# Uncomment to see a hint\n",
    "q5.hint()\n",
    "\n",
    "# Uncomment to see the solution\n",
    "#q5.solution()"
   ]
  },
  {
   "cell_type": "markdown",
   "id": "2c1bb8c3",
   "metadata": {
    "papermill": {
     "duration": 0.008421,
     "end_time": "2023-02-21T05:48:46.769889",
     "exception": false,
     "start_time": "2023-02-21T05:48:46.761468",
     "status": "completed"
    },
    "tags": []
   },
   "source": [
    "# Congratulations!\n",
    "\n",
    "Congratulations for finishing the Intro to Programming course!  You should be proud of your very first steps with learning programming.  As next steps, we recommend taking:\n",
    "- the **[Python course](http://www.kaggle.com/learn/python)**, and \n",
    "- the **[Intro to Machine Learning course](https://www.kaggle.com/learn/intro-to-machine-learning)**."
   ]
  },
  {
   "cell_type": "markdown",
   "id": "c7a074b8",
   "metadata": {
    "papermill": {
     "duration": 0.008464,
     "end_time": "2023-02-21T05:48:46.787483",
     "exception": false,
     "start_time": "2023-02-21T05:48:46.779019",
     "status": "completed"
    },
    "tags": []
   },
   "source": [
    "---\n",
    "\n",
    "\n",
    "\n",
    "\n",
    "*Have questions or comments? Visit the [course discussion forum](https://www.kaggle.com/learn/intro-to-programming/discussion) to chat with other learners.*"
   ]
  }
 ],
 "metadata": {
  "kernelspec": {
   "display_name": "Python 3",
   "language": "python",
   "name": "python3"
  },
  "language_info": {
   "codemirror_mode": {
    "name": "ipython",
    "version": 3
   },
   "file_extension": ".py",
   "mimetype": "text/x-python",
   "name": "python",
   "nbconvert_exporter": "python",
   "pygments_lexer": "ipython3",
   "version": "3.7.12"
  },
  "papermill": {
   "default_parameters": {},
   "duration": 9.946023,
   "end_time": "2023-02-21T05:48:47.423684",
   "environment_variables": {},
   "exception": null,
   "input_path": "__notebook__.ipynb",
   "output_path": "__notebook__.ipynb",
   "parameters": {},
   "start_time": "2023-02-21T05:48:37.477661",
   "version": "2.3.4"
  }
 },
 "nbformat": 4,
 "nbformat_minor": 5
}
