{
 "cells": [
  {
   "cell_type": "markdown",
   "id": "1f5ad8e4",
   "metadata": {
    "papermill": {
     "duration": 0.006349,
     "end_time": "2023-02-21T04:33:27.101993",
     "exception": false,
     "start_time": "2023-02-21T04:33:27.095644",
     "status": "completed"
    },
    "tags": []
   },
   "source": [
    "**This notebook is an exercise in the [Intro to Programming](https://www.kaggle.com/learn/intro-to-programming) course.  You can reference the tutorial at [this link](https://www.kaggle.com/alexisbcook/functions).**\n",
    "\n",
    "---\n"
   ]
  },
  {
   "cell_type": "markdown",
   "id": "4fba987e",
   "metadata": {
    "papermill": {
     "duration": 0.00479,
     "end_time": "2023-02-21T04:33:27.112149",
     "exception": false,
     "start_time": "2023-02-21T04:33:27.107359",
     "status": "completed"
    },
    "tags": []
   },
   "source": [
    "In the tutorial, you learned about functions. In this exercise, you'll write some of your own!\n",
    "\n",
    "# Set up the notebook\n",
    "\n",
    "Run the next code cell without changes to set up the notebook."
   ]
  },
  {
   "cell_type": "code",
   "execution_count": 1,
   "id": "f01d20b0",
   "metadata": {
    "execution": {
     "iopub.execute_input": "2023-02-21T04:33:27.124560Z",
     "iopub.status.busy": "2023-02-21T04:33:27.123847Z",
     "iopub.status.idle": "2023-02-21T04:33:27.172543Z",
     "shell.execute_reply": "2023-02-21T04:33:27.171210Z"
    },
    "papermill": {
     "duration": 0.058992,
     "end_time": "2023-02-21T04:33:27.176191",
     "exception": false,
     "start_time": "2023-02-21T04:33:27.117199",
     "status": "completed"
    },
    "tags": []
   },
   "outputs": [
    {
     "name": "stdout",
     "output_type": "stream",
     "text": [
      "Setup complete.\n"
     ]
    }
   ],
   "source": [
    "# Set up the exercise\n",
    "import math\n",
    "from learntools.core import binder\n",
    "binder.bind(globals())\n",
    "from learntools.intro_to_programming.ex2 import *\n",
    "print('Setup complete.')"
   ]
  },
  {
   "cell_type": "markdown",
   "id": "a1af51c2",
   "metadata": {
    "papermill": {
     "duration": 0.005168,
     "end_time": "2023-02-21T04:33:27.187071",
     "exception": false,
     "start_time": "2023-02-21T04:33:27.181903",
     "status": "completed"
    },
    "tags": []
   },
   "source": [
    "# Question 1\n",
    "\n",
    "In the [House Prices - Advanced Regression Techniques competition](https://www.kaggle.com/c/house-prices-advanced-regression-techniques/overview), you need to use information like the number of bedrooms and bathrooms to predict the price of a house.  Inspired by this competition, you'll write your own function to do this.\n",
    "\n",
    "In the next code cell, create a function `get_expected_cost()` that has two arguments:\n",
    "- `beds` - number of bedrooms \n",
    "- `baths` - number of bathrooms\n",
    "\n",
    "It should return the expected cost of a house with that number of bedrooms and bathrooms.  Assume that:\n",
    "- the expected cost for a house with 0 bedrooms and 0 bathrooms is `80000`.  \n",
    "- each bedroom adds `30000` to the expected cost\n",
    "- each bathroom adds `10000` to the expected cost.\n",
    "\n",
    "For instance, \n",
    "- a house with 1 bedroom and 1 bathroom has an expected cost of `120000`, and \n",
    "- a house with 2 bedrooms and 1 bathroom has an expected cost of `150000`."
   ]
  },
  {
   "cell_type": "code",
   "execution_count": 2,
   "id": "1461cb84",
   "metadata": {
    "execution": {
     "iopub.execute_input": "2023-02-21T04:33:27.198552Z",
     "iopub.status.busy": "2023-02-21T04:33:27.198155Z",
     "iopub.status.idle": "2023-02-21T04:33:27.209546Z",
     "shell.execute_reply": "2023-02-21T04:33:27.208400Z"
    },
    "papermill": {
     "duration": 0.019433,
     "end_time": "2023-02-21T04:33:27.211419",
     "exception": false,
     "start_time": "2023-02-21T04:33:27.191986",
     "status": "completed"
    },
    "tags": []
   },
   "outputs": [
    {
     "data": {
      "application/javascript": [
       "parent.postMessage({\"jupyterEvent\": \"custom.exercise_interaction\", \"data\": {\"outcomeType\": 1, \"valueTowardsCompletion\": 0.2, \"interactionType\": 1, \"questionType\": 2, \"questionId\": \"1_GetExpectedCost\", \"learnToolsVersion\": \"0.3.4\", \"failureMessage\": \"\", \"exceptionClass\": \"\", \"trace\": \"\"}}, \"*\")"
      ],
      "text/plain": [
       "<IPython.core.display.Javascript object>"
      ]
     },
     "metadata": {},
     "output_type": "display_data"
    },
    {
     "data": {
      "text/markdown": [
       "<span style=\"color:#33cc33\">Correct</span>"
      ],
      "text/plain": [
       "Correct"
      ]
     },
     "metadata": {},
     "output_type": "display_data"
    }
   ],
   "source": [
    "# TODO: Complete the function\n",
    "def get_expected_cost(beds, baths):\n",
    "    value = 80000+(beds*30000)+(baths*10000)\n",
    "    return value\n",
    "\n",
    "# Check your answer \n",
    "q1.check()"
   ]
  },
  {
   "cell_type": "code",
   "execution_count": 3,
   "id": "0cf54688",
   "metadata": {
    "execution": {
     "iopub.execute_input": "2023-02-21T04:33:27.224385Z",
     "iopub.status.busy": "2023-02-21T04:33:27.224057Z",
     "iopub.status.idle": "2023-02-21T04:33:27.232250Z",
     "shell.execute_reply": "2023-02-21T04:33:27.231390Z"
    },
    "papermill": {
     "duration": 0.016938,
     "end_time": "2023-02-21T04:33:27.234181",
     "exception": false,
     "start_time": "2023-02-21T04:33:27.217243",
     "status": "completed"
    },
    "tags": []
   },
   "outputs": [
    {
     "data": {
      "application/javascript": [
       "parent.postMessage({\"jupyterEvent\": \"custom.exercise_interaction\", \"data\": {\"interactionType\": 2, \"questionType\": 2, \"questionId\": \"1_GetExpectedCost\", \"learnToolsVersion\": \"0.3.4\", \"valueTowardsCompletion\": 0.0, \"failureMessage\": \"\", \"exceptionClass\": \"\", \"trace\": \"\", \"outcomeType\": 4}}, \"*\")"
      ],
      "text/plain": [
       "<IPython.core.display.Javascript object>"
      ]
     },
     "metadata": {},
     "output_type": "display_data"
    },
    {
     "data": {
      "text/markdown": [
       "<span style=\"color:#3366cc\">Hint:</span> The value should be the base cost (`80000`), plus the total cost of the bedrooms (`30000 * beds`), plus the total cost of the bathrooms (`10000 * baths`)."
      ],
      "text/plain": [
       "Hint: The value should be the base cost (`80000`), plus the total cost of the bedrooms (`30000 * beds`), plus the total cost of the bathrooms (`10000 * baths`)."
      ]
     },
     "metadata": {},
     "output_type": "display_data"
    }
   ],
   "source": [
    "# Uncomment to see a hint\n",
    "q1.hint()\n",
    "\n",
    "# Uncomment to view the solution\n",
    "#q1.solution()"
   ]
  },
  {
   "cell_type": "markdown",
   "id": "38d43a1d",
   "metadata": {
    "papermill": {
     "duration": 0.006085,
     "end_time": "2023-02-21T04:33:27.245946",
     "exception": false,
     "start_time": "2023-02-21T04:33:27.239861",
     "status": "completed"
    },
    "tags": []
   },
   "source": [
    "# Question 2\n",
    "\n",
    "You are thinking about buying a home and want to get an idea of how much you will spend, based on the number of bedrooms and bathrooms.  You are trying to decide between four different options:\n",
    "- Option 1: house with two bedrooms and three bathrooms\n",
    "- Option 2: house with three bedrooms and two bathrooms\n",
    "- Option 3: house with three bedrooms and three bathrooms\n",
    "- Option 4: house with three bedrooms and four bathrooms\n",
    "\n",
    "Use the `get_expected_cost()` function you defined in question 1 to set `option_1`, `option_2`, `option_3`, and `option_4` to the expected cost of each option."
   ]
  },
  {
   "cell_type": "code",
   "execution_count": 4,
   "id": "d7943b69",
   "metadata": {
    "execution": {
     "iopub.execute_input": "2023-02-21T04:33:27.258937Z",
     "iopub.status.busy": "2023-02-21T04:33:27.258566Z",
     "iopub.status.idle": "2023-02-21T04:33:27.268989Z",
     "shell.execute_reply": "2023-02-21T04:33:27.267765Z"
    },
    "papermill": {
     "duration": 0.019272,
     "end_time": "2023-02-21T04:33:27.271154",
     "exception": false,
     "start_time": "2023-02-21T04:33:27.251882",
     "status": "completed"
    },
    "tags": []
   },
   "outputs": [
    {
     "name": "stdout",
     "output_type": "stream",
     "text": [
      "170000\n",
      "190000\n",
      "200000\n",
      "210000\n"
     ]
    },
    {
     "data": {
      "application/javascript": [
       "parent.postMessage({\"jupyterEvent\": \"custom.exercise_interaction\", \"data\": {\"outcomeType\": 1, \"valueTowardsCompletion\": 0.2, \"interactionType\": 1, \"questionType\": 1, \"questionId\": \"2_RunGetExpectedCost\", \"learnToolsVersion\": \"0.3.4\", \"failureMessage\": \"\", \"exceptionClass\": \"\", \"trace\": \"\"}}, \"*\")"
      ],
      "text/plain": [
       "<IPython.core.display.Javascript object>"
      ]
     },
     "metadata": {},
     "output_type": "display_data"
    },
    {
     "data": {
      "text/markdown": [
       "<span style=\"color:#33cc33\">Correct</span>"
      ],
      "text/plain": [
       "Correct"
      ]
     },
     "metadata": {},
     "output_type": "display_data"
    }
   ],
   "source": [
    "# TODO: Use the get_expected_cost function to fill in each value\n",
    "option_one = get_expected_cost(2,3)\n",
    "option_two = get_expected_cost(3,2)\n",
    "option_three = get_expected_cost(3,3)\n",
    "option_four = get_expected_cost(3,4)\n",
    "\n",
    "print(option_one)\n",
    "print(option_two)\n",
    "print(option_three)\n",
    "print(option_four)\n",
    "\n",
    "# Check your answer\n",
    "q2.check()"
   ]
  },
  {
   "cell_type": "code",
   "execution_count": 5,
   "id": "d9bffbce",
   "metadata": {
    "execution": {
     "iopub.execute_input": "2023-02-21T04:33:27.284667Z",
     "iopub.status.busy": "2023-02-21T04:33:27.284237Z",
     "iopub.status.idle": "2023-02-21T04:33:27.289876Z",
     "shell.execute_reply": "2023-02-21T04:33:27.288463Z"
    },
    "papermill": {
     "duration": 0.014849,
     "end_time": "2023-02-21T04:33:27.292032",
     "exception": false,
     "start_time": "2023-02-21T04:33:27.277183",
     "status": "completed"
    },
    "tags": []
   },
   "outputs": [],
   "source": [
    "# Uncomment to see a hint\n",
    "#q2.hint()\n",
    "\n",
    "# Uncomment to view the solution\n",
    "#q2.solution()"
   ]
  },
  {
   "cell_type": "markdown",
   "id": "a8ee1900",
   "metadata": {
    "papermill": {
     "duration": 0.005632,
     "end_time": "2023-02-21T04:33:27.303808",
     "exception": false,
     "start_time": "2023-02-21T04:33:27.298176",
     "status": "completed"
    },
    "tags": []
   },
   "source": [
    "# Question 3\n",
    "\n",
    "You're a home decorator, and you'd like to use Python to streamline some of your work.  Specifically, you're creating a tool that you intend to use to calculate the cost of painting a room.\n",
    "\n",
    "As a first step, define a function `get_cost()` that takes as input:\n",
    "- `sqft_walls` = total square feet of walls to be painted\n",
    "- `sqft_ceiling` = square feet of ceiling to be painted\n",
    "- `sqft_per_gallon` = number of square feet that you can cover with one gallon of paint\n",
    "- `cost_per_gallon` = cost (in dollars) of one gallon of paint\n",
    "\n",
    "It should return the cost (in dollars) of putting one coat of paint on all walls and the ceiling.  Assume you can buy the exact amount of paint that you need, so you can buy partial gallons (e.g., if you need 7.523 gallons, you can buy that exact amount, instead of needing to buy 8 gallons and waste some paint).  Do not round your answer."
   ]
  },
  {
   "cell_type": "code",
   "execution_count": 6,
   "id": "ed6177da",
   "metadata": {
    "execution": {
     "iopub.execute_input": "2023-02-21T04:33:27.317336Z",
     "iopub.status.busy": "2023-02-21T04:33:27.316943Z",
     "iopub.status.idle": "2023-02-21T04:33:27.325244Z",
     "shell.execute_reply": "2023-02-21T04:33:27.324241Z"
    },
    "papermill": {
     "duration": 0.017465,
     "end_time": "2023-02-21T04:33:27.327061",
     "exception": false,
     "start_time": "2023-02-21T04:33:27.309596",
     "status": "completed"
    },
    "tags": []
   },
   "outputs": [
    {
     "data": {
      "application/javascript": [
       "parent.postMessage({\"jupyterEvent\": \"custom.exercise_interaction\", \"data\": {\"outcomeType\": 1, \"valueTowardsCompletion\": 0.2, \"interactionType\": 1, \"questionType\": 2, \"questionId\": \"3_GetCostPaint\", \"learnToolsVersion\": \"0.3.4\", \"failureMessage\": \"\", \"exceptionClass\": \"\", \"trace\": \"\"}}, \"*\")"
      ],
      "text/plain": [
       "<IPython.core.display.Javascript object>"
      ]
     },
     "metadata": {},
     "output_type": "display_data"
    },
    {
     "data": {
      "text/markdown": [
       "<span style=\"color:#33cc33\">Correct</span>"
      ],
      "text/plain": [
       "Correct"
      ]
     },
     "metadata": {},
     "output_type": "display_data"
    }
   ],
   "source": [
    "# TODO: Finish defining the function\n",
    "def get_cost(sqft_walls, sqft_ceiling, sqft_per_gallon, cost_per_gallon):\n",
    "    cost = ((sqft_walls + sqft_ceiling)/sqft_per_gallon)*cost_per_gallon\n",
    "    return cost\n",
    "\n",
    "# Check your answer\n",
    "q3.check()"
   ]
  },
  {
   "cell_type": "code",
   "execution_count": 7,
   "id": "07ab0495",
   "metadata": {
    "execution": {
     "iopub.execute_input": "2023-02-21T04:33:27.341022Z",
     "iopub.status.busy": "2023-02-21T04:33:27.340643Z",
     "iopub.status.idle": "2023-02-21T04:33:27.344339Z",
     "shell.execute_reply": "2023-02-21T04:33:27.343411Z"
    },
    "papermill": {
     "duration": 0.012873,
     "end_time": "2023-02-21T04:33:27.345977",
     "exception": false,
     "start_time": "2023-02-21T04:33:27.333104",
     "status": "completed"
    },
    "tags": []
   },
   "outputs": [],
   "source": [
    "# Uncomment to see a hint\n",
    "#q3.hint()\n",
    "\n",
    "# Uncomment to view the solution\n",
    "#q3.solution()"
   ]
  },
  {
   "cell_type": "markdown",
   "id": "43256688",
   "metadata": {
    "papermill": {
     "duration": 0.006786,
     "end_time": "2023-02-21T04:33:27.359562",
     "exception": false,
     "start_time": "2023-02-21T04:33:27.352776",
     "status": "completed"
    },
    "tags": []
   },
   "source": [
    "# Question 4\n",
    "\n",
    "Use the `get_cost()` function you defined in Question 3 to calculate the cost of applying one coat of paint to a room with:\n",
    "- 432 square feet of walls, and\n",
    "- 144 square feet of ceiling.\n",
    "\n",
    "Assume that one gallon of paint covers 400 square feet and costs $15.  As in Question 3, assume you can buy partial gallons of paint.  Do not round your answer."
   ]
  },
  {
   "cell_type": "code",
   "execution_count": 8,
   "id": "52a10db7",
   "metadata": {
    "execution": {
     "iopub.execute_input": "2023-02-21T04:33:27.374206Z",
     "iopub.status.busy": "2023-02-21T04:33:27.373778Z",
     "iopub.status.idle": "2023-02-21T04:33:27.382749Z",
     "shell.execute_reply": "2023-02-21T04:33:27.381939Z"
    },
    "papermill": {
     "duration": 0.019102,
     "end_time": "2023-02-21T04:33:27.384871",
     "exception": false,
     "start_time": "2023-02-21T04:33:27.365769",
     "status": "completed"
    },
    "tags": []
   },
   "outputs": [
    {
     "data": {
      "application/javascript": [
       "parent.postMessage({\"jupyterEvent\": \"custom.exercise_interaction\", \"data\": {\"outcomeType\": 1, \"valueTowardsCompletion\": 0.2, \"interactionType\": 1, \"questionType\": 1, \"questionId\": \"4_GetCostPaintExample\", \"learnToolsVersion\": \"0.3.4\", \"failureMessage\": \"\", \"exceptionClass\": \"\", \"trace\": \"\"}}, \"*\")"
      ],
      "text/plain": [
       "<IPython.core.display.Javascript object>"
      ]
     },
     "metadata": {},
     "output_type": "display_data"
    },
    {
     "data": {
      "text/markdown": [
       "<span style=\"color:#33cc33\">Correct</span>"
      ],
      "text/plain": [
       "Correct"
      ]
     },
     "metadata": {},
     "output_type": "display_data"
    }
   ],
   "source": [
    "# TODO: Set the project_cost variable to the cost of the project\n",
    "project_cost = get_cost(432,144,400, 15)\n",
    "\n",
    "# Check your answer\n",
    "q4.check()"
   ]
  },
  {
   "cell_type": "code",
   "execution_count": 9,
   "id": "222baa52",
   "metadata": {
    "execution": {
     "iopub.execute_input": "2023-02-21T04:33:27.399334Z",
     "iopub.status.busy": "2023-02-21T04:33:27.398901Z",
     "iopub.status.idle": "2023-02-21T04:33:27.402990Z",
     "shell.execute_reply": "2023-02-21T04:33:27.402215Z"
    },
    "papermill": {
     "duration": 0.013222,
     "end_time": "2023-02-21T04:33:27.404561",
     "exception": false,
     "start_time": "2023-02-21T04:33:27.391339",
     "status": "completed"
    },
    "tags": []
   },
   "outputs": [],
   "source": [
    "# Uncomment to see a hint\n",
    "#q4.hint()\n",
    "\n",
    "# Uncomment to view the solution\n",
    "#q4.solution()"
   ]
  },
  {
   "cell_type": "markdown",
   "id": "b2397de7",
   "metadata": {
    "papermill": {
     "duration": 0.005992,
     "end_time": "2023-02-21T04:33:27.416785",
     "exception": false,
     "start_time": "2023-02-21T04:33:27.410793",
     "status": "completed"
    },
    "tags": []
   },
   "source": [
    "# 🌶️ Question 5\n",
    "\n",
    "Now say you can no longer buy fractions of a gallon.  (For instance, if you need 4.3 gallons to do a project, then you have to buy 5 gallons of paint.)\n",
    "\n",
    "With this new scenario, you will create a new function `get_actual_cost` that uses the same inputs and calculates the cost of your project.\n",
    "\n",
    "One function that you'll need to use to do this is `math.ceil()`.  We demonstrate usage of this function in the code cell below.  It takes as a number as input and rounds the number up to the nearest integer.  \n",
    "\n",
    "Run the next code cell to test this function for yourself.  Feel free to change the value of `test_value` and make sure `math.ceil()` returns the number you expect."
   ]
  },
  {
   "cell_type": "code",
   "execution_count": 10,
   "id": "94e359ed",
   "metadata": {
    "execution": {
     "iopub.execute_input": "2023-02-21T04:33:27.430780Z",
     "iopub.status.busy": "2023-02-21T04:33:27.430373Z",
     "iopub.status.idle": "2023-02-21T04:33:27.436187Z",
     "shell.execute_reply": "2023-02-21T04:33:27.434514Z"
    },
    "papermill": {
     "duration": 0.015465,
     "end_time": "2023-02-21T04:33:27.438310",
     "exception": false,
     "start_time": "2023-02-21T04:33:27.422845",
     "status": "completed"
    },
    "tags": []
   },
   "outputs": [
    {
     "name": "stdout",
     "output_type": "stream",
     "text": [
      "3\n"
     ]
    }
   ],
   "source": [
    "test_value = 2.17\n",
    "\n",
    "rounded_value = math.ceil(test_value)\n",
    "print(rounded_value)"
   ]
  },
  {
   "cell_type": "markdown",
   "id": "88fa7208",
   "metadata": {
    "papermill": {
     "duration": 0.006459,
     "end_time": "2023-02-21T04:33:27.451484",
     "exception": false,
     "start_time": "2023-02-21T04:33:27.445025",
     "status": "completed"
    },
    "tags": []
   },
   "source": [
    "Use the next code cell to define the function `get_actual_cost()`.  You'll need to use the `math.ceil()` function to do this.\n",
    "\n",
    "When answering this question, note that it's completely valid to define a function that makes use of another function.  For instance, we can define a function `round_up_and_divide_by_three` that makes use of the `math.ceil` function:\n",
    "```\n",
    "def round_up_and_divide_by_three(num):\n",
    "    new_value = math.ceil(num)\n",
    "    final_value = new_value / 3\n",
    "    return final_value\n",
    "```"
   ]
  },
  {
   "cell_type": "code",
   "execution_count": 11,
   "id": "317488ec",
   "metadata": {
    "execution": {
     "iopub.execute_input": "2023-02-21T04:33:27.466392Z",
     "iopub.status.busy": "2023-02-21T04:33:27.465939Z",
     "iopub.status.idle": "2023-02-21T04:33:27.474893Z",
     "shell.execute_reply": "2023-02-21T04:33:27.473336Z"
    },
    "papermill": {
     "duration": 0.018817,
     "end_time": "2023-02-21T04:33:27.476804",
     "exception": false,
     "start_time": "2023-02-21T04:33:27.457987",
     "status": "completed"
    },
    "tags": []
   },
   "outputs": [
    {
     "data": {
      "application/javascript": [
       "parent.postMessage({\"jupyterEvent\": \"custom.exercise_interaction\", \"data\": {\"outcomeType\": 1, \"valueTowardsCompletion\": 0.2, \"interactionType\": 1, \"questionType\": 2, \"questionId\": \"5_NoMoreFractions\", \"learnToolsVersion\": \"0.3.4\", \"failureMessage\": \"\", \"exceptionClass\": \"\", \"trace\": \"\"}}, \"*\")"
      ],
      "text/plain": [
       "<IPython.core.display.Javascript object>"
      ]
     },
     "metadata": {},
     "output_type": "display_data"
    },
    {
     "data": {
      "text/markdown": [
       "<span style=\"color:#33cc33\">Correct</span>"
      ],
      "text/plain": [
       "Correct"
      ]
     },
     "metadata": {},
     "output_type": "display_data"
    }
   ],
   "source": [
    "def get_actual_cost(sqft_walls, sqft_ceiling, sqft_per_gallon, cost_per_gallon):\n",
    "    cost = math.ceil(((sqft_walls + sqft_ceiling) / sqft_per_gallon)) * cost_per_gallon\n",
    "    return cost\n",
    "\n",
    "# Check your answer\n",
    "q5.check()"
   ]
  },
  {
   "cell_type": "code",
   "execution_count": 12,
   "id": "58d724b8",
   "metadata": {
    "execution": {
     "iopub.execute_input": "2023-02-21T04:33:27.492447Z",
     "iopub.status.busy": "2023-02-21T04:33:27.492048Z",
     "iopub.status.idle": "2023-02-21T04:33:27.496529Z",
     "shell.execute_reply": "2023-02-21T04:33:27.495542Z"
    },
    "papermill": {
     "duration": 0.014785,
     "end_time": "2023-02-21T04:33:27.498596",
     "exception": false,
     "start_time": "2023-02-21T04:33:27.483811",
     "status": "completed"
    },
    "tags": []
   },
   "outputs": [],
   "source": [
    "# Uncomment to see a hint\n",
    "#q5.hint()\n",
    "\n",
    "# Uncomment to view the solution\n",
    "#q5.solution()"
   ]
  },
  {
   "cell_type": "markdown",
   "id": "a25d15b6",
   "metadata": {
    "papermill": {
     "duration": 0.00644,
     "end_time": "2023-02-21T04:33:27.512186",
     "exception": false,
     "start_time": "2023-02-21T04:33:27.505746",
     "status": "completed"
    },
    "tags": []
   },
   "source": [
    "Once your function is verified as correct, run the next code cell to calculate the updated cost of your project."
   ]
  },
  {
   "cell_type": "code",
   "execution_count": 13,
   "id": "1e8349fc",
   "metadata": {
    "execution": {
     "iopub.execute_input": "2023-02-21T04:33:27.527315Z",
     "iopub.status.busy": "2023-02-21T04:33:27.526873Z",
     "iopub.status.idle": "2023-02-21T04:33:27.536100Z",
     "shell.execute_reply": "2023-02-21T04:33:27.534819Z"
    },
    "papermill": {
     "duration": 0.019796,
     "end_time": "2023-02-21T04:33:27.538670",
     "exception": false,
     "start_time": "2023-02-21T04:33:27.518874",
     "status": "completed"
    },
    "tags": []
   },
   "outputs": [
    {
     "data": {
      "text/plain": [
       "30"
      ]
     },
     "execution_count": 13,
     "metadata": {},
     "output_type": "execute_result"
    }
   ],
   "source": [
    "get_actual_cost(432, 144, 400, 15) "
   ]
  },
  {
   "cell_type": "markdown",
   "id": "b6091506",
   "metadata": {
    "papermill": {
     "duration": 0.006971,
     "end_time": "2023-02-21T04:33:27.553518",
     "exception": false,
     "start_time": "2023-02-21T04:33:27.546547",
     "status": "completed"
    },
    "tags": []
   },
   "source": [
    "Say you're working with a slightly larger room.  Run the next code cell to calculate the cost of the project."
   ]
  },
  {
   "cell_type": "code",
   "execution_count": 14,
   "id": "be43b5b1",
   "metadata": {
    "execution": {
     "iopub.execute_input": "2023-02-21T04:33:27.570700Z",
     "iopub.status.busy": "2023-02-21T04:33:27.569039Z",
     "iopub.status.idle": "2023-02-21T04:33:27.576350Z",
     "shell.execute_reply": "2023-02-21T04:33:27.575545Z"
    },
    "papermill": {
     "duration": 0.018607,
     "end_time": "2023-02-21T04:33:27.579125",
     "exception": false,
     "start_time": "2023-02-21T04:33:27.560518",
     "status": "completed"
    },
    "tags": []
   },
   "outputs": [
    {
     "data": {
      "text/plain": [
       "45"
      ]
     },
     "execution_count": 14,
     "metadata": {},
     "output_type": "execute_result"
    }
   ],
   "source": [
    "get_actual_cost(594, 288, 400, 15) "
   ]
  },
  {
   "cell_type": "markdown",
   "id": "d0ca7619",
   "metadata": {
    "papermill": {
     "duration": 0.006603,
     "end_time": "2023-02-21T04:33:27.593134",
     "exception": false,
     "start_time": "2023-02-21T04:33:27.586531",
     "status": "completed"
    },
    "tags": []
   },
   "source": [
    "# Keep going\n",
    "\n",
    "Continue to learn about **[data types](https://www.kaggle.com/alexisbcook/data-types)**."
   ]
  },
  {
   "cell_type": "markdown",
   "id": "44b11428",
   "metadata": {
    "papermill": {
     "duration": 0.006551,
     "end_time": "2023-02-21T04:33:27.606485",
     "exception": false,
     "start_time": "2023-02-21T04:33:27.599934",
     "status": "completed"
    },
    "tags": []
   },
   "source": [
    "---\n",
    "\n",
    "\n",
    "\n",
    "\n",
    "*Have questions or comments? Visit the [course discussion forum](https://www.kaggle.com/learn/intro-to-programming/discussion) to chat with other learners.*"
   ]
  }
 ],
 "metadata": {
  "kernelspec": {
   "display_name": "Python 3",
   "language": "python",
   "name": "python3"
  },
  "language_info": {
   "codemirror_mode": {
    "name": "ipython",
    "version": 3
   },
   "file_extension": ".py",
   "mimetype": "text/x-python",
   "name": "python",
   "nbconvert_exporter": "python",
   "pygments_lexer": "ipython3",
   "version": "3.7.12"
  },
  "papermill": {
   "default_parameters": {},
   "duration": 10.138235,
   "end_time": "2023-02-21T04:33:28.234383",
   "environment_variables": {},
   "exception": null,
   "input_path": "__notebook__.ipynb",
   "output_path": "__notebook__.ipynb",
   "parameters": {},
   "start_time": "2023-02-21T04:33:18.096148",
   "version": "2.3.4"
  }
 },
 "nbformat": 4,
 "nbformat_minor": 5
}
