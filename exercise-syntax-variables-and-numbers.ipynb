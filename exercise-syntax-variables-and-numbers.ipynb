{
 "cells": [
  {
   "cell_type": "markdown",
   "id": "3a7aede0",
   "metadata": {
    "papermill": {
     "duration": 0.006149,
     "end_time": "2023-02-21T06:19:55.541420",
     "exception": false,
     "start_time": "2023-02-21T06:19:55.535271",
     "status": "completed"
    },
    "tags": []
   },
   "source": [
    "**This notebook is an exercise in the [Python](https://www.kaggle.com/learn/python) course.  You can reference the tutorial at [this link](https://www.kaggle.com/colinmorris/hello-python).**\n",
    "\n",
    "---\n"
   ]
  },
  {
   "cell_type": "markdown",
   "id": "b3c8cb46",
   "metadata": {
    "papermill": {
     "duration": 0.005025,
     "end_time": "2023-02-21T06:19:55.551955",
     "exception": false,
     "start_time": "2023-02-21T06:19:55.546930",
     "status": "completed"
    },
    "tags": []
   },
   "source": [
    "Welcome to your first set of Python coding problems.  If this is your first time using Kaggle Notebooks, welcome! \n",
    "\n",
    "Notebooks are composed of blocks (called \"cells\") of text and code. Each of these is editable, though you'll mainly be editing the code cells to answer some questions.\n",
    "\n",
    "To get started, try running the code cell below (by pressing the ► button, or clicking on the cell and pressing ctrl+enter on your keyboard)."
   ]
  },
  {
   "cell_type": "code",
   "execution_count": 1,
   "id": "2f46786b",
   "metadata": {
    "execution": {
     "iopub.execute_input": "2023-02-21T06:19:55.564458Z",
     "iopub.status.busy": "2023-02-21T06:19:55.563942Z",
     "iopub.status.idle": "2023-02-21T06:19:55.575054Z",
     "shell.execute_reply": "2023-02-21T06:19:55.574319Z"
    },
    "papermill": {
     "duration": 0.020339,
     "end_time": "2023-02-21T06:19:55.577610",
     "exception": false,
     "start_time": "2023-02-21T06:19:55.557271",
     "status": "completed"
    },
    "tags": []
   },
   "outputs": [
    {
     "name": "stdout",
     "output_type": "stream",
     "text": [
      "You've successfully run some Python code\n",
      "Congratulations!\n"
     ]
    }
   ],
   "source": [
    "print(\"You've successfully run some Python code\")\n",
    "print(\"Congratulations!\")"
   ]
  },
  {
   "cell_type": "markdown",
   "id": "4902391a",
   "metadata": {
    "papermill": {
     "duration": 0.005173,
     "end_time": "2023-02-21T06:19:55.589074",
     "exception": false,
     "start_time": "2023-02-21T06:19:55.583901",
     "status": "completed"
    },
    "tags": []
   },
   "source": [
    "Try adding another line of code in the cell above and re-running it. \n",
    "\n",
    "Now let's get a little fancier:  Add a new code cell by clicking on an existing code cell, hitting the escape key, and then hitting the `a` or `b` key.  The `a` key will add a cell above the current cell, and `b` adds a cell below.\n",
    "\n",
    "Great! Now you know how to use Notebooks.\n",
    "\n",
    "Each hands-on exercise starts by setting up our feedback and code checking mechanism. Run the code cell below to do that. Then you'll be ready to move on to question 0."
   ]
  },
  {
   "cell_type": "code",
   "execution_count": 2,
   "id": "ea97feba",
   "metadata": {
    "_kg_hide-input": true,
    "_kg_hide-output": true,
    "execution": {
     "iopub.execute_input": "2023-02-21T06:19:55.601477Z",
     "iopub.status.busy": "2023-02-21T06:19:55.600934Z",
     "iopub.status.idle": "2023-02-21T06:19:55.642015Z",
     "shell.execute_reply": "2023-02-21T06:19:55.640397Z"
    },
    "papermill": {
     "duration": 0.049698,
     "end_time": "2023-02-21T06:19:55.644043",
     "exception": false,
     "start_time": "2023-02-21T06:19:55.594345",
     "status": "completed"
    },
    "tags": []
   },
   "outputs": [
    {
     "name": "stdout",
     "output_type": "stream",
     "text": [
      "Setup complete! You're ready to start question 0.\n"
     ]
    }
   ],
   "source": [
    "from learntools.core import binder; binder.bind(globals())\n",
    "from learntools.python.ex1 import *\n",
    "print(\"Setup complete! You're ready to start question 0.\")"
   ]
  },
  {
   "cell_type": "markdown",
   "id": "db756490",
   "metadata": {
    "papermill": {
     "duration": 0.005244,
     "end_time": "2023-02-21T06:19:55.654888",
     "exception": false,
     "start_time": "2023-02-21T06:19:55.649644",
     "status": "completed"
    },
    "tags": []
   },
   "source": [
    "# 0.\n",
    "\n",
    "*This is a silly question intended as an introduction to the format we use for hands-on exercises throughout all Kaggle courses.*\n",
    "\n",
    "**What is your favorite color? **\n",
    "\n",
    "To complete this question, create a variable called `color` in the cell below with an appropriate value. The function call `q0.check()` (which we've already provided in the cell below) will check your answer."
   ]
  },
  {
   "cell_type": "code",
   "execution_count": 3,
   "id": "7abf59ce",
   "metadata": {
    "execution": {
     "iopub.execute_input": "2023-02-21T06:19:55.667172Z",
     "iopub.status.busy": "2023-02-21T06:19:55.666561Z",
     "iopub.status.idle": "2023-02-21T06:19:55.677100Z",
     "shell.execute_reply": "2023-02-21T06:19:55.675990Z"
    },
    "papermill": {
     "duration": 0.018824,
     "end_time": "2023-02-21T06:19:55.678981",
     "exception": false,
     "start_time": "2023-02-21T06:19:55.660157",
     "status": "completed"
    },
    "tags": []
   },
   "outputs": [
    {
     "data": {
      "application/javascript": [
       "parent.postMessage({\"jupyterEvent\": \"custom.exercise_interaction\", \"data\": {\"outcomeType\": 1, \"valueTowardsCompletion\": 0.25, \"interactionType\": 1, \"questionType\": 2, \"questionId\": \"0_ExerciseFormatTutorial\", \"learnToolsVersion\": \"0.3.4\", \"failureMessage\": \"\", \"exceptionClass\": \"\", \"trace\": \"\"}}, \"*\")"
      ],
      "text/plain": [
       "<IPython.core.display.Javascript object>"
      ]
     },
     "metadata": {},
     "output_type": "display_data"
    },
    {
     "data": {
      "text/markdown": [
       "<span style=\"color:#33cc33\">Correct:</span> What?! You got it right without needing a hint or anything? Drats. Well hey, you should still continue to the next step to get some practice asking for a hint and checking solutions. (Even though you obviously don't need any help here.)"
      ],
      "text/plain": [
       "Correct: What?! You got it right without needing a hint or anything? Drats. Well hey, you should still continue to the next step to get some practice asking for a hint and checking solutions. (Even though you obviously don't need any help here.)"
      ]
     },
     "metadata": {},
     "output_type": "display_data"
    }
   ],
   "source": [
    "# create a variable called color with an appropriate value on the line below\n",
    "# (Remember, strings in Python must be enclosed in 'single' or \"double\" quotes)\n",
    "color = \"blue\"\n",
    "\n",
    "# Check your answer\n",
    "q0.check()"
   ]
  },
  {
   "cell_type": "markdown",
   "id": "fb73b7bf",
   "metadata": {
    "papermill": {
     "duration": 0.00547,
     "end_time": "2023-02-21T06:19:55.690476",
     "exception": false,
     "start_time": "2023-02-21T06:19:55.685006",
     "status": "completed"
    },
    "tags": []
   },
   "source": [
    "Didn't get the right answer? How do you not even know your own favorite color?!\n",
    "\n",
    "Delete the `#` in the line below to make one of the lines run. You can choose between getting a hint or the full answer by choosing which line to remove the `#` from. \n",
    "\n",
    "Removing the `#` is called uncommenting, because it changes that line from a \"comment\" which Python doesn't run to code, which Python does run."
   ]
  },
  {
   "cell_type": "code",
   "execution_count": 4,
   "id": "007aaead",
   "metadata": {
    "execution": {
     "iopub.execute_input": "2023-02-21T06:19:55.703531Z",
     "iopub.status.busy": "2023-02-21T06:19:55.703184Z",
     "iopub.status.idle": "2023-02-21T06:19:55.711363Z",
     "shell.execute_reply": "2023-02-21T06:19:55.710299Z"
    },
    "papermill": {
     "duration": 0.016972,
     "end_time": "2023-02-21T06:19:55.713144",
     "exception": false,
     "start_time": "2023-02-21T06:19:55.696172",
     "status": "completed"
    },
    "tags": []
   },
   "outputs": [
    {
     "data": {
      "application/javascript": [
       "parent.postMessage({\"jupyterEvent\": \"custom.exercise_interaction\", \"data\": {\"interactionType\": 2, \"questionType\": 2, \"questionId\": \"0_ExerciseFormatTutorial\", \"learnToolsVersion\": \"0.3.4\", \"valueTowardsCompletion\": 0.0, \"failureMessage\": \"\", \"exceptionClass\": \"\", \"trace\": \"\", \"outcomeType\": 4}}, \"*\")"
      ],
      "text/plain": [
       "<IPython.core.display.Javascript object>"
      ]
     },
     "metadata": {},
     "output_type": "display_data"
    },
    {
     "data": {
      "text/markdown": [
       "<span style=\"color:#3366cc\">Hint:</span> Your favorite color rhymes with *glue*."
      ],
      "text/plain": [
       "Hint: Your favorite color rhymes with *glue*."
      ]
     },
     "metadata": {},
     "output_type": "display_data"
    }
   ],
   "source": [
    "q0.hint()\n",
    "#q0.solution()"
   ]
  },
  {
   "cell_type": "markdown",
   "id": "c6ac06ae",
   "metadata": {
    "papermill": {
     "duration": 0.005868,
     "end_time": "2023-02-21T06:19:55.725156",
     "exception": false,
     "start_time": "2023-02-21T06:19:55.719288",
     "status": "completed"
    },
    "tags": []
   },
   "source": [
    "The upcoming questions work the same way. The only thing that will change are the question numbers. For the next question, you'll call `q1.check()`, `q1.hint()`, `q1.solution()`, for question 2, you'll call `q2.check()`, and so on."
   ]
  },
  {
   "cell_type": "markdown",
   "id": "349c6e14",
   "metadata": {
    "papermill": {
     "duration": 0.005935,
     "end_time": "2023-02-21T06:19:55.737135",
     "exception": false,
     "start_time": "2023-02-21T06:19:55.731200",
     "status": "completed"
    },
    "tags": []
   },
   "source": [
    "<hr/>\n",
    "\n",
    "# 1.\n",
    "\n",
    "Complete the code below. In case it's helpful, here is the table of available arithmetic operations:\n",
    "\n",
    "\n",
    "\n",
    "| Operator     | Name           | Description                                            |\n",
    "|--------------|----------------|--------------------------------------------------------|\n",
    "| ``a + b``    | Addition       | Sum of ``a`` and ``b``                                 |\n",
    "| ``a - b``    | Subtraction    | Difference of ``a`` and ``b``                          |\n",
    "| ``a * b``    | Multiplication | Product of ``a`` and ``b``                             |\n",
    "| ``a / b``    | True division  | Quotient of ``a`` and ``b``                            |\n",
    "| ``a // b``   | Floor division | Quotient of ``a`` and ``b``, removing fractional parts |\n",
    "| ``a % b``    | Modulus        | Integer remainder after division of ``a`` by ``b``     |\n",
    "| ``a ** b``   | Exponentiation | ``a`` raised to the power of ``b``                     |\n",
    "| ``-a``       | Negation       | The negative of ``a``                                  |\n",
    "\n",
    "<span style=\"display:none\"></span>\n"
   ]
  },
  {
   "cell_type": "code",
   "execution_count": 5,
   "id": "f1c82db2",
   "metadata": {
    "execution": {
     "iopub.execute_input": "2023-02-21T06:19:55.751325Z",
     "iopub.status.busy": "2023-02-21T06:19:55.750895Z",
     "iopub.status.idle": "2023-02-21T06:19:55.760099Z",
     "shell.execute_reply": "2023-02-21T06:19:55.759096Z"
    },
    "papermill": {
     "duration": 0.018627,
     "end_time": "2023-02-21T06:19:55.762026",
     "exception": false,
     "start_time": "2023-02-21T06:19:55.743399",
     "status": "completed"
    },
    "tags": []
   },
   "outputs": [
    {
     "data": {
      "application/javascript": [
       "parent.postMessage({\"jupyterEvent\": \"custom.exercise_interaction\", \"data\": {\"outcomeType\": 1, \"valueTowardsCompletion\": 0.25, \"interactionType\": 1, \"questionType\": 1, \"questionId\": \"1_CircleArea\", \"learnToolsVersion\": \"0.3.4\", \"failureMessage\": \"\", \"exceptionClass\": \"\", \"trace\": \"\"}}, \"*\")"
      ],
      "text/plain": [
       "<IPython.core.display.Javascript object>"
      ]
     },
     "metadata": {},
     "output_type": "display_data"
    },
    {
     "data": {
      "text/markdown": [
       "<span style=\"color:#33cc33\">Correct</span>"
      ],
      "text/plain": [
       "Correct"
      ]
     },
     "metadata": {},
     "output_type": "display_data"
    }
   ],
   "source": [
    "pi = 3.14159 # approximate\n",
    "diameter = 3\n",
    "\n",
    "# Create a variable called 'radius' equal to half the diameter\n",
    "radius = diameter/2\n",
    "\n",
    "# Create a variable called 'area', using the formula for the area of a circle: pi times the radius squared\n",
    "area = pi * (radius**2)\n",
    "\n",
    "# Check your answer\n",
    "q1.check()"
   ]
  },
  {
   "cell_type": "code",
   "execution_count": 6,
   "id": "834f70f4",
   "metadata": {
    "execution": {
     "iopub.execute_input": "2023-02-21T06:19:55.776550Z",
     "iopub.status.busy": "2023-02-21T06:19:55.776225Z",
     "iopub.status.idle": "2023-02-21T06:19:55.780844Z",
     "shell.execute_reply": "2023-02-21T06:19:55.779654Z"
    },
    "papermill": {
     "duration": 0.014649,
     "end_time": "2023-02-21T06:19:55.783071",
     "exception": false,
     "start_time": "2023-02-21T06:19:55.768422",
     "status": "completed"
    },
    "tags": []
   },
   "outputs": [],
   "source": [
    "# Uncomment and run the lines below if you need help.\n",
    "#q1.hint()\n",
    "#q1.solution()"
   ]
  },
  {
   "cell_type": "markdown",
   "id": "768cc332",
   "metadata": {
    "papermill": {
     "duration": 0.005994,
     "end_time": "2023-02-21T06:19:55.795624",
     "exception": false,
     "start_time": "2023-02-21T06:19:55.789630",
     "status": "completed"
    },
    "tags": []
   },
   "source": [
    "<hr/>\n",
    "\n",
    "# 2.\n",
    "\n",
    "Add code to the following cell to swap variables `a` and `b` (so that `a` refers to the object previously referred to by `b` and vice versa)."
   ]
  },
  {
   "cell_type": "code",
   "execution_count": 7,
   "id": "11511425",
   "metadata": {
    "execution": {
     "iopub.execute_input": "2023-02-21T06:19:55.809530Z",
     "iopub.status.busy": "2023-02-21T06:19:55.809145Z",
     "iopub.status.idle": "2023-02-21T06:19:55.819842Z",
     "shell.execute_reply": "2023-02-21T06:19:55.818884Z"
    },
    "papermill": {
     "duration": 0.019807,
     "end_time": "2023-02-21T06:19:55.821458",
     "exception": false,
     "start_time": "2023-02-21T06:19:55.801651",
     "status": "completed"
    },
    "tags": []
   },
   "outputs": [
    {
     "data": {
      "application/javascript": [
       "parent.postMessage({\"jupyterEvent\": \"custom.exercise_interaction\", \"data\": {\"outcomeType\": 1, \"valueTowardsCompletion\": 0.25, \"interactionType\": 1, \"questionType\": 2, \"questionId\": \"2_VariableSwap\", \"learnToolsVersion\": \"0.3.4\", \"failureMessage\": \"\", \"exceptionClass\": \"\", \"trace\": \"\"}}, \"*\")"
      ],
      "text/plain": [
       "<IPython.core.display.Javascript object>"
      ]
     },
     "metadata": {},
     "output_type": "display_data"
    },
    {
     "data": {
      "text/markdown": [
       "<span style=\"color:#33cc33\">Correct:</span> \n",
       "\n",
       "The most straightforward solution is to use a third variable to temporarily store one of the old values. e.g.:\n",
       "\n",
       "    tmp = a\n",
       "    a = b\n",
       "    b = tmp\n",
       "\n",
       "If you've read lots of Python code, you might have seen the following trick to swap two variables in one line:\n",
       "\n",
       "    a, b = b, a\n",
       "\n",
       "We'll demystify this bit of Python magic later when we talk about *tuples*."
      ],
      "text/plain": [
       "Correct: \n",
       "\n",
       "The most straightforward solution is to use a third variable to temporarily store one of the old values. e.g.:\n",
       "\n",
       "    tmp = a\n",
       "    a = b\n",
       "    b = tmp\n",
       "\n",
       "If you've read lots of Python code, you might have seen the following trick to swap two variables in one line:\n",
       "\n",
       "    a, b = b, a\n",
       "\n",
       "We'll demystify this bit of Python magic later when we talk about *tuples*."
      ]
     },
     "metadata": {},
     "output_type": "display_data"
    }
   ],
   "source": [
    "########### Setup code - don't touch this part ######################\n",
    "# If you're curious, these are examples of lists. We'll talk about \n",
    "# them in depth a few lessons from now. For now, just know that they're\n",
    "# yet another type of Python object, like int or float.\n",
    "a = [1, 2, 3]\n",
    "b = [3, 2, 1]\n",
    "q2.store_original_ids()\n",
    "######################################################################\n",
    "\n",
    "# Your code goes here. Swap the values to which a and b refer.\n",
    "# If you get stuck, you can always uncomment one or both of the lines in\n",
    "# the next cell for a hint, or to peek at the solution.\n",
    "\n",
    "temp = a\n",
    "a = b\n",
    "b = temp\n",
    "\n",
    "######################################################################\n",
    "\n",
    "# Check your answer\n",
    "q2.check()"
   ]
  },
  {
   "cell_type": "code",
   "execution_count": 8,
   "id": "cecb86d1",
   "metadata": {
    "execution": {
     "iopub.execute_input": "2023-02-21T06:19:55.837189Z",
     "iopub.status.busy": "2023-02-21T06:19:55.836707Z",
     "iopub.status.idle": "2023-02-21T06:19:55.840873Z",
     "shell.execute_reply": "2023-02-21T06:19:55.840004Z"
    },
    "papermill": {
     "duration": 0.014471,
     "end_time": "2023-02-21T06:19:55.842541",
     "exception": false,
     "start_time": "2023-02-21T06:19:55.828070",
     "status": "completed"
    },
    "tags": []
   },
   "outputs": [],
   "source": [
    "#q2.hint()"
   ]
  },
  {
   "cell_type": "code",
   "execution_count": 9,
   "id": "981e19ee",
   "metadata": {
    "execution": {
     "iopub.execute_input": "2023-02-21T06:19:55.857254Z",
     "iopub.status.busy": "2023-02-21T06:19:55.856866Z",
     "iopub.status.idle": "2023-02-21T06:19:55.860533Z",
     "shell.execute_reply": "2023-02-21T06:19:55.859569Z"
    },
    "papermill": {
     "duration": 0.012877,
     "end_time": "2023-02-21T06:19:55.862128",
     "exception": false,
     "start_time": "2023-02-21T06:19:55.849251",
     "status": "completed"
    },
    "tags": []
   },
   "outputs": [],
   "source": [
    "#q2.solution()"
   ]
  },
  {
   "cell_type": "markdown",
   "id": "ccf2a3c5",
   "metadata": {
    "papermill": {
     "duration": 0.006138,
     "end_time": "2023-02-21T06:19:55.874808",
     "exception": false,
     "start_time": "2023-02-21T06:19:55.868670",
     "status": "completed"
    },
    "tags": []
   },
   "source": [
    "<hr/>\n",
    "\n",
    "# 3a.\n",
    "\n",
    "Add parentheses to the following expression so that it evaluates to 1."
   ]
  },
  {
   "cell_type": "code",
   "execution_count": 10,
   "id": "a854b401",
   "metadata": {
    "execution": {
     "iopub.execute_input": "2023-02-21T06:19:55.889365Z",
     "iopub.status.busy": "2023-02-21T06:19:55.888987Z",
     "iopub.status.idle": "2023-02-21T06:19:55.895008Z",
     "shell.execute_reply": "2023-02-21T06:19:55.894136Z"
    },
    "papermill": {
     "duration": 0.016307,
     "end_time": "2023-02-21T06:19:55.897579",
     "exception": false,
     "start_time": "2023-02-21T06:19:55.881272",
     "status": "completed"
    },
    "tags": []
   },
   "outputs": [
    {
     "data": {
      "text/plain": [
       "1"
      ]
     },
     "execution_count": 10,
     "metadata": {},
     "output_type": "execute_result"
    }
   ],
   "source": [
    "(5 - 3) // 2"
   ]
  },
  {
   "cell_type": "code",
   "execution_count": 11,
   "id": "fe1f3406",
   "metadata": {
    "execution": {
     "iopub.execute_input": "2023-02-21T06:19:55.912783Z",
     "iopub.status.busy": "2023-02-21T06:19:55.912380Z",
     "iopub.status.idle": "2023-02-21T06:19:55.916004Z",
     "shell.execute_reply": "2023-02-21T06:19:55.915366Z"
    },
    "papermill": {
     "duration": 0.012839,
     "end_time": "2023-02-21T06:19:55.917545",
     "exception": false,
     "start_time": "2023-02-21T06:19:55.904706",
     "status": "completed"
    },
    "tags": []
   },
   "outputs": [],
   "source": [
    "#q3.a.hint()"
   ]
  },
  {
   "cell_type": "code",
   "execution_count": 12,
   "id": "87c34dd3",
   "metadata": {
    "execution": {
     "iopub.execute_input": "2023-02-21T06:19:55.932408Z",
     "iopub.status.busy": "2023-02-21T06:19:55.931675Z",
     "iopub.status.idle": "2023-02-21T06:19:55.939323Z",
     "shell.execute_reply": "2023-02-21T06:19:55.938565Z"
    },
    "papermill": {
     "duration": 0.017045,
     "end_time": "2023-02-21T06:19:55.941104",
     "exception": false,
     "start_time": "2023-02-21T06:19:55.924059",
     "status": "completed"
    },
    "tags": []
   },
   "outputs": [
    {
     "data": {
      "application/javascript": [
       "parent.postMessage({\"jupyterEvent\": \"custom.exercise_interaction\", \"data\": {\"interactionType\": 3, \"questionType\": 4, \"questionId\": \"3.1_ArithmeticParensEasy\", \"learnToolsVersion\": \"0.3.4\", \"valueTowardsCompletion\": 0.0, \"failureMessage\": \"\", \"exceptionClass\": \"\", \"trace\": \"\", \"outcomeType\": 4}}, \"*\")"
      ],
      "text/plain": [
       "<IPython.core.display.Javascript object>"
      ]
     },
     "metadata": {},
     "output_type": "display_data"
    },
    {
     "data": {
      "text/markdown": [
       "<span style=\"color:#33cc99\">Solution:</span> \n",
       "```python\n",
       "(5 - 3) // 2\n",
       "```"
      ],
      "text/plain": [
       "Solution: \n",
       "```python\n",
       "(5 - 3) // 2\n",
       "```"
      ]
     },
     "metadata": {},
     "output_type": "display_data"
    }
   ],
   "source": [
    "# Check your answer (Run this code cell to receive credit!)\n",
    "q3.a.solution()"
   ]
  },
  {
   "cell_type": "markdown",
   "id": "32f77a51",
   "metadata": {
    "papermill": {
     "duration": 0.006613,
     "end_time": "2023-02-21T06:19:55.954572",
     "exception": false,
     "start_time": "2023-02-21T06:19:55.947959",
     "status": "completed"
    },
    "tags": []
   },
   "source": [
    "# 3b.  <span title=\"A bit spicy\" style=\"color: darkgreen \">🌶️</span>\n",
    "\n",
    "<small>Questions, like this one, marked a spicy pepper are a bit harder.</small>\n",
    "\n",
    "Add parentheses to the following expression so that it evaluates to 0."
   ]
  },
  {
   "cell_type": "code",
   "execution_count": 13,
   "id": "869322a6",
   "metadata": {
    "execution": {
     "iopub.execute_input": "2023-02-21T06:19:55.969681Z",
     "iopub.status.busy": "2023-02-21T06:19:55.969372Z",
     "iopub.status.idle": "2023-02-21T06:19:55.976246Z",
     "shell.execute_reply": "2023-02-21T06:19:55.975192Z"
    },
    "papermill": {
     "duration": 0.016554,
     "end_time": "2023-02-21T06:19:55.978022",
     "exception": false,
     "start_time": "2023-02-21T06:19:55.961468",
     "status": "completed"
    },
    "tags": []
   },
   "outputs": [
    {
     "data": {
      "text/plain": [
       "0"
      ]
     },
     "execution_count": 13,
     "metadata": {},
     "output_type": "execute_result"
    }
   ],
   "source": [
    "8 - (3 * 2) - (1 + 1)"
   ]
  },
  {
   "cell_type": "code",
   "execution_count": 14,
   "id": "8ab08ee1",
   "metadata": {
    "execution": {
     "iopub.execute_input": "2023-02-21T06:19:55.993358Z",
     "iopub.status.busy": "2023-02-21T06:19:55.993061Z",
     "iopub.status.idle": "2023-02-21T06:19:55.997361Z",
     "shell.execute_reply": "2023-02-21T06:19:55.996476Z"
    },
    "papermill": {
     "duration": 0.014174,
     "end_time": "2023-02-21T06:19:55.999197",
     "exception": false,
     "start_time": "2023-02-21T06:19:55.985023",
     "status": "completed"
    },
    "tags": []
   },
   "outputs": [],
   "source": [
    "#q3.b.hint()"
   ]
  },
  {
   "cell_type": "code",
   "execution_count": 15,
   "id": "3b678435",
   "metadata": {
    "execution": {
     "iopub.execute_input": "2023-02-21T06:19:56.014967Z",
     "iopub.status.busy": "2023-02-21T06:19:56.014642Z",
     "iopub.status.idle": "2023-02-21T06:19:56.021558Z",
     "shell.execute_reply": "2023-02-21T06:19:56.020792Z"
    },
    "papermill": {
     "duration": 0.017515,
     "end_time": "2023-02-21T06:19:56.023925",
     "exception": false,
     "start_time": "2023-02-21T06:19:56.006410",
     "status": "completed"
    },
    "tags": []
   },
   "outputs": [
    {
     "data": {
      "application/javascript": [
       "parent.postMessage({\"jupyterEvent\": \"custom.exercise_interaction\", \"data\": {\"interactionType\": 3, \"questionType\": 4, \"questionId\": \"3.2_ArithmeticParensHard\", \"learnToolsVersion\": \"0.3.4\", \"valueTowardsCompletion\": 0.0, \"failureMessage\": \"\", \"exceptionClass\": \"\", \"trace\": \"\", \"outcomeType\": 4}}, \"*\")"
      ],
      "text/plain": [
       "<IPython.core.display.Javascript object>"
      ]
     },
     "metadata": {},
     "output_type": "display_data"
    },
    {
     "data": {
      "text/markdown": [
       "<span style=\"color:#33cc99\">Solution:</span> `(8 - 3) * (2 - (1 + 1))` is one solution. There may be others."
      ],
      "text/plain": [
       "Solution: `(8 - 3) * (2 - (1 + 1))` is one solution. There may be others."
      ]
     },
     "metadata": {},
     "output_type": "display_data"
    }
   ],
   "source": [
    "# Check your answer (Run this code cell to receive credit!)\n",
    "q3.b.solution()"
   ]
  },
  {
   "cell_type": "markdown",
   "id": "c5de6c65",
   "metadata": {
    "papermill": {
     "duration": 0.007368,
     "end_time": "2023-02-21T06:19:56.039434",
     "exception": false,
     "start_time": "2023-02-21T06:19:56.032066",
     "status": "completed"
    },
    "tags": []
   },
   "source": [
    "<hr/>\n",
    "\n",
    "# 4. \n",
    "Alice, Bob and Carol have agreed to pool their Halloween candy and split it evenly among themselves.\n",
    "For the sake of their friendship, any candies left over will be smashed. For example, if they collectively\n",
    "bring home 91 candies, they'll take 30 each and smash 1.\n",
    "\n",
    "Write an arithmetic expression below to calculate how many candies they must smash for a given haul."
   ]
  },
  {
   "cell_type": "code",
   "execution_count": 16,
   "id": "16f4ca45",
   "metadata": {
    "execution": {
     "iopub.execute_input": "2023-02-21T06:19:56.056056Z",
     "iopub.status.busy": "2023-02-21T06:19:56.055690Z",
     "iopub.status.idle": "2023-02-21T06:19:56.064773Z",
     "shell.execute_reply": "2023-02-21T06:19:56.063617Z"
    },
    "papermill": {
     "duration": 0.01976,
     "end_time": "2023-02-21T06:19:56.066606",
     "exception": false,
     "start_time": "2023-02-21T06:19:56.046846",
     "status": "completed"
    },
    "tags": []
   },
   "outputs": [
    {
     "data": {
      "application/javascript": [
       "parent.postMessage({\"jupyterEvent\": \"custom.exercise_interaction\", \"data\": {\"outcomeType\": 1, \"valueTowardsCompletion\": 0.25, \"interactionType\": 1, \"questionType\": 1, \"questionId\": \"4_CandySplitting\", \"learnToolsVersion\": \"0.3.4\", \"failureMessage\": \"\", \"exceptionClass\": \"\", \"trace\": \"\"}}, \"*\")"
      ],
      "text/plain": [
       "<IPython.core.display.Javascript object>"
      ]
     },
     "metadata": {},
     "output_type": "display_data"
    },
    {
     "data": {
      "text/markdown": [
       "<span style=\"color:#33cc33\">Correct</span>"
      ],
      "text/plain": [
       "Correct"
      ]
     },
     "metadata": {},
     "output_type": "display_data"
    }
   ],
   "source": [
    "# Variables representing the number of candies collected by alice, bob, and carol\n",
    "alice_candies = 121\n",
    "bob_candies = 77\n",
    "carol_candies = 109\n",
    "\n",
    "# Your code goes here! Replace the right-hand side of this assignment with an expression\n",
    "# involving alice_candies, bob_candies, and carol_candies\n",
    "to_smash = (alice_candies + bob_candies + carol_candies) % 3\n",
    "\n",
    "# Check your answer\n",
    "q4.check()"
   ]
  },
  {
   "cell_type": "code",
   "execution_count": 17,
   "id": "7d13809d",
   "metadata": {
    "execution": {
     "iopub.execute_input": "2023-02-21T06:19:56.084335Z",
     "iopub.status.busy": "2023-02-21T06:19:56.083963Z",
     "iopub.status.idle": "2023-02-21T06:19:56.087512Z",
     "shell.execute_reply": "2023-02-21T06:19:56.086940Z"
    },
    "papermill": {
     "duration": 0.014451,
     "end_time": "2023-02-21T06:19:56.088968",
     "exception": false,
     "start_time": "2023-02-21T06:19:56.074517",
     "status": "completed"
    },
    "tags": []
   },
   "outputs": [],
   "source": [
    "#q4.hint()\n",
    "#q4.solution()"
   ]
  },
  {
   "cell_type": "markdown",
   "id": "777aa4fa",
   "metadata": {
    "papermill": {
     "duration": 0.007212,
     "end_time": "2023-02-21T06:19:56.103996",
     "exception": false,
     "start_time": "2023-02-21T06:19:56.096784",
     "status": "completed"
    },
    "tags": []
   },
   "source": [
    "# Keep Going\n",
    "\n",
    "Next up, you'll **[learn to write new functions and understand functions others write](https://www.kaggle.com/colinmorris/functions-and-getting-help)**. This will make you at least 10 times more productive as a Python programmer. "
   ]
  },
  {
   "cell_type": "markdown",
   "id": "5d044af2",
   "metadata": {
    "papermill": {
     "duration": 0.007355,
     "end_time": "2023-02-21T06:19:56.118748",
     "exception": false,
     "start_time": "2023-02-21T06:19:56.111393",
     "status": "completed"
    },
    "tags": []
   },
   "source": [
    "---\n",
    "\n",
    "\n",
    "\n",
    "\n",
    "*Have questions or comments? Visit the [course discussion forum](https://www.kaggle.com/learn/python/discussion) to chat with other learners.*"
   ]
  }
 ],
 "metadata": {
  "kernelspec": {
   "display_name": "Python 3",
   "language": "python",
   "name": "python3"
  },
  "language_info": {
   "codemirror_mode": {
    "name": "ipython",
    "version": 3
   },
   "file_extension": ".py",
   "mimetype": "text/x-python",
   "name": "python",
   "nbconvert_exporter": "python",
   "pygments_lexer": "ipython3",
   "version": "3.7.12"
  },
  "papermill": {
   "default_parameters": {},
   "duration": 8.357384,
   "end_time": "2023-02-21T06:19:56.746165",
   "environment_variables": {},
   "exception": null,
   "input_path": "__notebook__.ipynb",
   "output_path": "__notebook__.ipynb",
   "parameters": {},
   "start_time": "2023-02-21T06:19:48.388781",
   "version": "2.3.4"
  }
 },
 "nbformat": 4,
 "nbformat_minor": 5
}
