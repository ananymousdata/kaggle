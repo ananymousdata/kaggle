{
 "cells": [
  {
   "cell_type": "markdown",
   "id": "fd6540eb",
   "metadata": {
    "papermill": {
     "duration": 0.01108,
     "end_time": "2023-02-21T08:57:54.670608",
     "exception": false,
     "start_time": "2023-02-21T08:57:54.659528",
     "status": "completed"
    },
    "tags": []
   },
   "source": [
    "**This notebook is an exercise in the [Python](https://www.kaggle.com/learn/python) course.  You can reference the tutorial at [this link](https://www.kaggle.com/colinmorris/booleans-and-conditionals).**\n",
    "\n",
    "---\n"
   ]
  },
  {
   "cell_type": "markdown",
   "id": "f6884f6a",
   "metadata": {
    "papermill": {
     "duration": 0.008792,
     "end_time": "2023-02-21T08:57:54.688744",
     "exception": false,
     "start_time": "2023-02-21T08:57:54.679952",
     "status": "completed"
    },
    "tags": []
   },
   "source": [
    "In this exercise, you'll put to work what you have learned about booleans and conditionals.\n",
    "\n",
    "To get started, **run the setup code below** before writing your own code (and if you leave this notebook and come back later, don't forget to run the setup code again)."
   ]
  },
  {
   "cell_type": "code",
   "execution_count": 1,
   "id": "d345aee4",
   "metadata": {
    "execution": {
     "iopub.execute_input": "2023-02-21T08:57:54.710283Z",
     "iopub.status.busy": "2023-02-21T08:57:54.709786Z",
     "iopub.status.idle": "2023-02-21T08:57:54.762811Z",
     "shell.execute_reply": "2023-02-21T08:57:54.761508Z"
    },
    "papermill": {
     "duration": 0.067108,
     "end_time": "2023-02-21T08:57:54.765537",
     "exception": false,
     "start_time": "2023-02-21T08:57:54.698429",
     "status": "completed"
    },
    "tags": []
   },
   "outputs": [
    {
     "name": "stdout",
     "output_type": "stream",
     "text": [
      "Setup complete.\n"
     ]
    }
   ],
   "source": [
    "from learntools.core import binder; binder.bind(globals())\n",
    "from learntools.python.ex3 import *\n",
    "print('Setup complete.')"
   ]
  },
  {
   "cell_type": "markdown",
   "id": "df334fd4",
   "metadata": {
    "papermill": {
     "duration": 0.009107,
     "end_time": "2023-02-21T08:57:54.783539",
     "exception": false,
     "start_time": "2023-02-21T08:57:54.774432",
     "status": "completed"
    },
    "tags": []
   },
   "source": [
    "# 1.\n",
    "\n",
    "Many programming languages have [`sign`](https://en.wikipedia.org/wiki/Sign_function) available as a built-in function. Python doesn't, but we can define our own!\n",
    "\n",
    "In the cell below, define a function called `sign` which takes a numerical argument and returns -1 if it's negative, 1 if it's positive, and 0 if it's 0."
   ]
  },
  {
   "cell_type": "code",
   "execution_count": 2,
   "id": "b5851049",
   "metadata": {
    "execution": {
     "iopub.execute_input": "2023-02-21T08:57:54.802986Z",
     "iopub.status.busy": "2023-02-21T08:57:54.802226Z",
     "iopub.status.idle": "2023-02-21T08:57:54.814896Z",
     "shell.execute_reply": "2023-02-21T08:57:54.813755Z"
    },
    "papermill": {
     "duration": 0.025247,
     "end_time": "2023-02-21T08:57:54.817502",
     "exception": false,
     "start_time": "2023-02-21T08:57:54.792255",
     "status": "completed"
    },
    "tags": []
   },
   "outputs": [
    {
     "data": {
      "application/javascript": [
       "parent.postMessage({\"jupyterEvent\": \"custom.exercise_interaction\", \"data\": {\"outcomeType\": 1, \"valueTowardsCompletion\": 0.2, \"interactionType\": 1, \"questionType\": 2, \"questionId\": \"1_SignFunctionProblem\", \"learnToolsVersion\": \"0.3.4\", \"failureMessage\": \"\", \"exceptionClass\": \"\", \"trace\": \"\"}}, \"*\")"
      ],
      "text/plain": [
       "<IPython.core.display.Javascript object>"
      ]
     },
     "metadata": {},
     "output_type": "display_data"
    },
    {
     "data": {
      "text/markdown": [
       "<span style=\"color:#33cc33\">Correct</span>"
      ],
      "text/plain": [
       "Correct"
      ]
     },
     "metadata": {},
     "output_type": "display_data"
    }
   ],
   "source": [
    "# Your code goes here. Define a function called 'sign'\n",
    "def sign(number):\n",
    "    if(number==0):\n",
    "        result = 0\n",
    "    elif(number>0):\n",
    "        result = 1\n",
    "    else:\n",
    "        result = -1\n",
    "        \n",
    "    return result\n",
    "# Check your answer\n",
    "q1.check()"
   ]
  },
  {
   "cell_type": "code",
   "execution_count": 3,
   "id": "19183530",
   "metadata": {
    "execution": {
     "iopub.execute_input": "2023-02-21T08:57:54.838087Z",
     "iopub.status.busy": "2023-02-21T08:57:54.837441Z",
     "iopub.status.idle": "2023-02-21T08:57:54.842332Z",
     "shell.execute_reply": "2023-02-21T08:57:54.841454Z"
    },
    "papermill": {
     "duration": 0.017801,
     "end_time": "2023-02-21T08:57:54.844546",
     "exception": false,
     "start_time": "2023-02-21T08:57:54.826745",
     "status": "completed"
    },
    "tags": []
   },
   "outputs": [],
   "source": [
    "#q1.solution()"
   ]
  },
  {
   "cell_type": "markdown",
   "id": "96dc7b79",
   "metadata": {
    "papermill": {
     "duration": 0.008666,
     "end_time": "2023-02-21T08:57:54.862347",
     "exception": false,
     "start_time": "2023-02-21T08:57:54.853681",
     "status": "completed"
    },
    "tags": []
   },
   "source": [
    "# 2.\n",
    "\n",
    "We've decided to add \"logging\" to our `to_smash` function from the previous exercise."
   ]
  },
  {
   "cell_type": "code",
   "execution_count": 4,
   "id": "820ff1af",
   "metadata": {
    "execution": {
     "iopub.execute_input": "2023-02-21T08:57:54.882566Z",
     "iopub.status.busy": "2023-02-21T08:57:54.881889Z",
     "iopub.status.idle": "2023-02-21T08:57:54.897396Z",
     "shell.execute_reply": "2023-02-21T08:57:54.896196Z"
    },
    "papermill": {
     "duration": 0.02828,
     "end_time": "2023-02-21T08:57:54.899727",
     "exception": false,
     "start_time": "2023-02-21T08:57:54.871447",
     "status": "completed"
    },
    "tags": []
   },
   "outputs": [
    {
     "name": "stdout",
     "output_type": "stream",
     "text": [
      "Splitting 91 candies\n"
     ]
    },
    {
     "data": {
      "text/plain": [
       "1"
      ]
     },
     "execution_count": 4,
     "metadata": {},
     "output_type": "execute_result"
    }
   ],
   "source": [
    "def to_smash(total_candies):\n",
    "    \"\"\"Return the number of leftover candies that must be smashed after distributing\n",
    "    the given number of candies evenly between 3 friends.\n",
    "    \n",
    "    >>> to_smash(91)\n",
    "    1\n",
    "    \"\"\"\n",
    "    print(\"Splitting\", total_candies, \"candies\")\n",
    "    return total_candies % 3\n",
    "\n",
    "to_smash(91)"
   ]
  },
  {
   "cell_type": "markdown",
   "id": "7b322201",
   "metadata": {
    "papermill": {
     "duration": 0.009638,
     "end_time": "2023-02-21T08:57:54.918521",
     "exception": false,
     "start_time": "2023-02-21T08:57:54.908883",
     "status": "completed"
    },
    "tags": []
   },
   "source": [
    "What happens if we call it with `total_candies = 1`?"
   ]
  },
  {
   "cell_type": "code",
   "execution_count": 5,
   "id": "b7b0034b",
   "metadata": {
    "execution": {
     "iopub.execute_input": "2023-02-21T08:57:54.939129Z",
     "iopub.status.busy": "2023-02-21T08:57:54.938477Z",
     "iopub.status.idle": "2023-02-21T08:57:54.946105Z",
     "shell.execute_reply": "2023-02-21T08:57:54.944979Z"
    },
    "papermill": {
     "duration": 0.020403,
     "end_time": "2023-02-21T08:57:54.948239",
     "exception": false,
     "start_time": "2023-02-21T08:57:54.927836",
     "status": "completed"
    },
    "tags": []
   },
   "outputs": [
    {
     "name": "stdout",
     "output_type": "stream",
     "text": [
      "Splitting 1 candies\n"
     ]
    },
    {
     "data": {
      "text/plain": [
       "1"
      ]
     },
     "execution_count": 5,
     "metadata": {},
     "output_type": "execute_result"
    }
   ],
   "source": [
    "to_smash(1)"
   ]
  },
  {
   "cell_type": "markdown",
   "id": "060885a8",
   "metadata": {
    "papermill": {
     "duration": 0.009275,
     "end_time": "2023-02-21T08:57:54.966995",
     "exception": false,
     "start_time": "2023-02-21T08:57:54.957720",
     "status": "completed"
    },
    "tags": []
   },
   "source": [
    "That isn't great grammar!\n",
    "\n",
    "Modify the definition in the cell below to correct the grammar of our print statement. (If there's only one candy, we should use the singular \"candy\" instead of the plural \"candies\")"
   ]
  },
  {
   "cell_type": "code",
   "execution_count": 6,
   "id": "ced4f18c",
   "metadata": {
    "execution": {
     "iopub.execute_input": "2023-02-21T08:57:54.987735Z",
     "iopub.status.busy": "2023-02-21T08:57:54.987037Z",
     "iopub.status.idle": "2023-02-21T08:57:54.996644Z",
     "shell.execute_reply": "2023-02-21T08:57:54.995434Z"
    },
    "papermill": {
     "duration": 0.02353,
     "end_time": "2023-02-21T08:57:54.999813",
     "exception": false,
     "start_time": "2023-02-21T08:57:54.976283",
     "status": "completed"
    },
    "tags": []
   },
   "outputs": [
    {
     "name": "stdout",
     "output_type": "stream",
     "text": [
      "Splitting 91 candies\n",
      "Splitting 1 candy\n"
     ]
    },
    {
     "data": {
      "text/plain": [
       "1"
      ]
     },
     "execution_count": 6,
     "metadata": {},
     "output_type": "execute_result"
    }
   ],
   "source": [
    "def to_smash(total_candies):\n",
    "    \"\"\"Return the number of leftover candies that must be smashed after distributing\n",
    "    the given number of candies evenly between 3 friends.\n",
    "    \n",
    "    >>> to_smash(91)\n",
    "    1\n",
    "    \"\"\"\n",
    "    if(total_candies ==1):\n",
    "        print(\"Splitting\", total_candies, \"candy\")\n",
    "    else:\n",
    "        print(\"Splitting\", total_candies, \"candies\")\n",
    "    return total_candies % 3\n",
    "\n",
    "to_smash(91)\n",
    "to_smash(1)"
   ]
  },
  {
   "cell_type": "markdown",
   "id": "06b032ef",
   "metadata": {
    "papermill": {
     "duration": 0.012167,
     "end_time": "2023-02-21T08:57:55.022667",
     "exception": false,
     "start_time": "2023-02-21T08:57:55.010500",
     "status": "completed"
    },
    "tags": []
   },
   "source": [
    "To get credit for completing this problem, and to see the official answer, run the code cell below."
   ]
  },
  {
   "cell_type": "code",
   "execution_count": 7,
   "id": "86cf8170",
   "metadata": {
    "execution": {
     "iopub.execute_input": "2023-02-21T08:57:55.044595Z",
     "iopub.status.busy": "2023-02-21T08:57:55.043907Z",
     "iopub.status.idle": "2023-02-21T08:57:55.052193Z",
     "shell.execute_reply": "2023-02-21T08:57:55.050934Z"
    },
    "papermill": {
     "duration": 0.021603,
     "end_time": "2023-02-21T08:57:55.054511",
     "exception": false,
     "start_time": "2023-02-21T08:57:55.032908",
     "status": "completed"
    },
    "tags": []
   },
   "outputs": [
    {
     "data": {
      "application/javascript": [
       "parent.postMessage({\"jupyterEvent\": \"custom.exercise_interaction\", \"data\": {\"interactionType\": 3, \"questionType\": 4, \"questionId\": \"2_PluralizationProblem\", \"learnToolsVersion\": \"0.3.4\", \"valueTowardsCompletion\": 0.0, \"failureMessage\": \"\", \"exceptionClass\": \"\", \"trace\": \"\", \"outcomeType\": 4}}, \"*\")"
      ],
      "text/plain": [
       "<IPython.core.display.Javascript object>"
      ]
     },
     "metadata": {},
     "output_type": "display_data"
    },
    {
     "data": {
      "text/markdown": [
       "<span style=\"color:#33cc99\">Solution:</span> A straightforward (and totally fine) solution is to replace the original `print` call with:\n",
       "\n",
       "```python\n",
       "if total_candies == 1:\n",
       "    print(\"Splitting 1 candy\")\n",
       "else:\n",
       "    print(\"Splitting\", total_candies, \"candies\")\n",
       "```\n",
       "\n",
       "Here's a slightly more succinct solution using a conditional expression:\n",
       "\n",
       "```python\n",
       "print(\"Splitting\", total_candies, \"candy\" if total_candies == 1 else \"candies\")\n",
       "```"
      ],
      "text/plain": [
       "Solution: A straightforward (and totally fine) solution is to replace the original `print` call with:\n",
       "\n",
       "```python\n",
       "if total_candies == 1:\n",
       "    print(\"Splitting 1 candy\")\n",
       "else:\n",
       "    print(\"Splitting\", total_candies, \"candies\")\n",
       "```\n",
       "\n",
       "Here's a slightly more succinct solution using a conditional expression:\n",
       "\n",
       "```python\n",
       "print(\"Splitting\", total_candies, \"candy\" if total_candies == 1 else \"candies\")\n",
       "```"
      ]
     },
     "metadata": {},
     "output_type": "display_data"
    }
   ],
   "source": [
    "# Check your answer (Run this code cell to receive credit!)\n",
    "q2.solution()"
   ]
  },
  {
   "cell_type": "markdown",
   "id": "2d7027b9",
   "metadata": {
    "papermill": {
     "duration": 0.009646,
     "end_time": "2023-02-21T08:57:55.074170",
     "exception": false,
     "start_time": "2023-02-21T08:57:55.064524",
     "status": "completed"
    },
    "tags": []
   },
   "source": [
    "# 3. <span title=\"A bit spicy\" style=\"color: darkgreen \">🌶️</span>\n",
    "\n",
    "In the tutorial, we talked about deciding whether we're prepared for the weather. I said that I'm safe from today's weather if...\n",
    "- I have an umbrella...\n",
    "- or if the rain isn't too heavy and I have a hood...\n",
    "- otherwise, I'm still fine unless it's raining *and* it's a workday\n",
    "\n",
    "The function below uses our first attempt at turning this logic into a Python expression. I claimed that there was a bug in that code. Can you find it?\n",
    "\n",
    "To prove that `prepared_for_weather` is buggy, come up with a set of inputs where either:\n",
    "- the function returns `False` (but should have returned `True`), or\n",
    "- the function returned `True` (but should have returned `False`).\n",
    "\n",
    "To get credit for completing this question, your code should return a <font color='#33cc33'>Correct</font> result."
   ]
  },
  {
   "cell_type": "code",
   "execution_count": 8,
   "id": "83c84740",
   "metadata": {
    "execution": {
     "iopub.execute_input": "2023-02-21T08:57:55.096909Z",
     "iopub.status.busy": "2023-02-21T08:57:55.095687Z",
     "iopub.status.idle": "2023-02-21T08:57:55.110064Z",
     "shell.execute_reply": "2023-02-21T08:57:55.108417Z"
    },
    "papermill": {
     "duration": 0.028248,
     "end_time": "2023-02-21T08:57:55.112481",
     "exception": false,
     "start_time": "2023-02-21T08:57:55.084233",
     "status": "completed"
    },
    "tags": []
   },
   "outputs": [
    {
     "name": "stdout",
     "output_type": "stream",
     "text": [
      "True\n"
     ]
    },
    {
     "data": {
      "application/javascript": [
       "parent.postMessage({\"jupyterEvent\": \"custom.exercise_interaction\", \"data\": {\"outcomeType\": 1, \"valueTowardsCompletion\": 0.2, \"interactionType\": 1, \"questionType\": 1, \"questionId\": \"3_WeatherDebug\", \"learnToolsVersion\": \"0.3.4\", \"failureMessage\": \"\", \"exceptionClass\": \"\", \"trace\": \"\"}}, \"*\")"
      ],
      "text/plain": [
       "<IPython.core.display.Javascript object>"
      ]
     },
     "metadata": {},
     "output_type": "display_data"
    },
    {
     "data": {
      "text/markdown": [
       "<span style=\"color:#33cc33\">Correct:</span> \n",
       "\n",
       "One example of a failing test case is:\n",
       "\n",
       "```python\n",
       "have_umbrella = False\n",
       "rain_level = 0.0\n",
       "have_hood = False\n",
       "is_workday = False\n",
       "```\n",
       "\n",
       "Clearly we're prepared for the weather in this case. It's not raining. Not only that, it's not a workday, so we don't even need to leave the house! But our function will return False on these inputs.\n",
       "\n",
       "The key problem is that Python implictly parenthesizes the last part as:\n",
       "\n",
       "```python\n",
       "(not (rain_level > 0)) and is_workday\n",
       "```\n",
       "\n",
       "Whereas what we were trying to express would look more like:\n",
       "\n",
       "```python\n",
       "not (rain_level > 0 and is_workday)\n",
       "```\n"
      ],
      "text/plain": [
       "Correct: \n",
       "\n",
       "One example of a failing test case is:\n",
       "\n",
       "```python\n",
       "have_umbrella = False\n",
       "rain_level = 0.0\n",
       "have_hood = False\n",
       "is_workday = False\n",
       "```\n",
       "\n",
       "Clearly we're prepared for the weather in this case. It's not raining. Not only that, it's not a workday, so we don't even need to leave the house! But our function will return False on these inputs.\n",
       "\n",
       "The key problem is that Python implictly parenthesizes the last part as:\n",
       "\n",
       "```python\n",
       "(not (rain_level > 0)) and is_workday\n",
       "```\n",
       "\n",
       "Whereas what we were trying to express would look more like:\n",
       "\n",
       "```python\n",
       "not (rain_level > 0 and is_workday)\n",
       "```"
      ]
     },
     "metadata": {},
     "output_type": "display_data"
    }
   ],
   "source": [
    "def prepared_for_weather(have_umbrella, rain_level, have_hood, is_workday):\n",
    "    # Don't change this code. Our goal is just to find the bug, not fix it!\n",
    "    return have_umbrella or (rain_level < 5 and have_hood) or not (rain_level > 0 and is_workday)\n",
    "\n",
    "# Change the values of these inputs so they represent a case where prepared_for_weather\n",
    "# returns the wrong answer.\n",
    "have_umbrella = False\n",
    "rain_level = 0.0\n",
    "have_hood = False\n",
    "is_workday = False\n",
    "\n",
    "# Check what the function returns given the current values of the variables above\n",
    "actual = prepared_for_weather(have_umbrella, rain_level, have_hood, is_workday)\n",
    "print(actual)\n",
    "\n",
    "# Check your answer\n",
    "q3.check()"
   ]
  },
  {
   "cell_type": "code",
   "execution_count": 9,
   "id": "518c579a",
   "metadata": {
    "execution": {
     "iopub.execute_input": "2023-02-21T08:57:55.134954Z",
     "iopub.status.busy": "2023-02-21T08:57:55.134579Z",
     "iopub.status.idle": "2023-02-21T08:57:55.138909Z",
     "shell.execute_reply": "2023-02-21T08:57:55.137741Z"
    },
    "papermill": {
     "duration": 0.018226,
     "end_time": "2023-02-21T08:57:55.141086",
     "exception": false,
     "start_time": "2023-02-21T08:57:55.122860",
     "status": "completed"
    },
    "tags": []
   },
   "outputs": [],
   "source": [
    "# q3.hint()\n",
    "# q3.solution()"
   ]
  },
  {
   "cell_type": "markdown",
   "id": "00544180",
   "metadata": {
    "papermill": {
     "duration": 0.009691,
     "end_time": "2023-02-21T08:57:55.161074",
     "exception": false,
     "start_time": "2023-02-21T08:57:55.151383",
     "status": "completed"
    },
    "tags": []
   },
   "source": [
    "# 4.\n",
    "\n",
    "The function `is_negative` below is implemented correctly - it returns True if the given number is negative and False otherwise.\n",
    "\n",
    "However, it's more verbose than it needs to be. We can actually reduce the number of lines of code in this function by *75%* while keeping the same behaviour. \n",
    "\n",
    "See if you can come up with an equivalent body that uses just **one line** of code, and put it in the function `concise_is_negative`. (HINT: you don't even need Python's ternary syntax)"
   ]
  },
  {
   "cell_type": "code",
   "execution_count": 10,
   "id": "b01c4433",
   "metadata": {
    "execution": {
     "iopub.execute_input": "2023-02-21T08:57:55.183032Z",
     "iopub.status.busy": "2023-02-21T08:57:55.182639Z",
     "iopub.status.idle": "2023-02-21T08:57:55.191757Z",
     "shell.execute_reply": "2023-02-21T08:57:55.190872Z"
    },
    "papermill": {
     "duration": 0.022703,
     "end_time": "2023-02-21T08:57:55.193837",
     "exception": false,
     "start_time": "2023-02-21T08:57:55.171134",
     "status": "completed"
    },
    "tags": []
   },
   "outputs": [
    {
     "data": {
      "application/javascript": [
       "parent.postMessage({\"jupyterEvent\": \"custom.exercise_interaction\", \"data\": {\"outcomeType\": 1, \"valueTowardsCompletion\": 0.2, \"interactionType\": 1, \"questionType\": 2, \"questionId\": \"4_ConciseIsNegative\", \"learnToolsVersion\": \"0.3.4\", \"failureMessage\": \"\", \"exceptionClass\": \"\", \"trace\": \"\"}}, \"*\")"
      ],
      "text/plain": [
       "<IPython.core.display.Javascript object>"
      ]
     },
     "metadata": {},
     "output_type": "display_data"
    },
    {
     "data": {
      "text/markdown": [
       "<span style=\"color:#33cc33\">Correct</span>"
      ],
      "text/plain": [
       "Correct"
      ]
     },
     "metadata": {},
     "output_type": "display_data"
    }
   ],
   "source": [
    "def is_negative(number):\n",
    "    if number < 0:\n",
    "        return True\n",
    "    else:\n",
    "        return False\n",
    "\n",
    "def concise_is_negative(number):\n",
    "    return True if number < 0 else False\n",
    "\n",
    "# Check your answer\n",
    "q4.check()"
   ]
  },
  {
   "cell_type": "code",
   "execution_count": 11,
   "id": "553b8fb9",
   "metadata": {
    "execution": {
     "iopub.execute_input": "2023-02-21T08:57:55.217468Z",
     "iopub.status.busy": "2023-02-21T08:57:55.217034Z",
     "iopub.status.idle": "2023-02-21T08:57:55.221416Z",
     "shell.execute_reply": "2023-02-21T08:57:55.220265Z"
    },
    "papermill": {
     "duration": 0.019013,
     "end_time": "2023-02-21T08:57:55.223650",
     "exception": false,
     "start_time": "2023-02-21T08:57:55.204637",
     "status": "completed"
    },
    "tags": []
   },
   "outputs": [],
   "source": [
    "#q4.hint()\n",
    "#q4.solution()"
   ]
  },
  {
   "cell_type": "markdown",
   "id": "cb6fd773",
   "metadata": {
    "papermill": {
     "duration": 0.009951,
     "end_time": "2023-02-21T08:57:55.244213",
     "exception": false,
     "start_time": "2023-02-21T08:57:55.234262",
     "status": "completed"
    },
    "tags": []
   },
   "source": [
    "# 5a.\n",
    "\n",
    "The boolean variables `ketchup`, `mustard` and `onion` represent whether a customer wants a particular topping on their hot dog. We want to implement a number of boolean functions that correspond to some yes-or-no questions about the customer's order. For example:"
   ]
  },
  {
   "cell_type": "code",
   "execution_count": 12,
   "id": "d9a4b5ab",
   "metadata": {
    "execution": {
     "iopub.execute_input": "2023-02-21T08:57:55.267086Z",
     "iopub.status.busy": "2023-02-21T08:57:55.266651Z",
     "iopub.status.idle": "2023-02-21T08:57:55.271906Z",
     "shell.execute_reply": "2023-02-21T08:57:55.270797Z"
    },
    "papermill": {
     "duration": 0.019573,
     "end_time": "2023-02-21T08:57:55.274201",
     "exception": false,
     "start_time": "2023-02-21T08:57:55.254628",
     "status": "completed"
    },
    "tags": []
   },
   "outputs": [],
   "source": [
    "def onionless(ketchup, mustard, onion):\n",
    "    \"\"\"Return whether the customer doesn't want onions.\n",
    "    \"\"\"\n",
    "    return not onion\n"
   ]
  },
  {
   "cell_type": "code",
   "execution_count": 13,
   "id": "3ae43fdb",
   "metadata": {
    "execution": {
     "iopub.execute_input": "2023-02-21T08:57:55.297230Z",
     "iopub.status.busy": "2023-02-21T08:57:55.296842Z",
     "iopub.status.idle": "2023-02-21T08:57:55.304950Z",
     "shell.execute_reply": "2023-02-21T08:57:55.304155Z"
    },
    "papermill": {
     "duration": 0.022103,
     "end_time": "2023-02-21T08:57:55.306912",
     "exception": false,
     "start_time": "2023-02-21T08:57:55.284809",
     "status": "completed"
    },
    "tags": []
   },
   "outputs": [
    {
     "data": {
      "application/javascript": [
       "parent.postMessage({\"jupyterEvent\": \"custom.exercise_interaction\", \"data\": {\"outcomeType\": 1, \"valueTowardsCompletion\": 0.2, \"interactionType\": 1, \"questionType\": 2, \"questionId\": \"5.1_AllToppings\", \"learnToolsVersion\": \"0.3.4\", \"failureMessage\": \"\", \"exceptionClass\": \"\", \"trace\": \"\"}}, \"*\")"
      ],
      "text/plain": [
       "<IPython.core.display.Javascript object>"
      ]
     },
     "metadata": {},
     "output_type": "display_data"
    },
    {
     "data": {
      "text/markdown": [
       "<span style=\"color:#33cc33\">Correct</span>"
      ],
      "text/plain": [
       "Correct"
      ]
     },
     "metadata": {},
     "output_type": "display_data"
    }
   ],
   "source": [
    "def wants_all_toppings(ketchup, mustard, onion):\n",
    "    \"\"\"Return whether the customer wants \"the works\" (all 3 toppings)\n",
    "    \"\"\"\n",
    "    return ketchup and mustard and onion\n",
    "\n",
    "# Check your answer\n",
    "q5.a.check()"
   ]
  },
  {
   "cell_type": "code",
   "execution_count": 14,
   "id": "29ad928b",
   "metadata": {
    "execution": {
     "iopub.execute_input": "2023-02-21T08:57:55.329989Z",
     "iopub.status.busy": "2023-02-21T08:57:55.329604Z",
     "iopub.status.idle": "2023-02-21T08:57:55.337480Z",
     "shell.execute_reply": "2023-02-21T08:57:55.336664Z"
    },
    "papermill": {
     "duration": 0.022,
     "end_time": "2023-02-21T08:57:55.339550",
     "exception": false,
     "start_time": "2023-02-21T08:57:55.317550",
     "status": "completed"
    },
    "tags": []
   },
   "outputs": [
    {
     "data": {
      "application/javascript": [
       "parent.postMessage({\"jupyterEvent\": \"custom.exercise_interaction\", \"data\": {\"interactionType\": 2, \"questionType\": 2, \"questionId\": \"5.1_AllToppings\", \"learnToolsVersion\": \"0.3.4\", \"valueTowardsCompletion\": 0.0, \"failureMessage\": \"\", \"exceptionClass\": \"\", \"trace\": \"\", \"outcomeType\": 4}}, \"*\")"
      ],
      "text/plain": [
       "<IPython.core.display.Javascript object>"
      ]
     },
     "metadata": {},
     "output_type": "display_data"
    },
    {
     "data": {
      "text/markdown": [
       "<span style=\"color:#3366cc\">Hint:</span> You'll need to use the `and` operator."
      ],
      "text/plain": [
       "Hint: You'll need to use the `and` operator."
      ]
     },
     "metadata": {},
     "output_type": "display_data"
    }
   ],
   "source": [
    "q5.a.hint()\n",
    "# q5.a.solution()"
   ]
  },
  {
   "cell_type": "markdown",
   "id": "7281c2dc",
   "metadata": {
    "papermill": {
     "duration": 0.010549,
     "end_time": "2023-02-21T08:57:55.361056",
     "exception": false,
     "start_time": "2023-02-21T08:57:55.350507",
     "status": "completed"
    },
    "tags": []
   },
   "source": [
    "# 5b.\n",
    "\n",
    "For the next function, fill in the body to match the English description in the docstring. "
   ]
  },
  {
   "cell_type": "code",
   "execution_count": 15,
   "id": "c92005e8",
   "metadata": {
    "execution": {
     "iopub.execute_input": "2023-02-21T08:57:55.384701Z",
     "iopub.status.busy": "2023-02-21T08:57:55.383993Z",
     "iopub.status.idle": "2023-02-21T08:57:55.393008Z",
     "shell.execute_reply": "2023-02-21T08:57:55.392124Z"
    },
    "papermill": {
     "duration": 0.023216,
     "end_time": "2023-02-21T08:57:55.395168",
     "exception": false,
     "start_time": "2023-02-21T08:57:55.371952",
     "status": "completed"
    },
    "tags": []
   },
   "outputs": [
    {
     "data": {
      "application/javascript": [
       "parent.postMessage({\"jupyterEvent\": \"custom.exercise_interaction\", \"data\": {\"outcomeType\": 1, \"valueTowardsCompletion\": 0.2, \"interactionType\": 1, \"questionType\": 2, \"questionId\": \"5.2_PlainDog\", \"learnToolsVersion\": \"0.3.4\", \"failureMessage\": \"\", \"exceptionClass\": \"\", \"trace\": \"\"}}, \"*\")"
      ],
      "text/plain": [
       "<IPython.core.display.Javascript object>"
      ]
     },
     "metadata": {},
     "output_type": "display_data"
    },
    {
     "data": {
      "text/markdown": [
       "<span style=\"color:#33cc33\">Correct:</span> \n",
       "\n",
       "One solution looks like:\n",
       "```python\n",
       "return not ketchup and not mustard and not onion\n",
       "```\n",
       "\n",
       "We can also [\"factor out\" the nots](https://en.wikipedia.org/wiki/De_Morgan%27s_laws) to get:\n",
       "\n",
       "```python\n",
       "return not (ketchup or mustard or onion)\n",
       "```"
      ],
      "text/plain": [
       "Correct: \n",
       "\n",
       "One solution looks like:\n",
       "```python\n",
       "return not ketchup and not mustard and not onion\n",
       "```\n",
       "\n",
       "We can also [\"factor out\" the nots](https://en.wikipedia.org/wiki/De_Morgan%27s_laws) to get:\n",
       "\n",
       "```python\n",
       "return not (ketchup or mustard or onion)\n",
       "```"
      ]
     },
     "metadata": {},
     "output_type": "display_data"
    }
   ],
   "source": [
    "def wants_plain_hotdog(ketchup, mustard, onion):\n",
    "    \"\"\"Return whether the customer wants a plain hot dog with no toppings.\n",
    "    \"\"\"\n",
    "    return not (ketchup or mustard or onion)\n",
    "\n",
    "# Check your answer\n",
    "q5.b.check()"
   ]
  },
  {
   "cell_type": "code",
   "execution_count": 16,
   "id": "1fe126b0",
   "metadata": {
    "execution": {
     "iopub.execute_input": "2023-02-21T08:57:55.419508Z",
     "iopub.status.busy": "2023-02-21T08:57:55.419061Z",
     "iopub.status.idle": "2023-02-21T08:57:55.423448Z",
     "shell.execute_reply": "2023-02-21T08:57:55.422402Z"
    },
    "papermill": {
     "duration": 0.01922,
     "end_time": "2023-02-21T08:57:55.425727",
     "exception": false,
     "start_time": "2023-02-21T08:57:55.406507",
     "status": "completed"
    },
    "tags": []
   },
   "outputs": [],
   "source": [
    "#q5.b.hint()\n",
    "#q5.b.solution()"
   ]
  },
  {
   "cell_type": "markdown",
   "id": "7139aa8c",
   "metadata": {
    "papermill": {
     "duration": 0.010971,
     "end_time": "2023-02-21T08:57:55.448053",
     "exception": false,
     "start_time": "2023-02-21T08:57:55.437082",
     "status": "completed"
    },
    "tags": []
   },
   "source": [
    "# 5c.\n",
    "\n",
    "You know what to do: for the next function, fill in the body to match the English description in the docstring."
   ]
  },
  {
   "cell_type": "code",
   "execution_count": 17,
   "id": "c74609b3",
   "metadata": {
    "execution": {
     "iopub.execute_input": "2023-02-21T08:57:55.473488Z",
     "iopub.status.busy": "2023-02-21T08:57:55.473004Z",
     "iopub.status.idle": "2023-02-21T08:57:55.481429Z",
     "shell.execute_reply": "2023-02-21T08:57:55.480649Z"
    },
    "papermill": {
     "duration": 0.024156,
     "end_time": "2023-02-21T08:57:55.483627",
     "exception": false,
     "start_time": "2023-02-21T08:57:55.459471",
     "status": "completed"
    },
    "tags": []
   },
   "outputs": [
    {
     "data": {
      "application/javascript": [
       "parent.postMessage({\"jupyterEvent\": \"custom.exercise_interaction\", \"data\": {\"outcomeType\": 1, \"valueTowardsCompletion\": 0.2, \"interactionType\": 1, \"questionType\": 2, \"questionId\": \"5.3_OneSauce\", \"learnToolsVersion\": \"0.3.4\", \"failureMessage\": \"\", \"exceptionClass\": \"\", \"trace\": \"\"}}, \"*\")"
      ],
      "text/plain": [
       "<IPython.core.display.Javascript object>"
      ]
     },
     "metadata": {},
     "output_type": "display_data"
    },
    {
     "data": {
      "text/markdown": [
       "<span style=\"color:#33cc33\">Correct</span>"
      ],
      "text/plain": [
       "Correct"
      ]
     },
     "metadata": {},
     "output_type": "display_data"
    }
   ],
   "source": [
    "def exactly_one_sauce(ketchup, mustard, onion):\n",
    "    \"\"\"Return whether the customer wants either ketchup or mustard, but not both.\n",
    "    (You may be familiar with this operation under the name \"exclusive or\")\n",
    "    \"\"\"\n",
    "    return (ketchup and not mustard) or (mustard and not ketchup) \n",
    "\n",
    "# Check your answer\n",
    "q5.c.check()"
   ]
  },
  {
   "cell_type": "code",
   "execution_count": 18,
   "id": "ad865839",
   "metadata": {
    "execution": {
     "iopub.execute_input": "2023-02-21T08:57:55.509325Z",
     "iopub.status.busy": "2023-02-21T08:57:55.508153Z",
     "iopub.status.idle": "2023-02-21T08:57:55.516995Z",
     "shell.execute_reply": "2023-02-21T08:57:55.515929Z"
    },
    "papermill": {
     "duration": 0.023993,
     "end_time": "2023-02-21T08:57:55.519315",
     "exception": false,
     "start_time": "2023-02-21T08:57:55.495322",
     "status": "completed"
    },
    "tags": []
   },
   "outputs": [
    {
     "data": {
      "application/javascript": [
       "parent.postMessage({\"jupyterEvent\": \"custom.exercise_interaction\", \"data\": {\"interactionType\": 2, \"questionType\": 2, \"questionId\": \"5.3_OneSauce\", \"learnToolsVersion\": \"0.3.4\", \"valueTowardsCompletion\": 0.0, \"failureMessage\": \"\", \"exceptionClass\": \"\", \"trace\": \"\", \"outcomeType\": 4}}, \"*\")"
      ],
      "text/plain": [
       "<IPython.core.display.Javascript object>"
      ]
     },
     "metadata": {},
     "output_type": "display_data"
    },
    {
     "data": {
      "text/markdown": [
       "<span style=\"color:#3366cc\">Hint:</span> There are exactly two ways to set ketchup and mustard to make this true. What are they?"
      ],
      "text/plain": [
       "Hint: There are exactly two ways to set ketchup and mustard to make this true. What are they?"
      ]
     },
     "metadata": {},
     "output_type": "display_data"
    }
   ],
   "source": [
    "q5.c.hint()\n",
    "# q5.c.solution()"
   ]
  },
  {
   "cell_type": "markdown",
   "id": "c8015e27",
   "metadata": {
    "papermill": {
     "duration": 0.011627,
     "end_time": "2023-02-21T08:57:55.542781",
     "exception": false,
     "start_time": "2023-02-21T08:57:55.531154",
     "status": "completed"
    },
    "tags": []
   },
   "source": [
    "# 6. <span title=\"A bit spicy\" style=\"color: darkgreen \">🌶️</span>\n",
    "\n",
    "We’ve seen that calling `bool()` on an integer returns `False` if it’s equal to 0 and `True` otherwise. What happens if we call `int()` on a bool? Try it out in the notebook cell below.\n",
    "\n",
    "Can you take advantage of this to write a succinct function that corresponds to the English sentence \"does the customer want exactly one topping?\"?"
   ]
  },
  {
   "cell_type": "code",
   "execution_count": 19,
   "id": "c5959e60",
   "metadata": {
    "execution": {
     "iopub.execute_input": "2023-02-21T08:57:55.568593Z",
     "iopub.status.busy": "2023-02-21T08:57:55.567909Z",
     "iopub.status.idle": "2023-02-21T08:57:55.577044Z",
     "shell.execute_reply": "2023-02-21T08:57:55.575915Z"
    },
    "papermill": {
     "duration": 0.02457,
     "end_time": "2023-02-21T08:57:55.579266",
     "exception": false,
     "start_time": "2023-02-21T08:57:55.554696",
     "status": "completed"
    },
    "tags": []
   },
   "outputs": [
    {
     "data": {
      "application/javascript": [
       "parent.postMessage({\"jupyterEvent\": \"custom.exercise_interaction\", \"data\": {\"outcomeType\": 1, \"valueTowardsCompletion\": 0.2, \"interactionType\": 1, \"questionType\": 2, \"questionId\": \"6_OneTopping\", \"learnToolsVersion\": \"0.3.4\", \"failureMessage\": \"\", \"exceptionClass\": \"\", \"trace\": \"\"}}, \"*\")"
      ],
      "text/plain": [
       "<IPython.core.display.Javascript object>"
      ]
     },
     "metadata": {},
     "output_type": "display_data"
    },
    {
     "data": {
      "text/markdown": [
       "<span style=\"color:#33cc33\">Correct:</span> \n",
       "\n",
       "This condition would be pretty complicated to express using just `and`, `or` and `not`, but using boolean-to-integer conversion gives us this short solution:\n",
       "```python\n",
       "return (int(ketchup) + int(mustard) + int(onion)) == 1\n",
       "```\n",
       "\n",
       "Fun fact: we don't technically need to call `int` on the arguments. Just by doing addition with booleans, Python implicitly does the integer conversion. So we could also write...\n",
       "\n",
       "```python\n",
       "return (ketchup + mustard + onion) == 1\n",
       "```"
      ],
      "text/plain": [
       "Correct: \n",
       "\n",
       "This condition would be pretty complicated to express using just `and`, `or` and `not`, but using boolean-to-integer conversion gives us this short solution:\n",
       "```python\n",
       "return (int(ketchup) + int(mustard) + int(onion)) == 1\n",
       "```\n",
       "\n",
       "Fun fact: we don't technically need to call `int` on the arguments. Just by doing addition with booleans, Python implicitly does the integer conversion. So we could also write...\n",
       "\n",
       "```python\n",
       "return (ketchup + mustard + onion) == 1\n",
       "```"
      ]
     },
     "metadata": {},
     "output_type": "display_data"
    }
   ],
   "source": [
    "def exactly_one_topping(ketchup, mustard, onion):\n",
    "    \"\"\"Return whether the customer wants exactly one of the three available toppings\n",
    "    on their hot dog.\n",
    "    \"\"\"\n",
    "    return (ketchup and not mustard and not onion) or (mustard and not ketchup and not onion) or (onion and not ketchup and not mustard)\n",
    "\n",
    "# Check your answer\n",
    "q6.check()"
   ]
  },
  {
   "cell_type": "code",
   "execution_count": 20,
   "id": "2e0c462b",
   "metadata": {
    "execution": {
     "iopub.execute_input": "2023-02-21T08:57:55.605318Z",
     "iopub.status.busy": "2023-02-21T08:57:55.604849Z",
     "iopub.status.idle": "2023-02-21T08:57:55.609835Z",
     "shell.execute_reply": "2023-02-21T08:57:55.608535Z"
    },
    "papermill": {
     "duration": 0.021124,
     "end_time": "2023-02-21T08:57:55.612545",
     "exception": false,
     "start_time": "2023-02-21T08:57:55.591421",
     "status": "completed"
    },
    "tags": []
   },
   "outputs": [],
   "source": [
    "#q6.hint()\n",
    "#q6.solution()"
   ]
  },
  {
   "cell_type": "markdown",
   "id": "ed8c0dbb",
   "metadata": {
    "papermill": {
     "duration": 0.011732,
     "end_time": "2023-02-21T08:57:55.636517",
     "exception": false,
     "start_time": "2023-02-21T08:57:55.624785",
     "status": "completed"
    },
    "tags": []
   },
   "source": [
    "# 7. <span title=\"A bit spicy\" style=\"color: darkgreen \">🌶️</span> (Optional)\n",
    "\n",
    "In this problem we'll be working with a simplified version of [blackjack](https://en.wikipedia.org/wiki/Blackjack) (aka twenty-one). In this version there is one player (who you'll control) and a dealer. Play proceeds as follows:\n",
    "\n",
    "- The player is dealt two face-up cards. The dealer is dealt one face-up card.\n",
    "- The player may ask to be dealt another card ('hit') as many times as they wish. If the sum of their cards exceeds 21, they lose the round immediately.\n",
    "- The dealer then deals additional cards to himself until either:\n",
    "    - the sum of the dealer's cards exceeds 21, in which case the player wins the round\n",
    "    - the sum of the dealer's cards is greater than or equal to 17. If the player's total is greater than the dealer's, the player wins. Otherwise, the dealer wins (even in case of a tie).\n",
    "    \n",
    "When calculating the sum of cards, Jack, Queen, and King count for 10. Aces can count as 1 or 11 (when referring to a player's \"total\" above, we mean the largest total that can be made without exceeding 21. So e.g. A+8 = 19, A+8+8 = 17)\n",
    "\n",
    "For this problem, you'll write a function representing the player's decision-making strategy in this game. We've provided a very unintelligent implementation below:"
   ]
  },
  {
   "cell_type": "code",
   "execution_count": 21,
   "id": "46c0344c",
   "metadata": {
    "execution": {
     "iopub.execute_input": "2023-02-21T08:57:55.662822Z",
     "iopub.status.busy": "2023-02-21T08:57:55.661664Z",
     "iopub.status.idle": "2023-02-21T08:57:55.667129Z",
     "shell.execute_reply": "2023-02-21T08:57:55.666311Z"
    },
    "papermill": {
     "duration": 0.020772,
     "end_time": "2023-02-21T08:57:55.669209",
     "exception": false,
     "start_time": "2023-02-21T08:57:55.648437",
     "status": "completed"
    },
    "tags": []
   },
   "outputs": [],
   "source": [
    "def should_hit(dealer_total, player_total, player_low_aces, player_high_aces):\n",
    "    \"\"\"Return True if the player should hit (request another card) given the current game\n",
    "    state, or False if the player should stay.\n",
    "    When calculating a hand's total value, we count aces as \"high\" (with value 11) if doing so\n",
    "    doesn't bring the total above 21, otherwise we count them as low (with value 1). \n",
    "    For example, if the player's hand is {A, A, A, 7}, we will count it as 11 + 1 + 1 + 7,\n",
    "    and therefore set player_total=20, player_low_aces=2, player_high_aces=1.\n",
    "    \"\"\"\n",
    "    return False"
   ]
  },
  {
   "cell_type": "markdown",
   "id": "be0437d3",
   "metadata": {
    "papermill": {
     "duration": 0.01168,
     "end_time": "2023-02-21T08:57:55.693026",
     "exception": false,
     "start_time": "2023-02-21T08:57:55.681346",
     "status": "completed"
    },
    "tags": []
   },
   "source": [
    "This very conservative agent *always* sticks with the hand of two cards that they're dealt.\n",
    "\n",
    "We'll be simulating games between your player agent and our own dealer agent by calling your function.\n",
    "\n",
    "Try running the function below to see an example of a simulated game:"
   ]
  },
  {
   "cell_type": "code",
   "execution_count": 22,
   "id": "ee8a059e",
   "metadata": {
    "execution": {
     "iopub.execute_input": "2023-02-21T08:57:55.719378Z",
     "iopub.status.busy": "2023-02-21T08:57:55.718259Z",
     "iopub.status.idle": "2023-02-21T08:57:55.724532Z",
     "shell.execute_reply": "2023-02-21T08:57:55.723312Z"
    },
    "papermill": {
     "duration": 0.021858,
     "end_time": "2023-02-21T08:57:55.726873",
     "exception": false,
     "start_time": "2023-02-21T08:57:55.705015",
     "status": "completed"
    },
    "tags": []
   },
   "outputs": [
    {
     "name": "stdout",
     "output_type": "stream",
     "text": [
      "Player starts with 2 and 8 (total = 10)\n",
      "Dealer starts with 6\n",
      "\n",
      "__Player's turn__\n",
      "Player stays\n",
      "\n",
      "__Dealer's turn__\n",
      "Dealer hits and receives J. (total = 16)\n",
      "Dealer hits and receives 4. (total = 20)\n",
      "Dealer stands.\n",
      "Dealer wins. 20 >= 10\n"
     ]
    }
   ],
   "source": [
    "q7.simulate_one_game()"
   ]
  },
  {
   "cell_type": "markdown",
   "id": "8c8c40a9",
   "metadata": {
    "papermill": {
     "duration": 0.012075,
     "end_time": "2023-02-21T08:57:55.751404",
     "exception": false,
     "start_time": "2023-02-21T08:57:55.739329",
     "status": "completed"
    },
    "tags": []
   },
   "source": [
    "The real test of your agent's mettle is their average win rate over many games. Try calling the function below to simulate 50000 games of blackjack (it may take a couple seconds):"
   ]
  },
  {
   "cell_type": "code",
   "execution_count": 23,
   "id": "6e4572b7",
   "metadata": {
    "execution": {
     "iopub.execute_input": "2023-02-21T08:57:55.777863Z",
     "iopub.status.busy": "2023-02-21T08:57:55.777039Z",
     "iopub.status.idle": "2023-02-21T08:57:57.460503Z",
     "shell.execute_reply": "2023-02-21T08:57:57.459125Z"
    },
    "papermill": {
     "duration": 1.699521,
     "end_time": "2023-02-21T08:57:57.463159",
     "exception": false,
     "start_time": "2023-02-21T08:57:55.763638",
     "status": "completed"
    },
    "tags": []
   },
   "outputs": [
    {
     "name": "stdout",
     "output_type": "stream",
     "text": [
      "Player won 19131 out of 50000 games (win rate = 38.3%)\n"
     ]
    }
   ],
   "source": [
    "q7.simulate(n_games=50000)"
   ]
  },
  {
   "cell_type": "markdown",
   "id": "173f8586",
   "metadata": {
    "papermill": {
     "duration": 0.01217,
     "end_time": "2023-02-21T08:57:57.487886",
     "exception": false,
     "start_time": "2023-02-21T08:57:57.475716",
     "status": "completed"
    },
    "tags": []
   },
   "source": [
    "Our dumb agent that completely ignores the game state still manages to win shockingly often!\n",
    "\n",
    "Try adding some more smarts to the `should_hit` function and see how it affects the results."
   ]
  },
  {
   "cell_type": "code",
   "execution_count": 24,
   "id": "dd009f0b",
   "metadata": {
    "execution": {
     "iopub.execute_input": "2023-02-21T08:57:57.515152Z",
     "iopub.status.busy": "2023-02-21T08:57:57.514546Z",
     "iopub.status.idle": "2023-02-21T08:57:59.151929Z",
     "shell.execute_reply": "2023-02-21T08:57:59.150608Z"
    },
    "papermill": {
     "duration": 1.653968,
     "end_time": "2023-02-21T08:57:59.154555",
     "exception": false,
     "start_time": "2023-02-21T08:57:57.500587",
     "status": "completed"
    },
    "tags": []
   },
   "outputs": [
    {
     "name": "stdout",
     "output_type": "stream",
     "text": [
      "Player won 18837 out of 50000 games (win rate = 37.7%)\n"
     ]
    }
   ],
   "source": [
    "def should_hit(dealer_total, player_total, player_low_aces, player_high_aces):\n",
    "    \"\"\"Return True if the player should hit (request another card) given the current game\n",
    "    state, or False if the player should stay.\n",
    "    When calculating a hand's total value, we count aces as \"high\" (with value 11) if doing so\n",
    "    doesn't bring the total above 21, otherwise we count them as low (with value 1). \n",
    "    For example, if the player's hand is {A, A, A, 7}, we will count it as 11 + 1 + 1 + 7,\n",
    "    and therefore set player_total=20, player_low_aces=2, player_high_aces=1.\n",
    "    \"\"\"\n",
    "    return False\n",
    "\n",
    "q7.simulate(n_games=50000)"
   ]
  },
  {
   "cell_type": "markdown",
   "id": "bcaa5dc6",
   "metadata": {
    "papermill": {
     "duration": 0.01278,
     "end_time": "2023-02-21T08:57:59.180734",
     "exception": false,
     "start_time": "2023-02-21T08:57:59.167954",
     "status": "completed"
    },
    "tags": []
   },
   "source": [
    "# Keep Going\n",
    "\n",
    "Learn about **[lists and tuples](https://www.kaggle.com/colinmorris/lists)** to handle multiple items of data in a systematic way."
   ]
  },
  {
   "cell_type": "markdown",
   "id": "8b77c74d",
   "metadata": {
    "papermill": {
     "duration": 0.012368,
     "end_time": "2023-02-21T08:57:59.206037",
     "exception": false,
     "start_time": "2023-02-21T08:57:59.193669",
     "status": "completed"
    },
    "tags": []
   },
   "source": [
    "---\n",
    "\n",
    "\n",
    "\n",
    "\n",
    "*Have questions or comments? Visit the [course discussion forum](https://www.kaggle.com/learn/python/discussion) to chat with other learners.*"
   ]
  }
 ],
 "metadata": {
  "kernelspec": {
   "display_name": "Python 3",
   "language": "python",
   "name": "python3"
  },
  "language_info": {
   "codemirror_mode": {
    "name": "ipython",
    "version": 3
   },
   "file_extension": ".py",
   "mimetype": "text/x-python",
   "name": "python",
   "nbconvert_exporter": "python",
   "pygments_lexer": "ipython3",
   "version": "3.7.12"
  },
  "papermill": {
   "default_parameters": {},
   "duration": 14.227906,
   "end_time": "2023-02-21T08:58:00.042310",
   "environment_variables": {},
   "exception": null,
   "input_path": "__notebook__.ipynb",
   "output_path": "__notebook__.ipynb",
   "parameters": {},
   "start_time": "2023-02-21T08:57:45.814404",
   "version": "2.3.4"
  }
 },
 "nbformat": 4,
 "nbformat_minor": 5
}
