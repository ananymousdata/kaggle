{
 "cells": [
  {
   "cell_type": "markdown",
   "id": "ce13387b",
   "metadata": {
    "papermill": {
     "duration": 0.010009,
     "end_time": "2023-02-21T06:45:33.966895",
     "exception": false,
     "start_time": "2023-02-21T06:45:33.956886",
     "status": "completed"
    },
    "tags": []
   },
   "source": [
    "**This notebook is an exercise in the [Python](https://www.kaggle.com/learn/python) course.  You can reference the tutorial at [this link](https://www.kaggle.com/colinmorris/functions-and-getting-help).**\n",
    "\n",
    "---\n"
   ]
  },
  {
   "cell_type": "markdown",
   "id": "e9964dfd",
   "metadata": {
    "papermill": {
     "duration": 0.004598,
     "end_time": "2023-02-21T06:45:33.977379",
     "exception": false,
     "start_time": "2023-02-21T06:45:33.972781",
     "status": "completed"
    },
    "tags": []
   },
   "source": [
    "Functions are powerful. Try writing some yourself.\n",
    "\n",
    "As before, don't forget to run the setup code below before jumping into question 1."
   ]
  },
  {
   "cell_type": "code",
   "execution_count": 1,
   "id": "ed2907c8",
   "metadata": {
    "_kg_hide-input": true,
    "_kg_hide-output": true,
    "execution": {
     "iopub.execute_input": "2023-02-21T06:45:33.990111Z",
     "iopub.status.busy": "2023-02-21T06:45:33.989128Z",
     "iopub.status.idle": "2023-02-21T06:45:34.042221Z",
     "shell.execute_reply": "2023-02-21T06:45:34.040636Z"
    },
    "papermill": {
     "duration": 0.063025,
     "end_time": "2023-02-21T06:45:34.045321",
     "exception": false,
     "start_time": "2023-02-21T06:45:33.982296",
     "status": "completed"
    },
    "tags": []
   },
   "outputs": [
    {
     "name": "stdout",
     "output_type": "stream",
     "text": [
      "Setup complete.\n"
     ]
    }
   ],
   "source": [
    "# SETUP. You don't need to worry for now about what this code does or how it works.\n",
    "from learntools.core import binder; binder.bind(globals())\n",
    "from learntools.python.ex2 import *\n",
    "print('Setup complete.')"
   ]
  },
  {
   "cell_type": "markdown",
   "id": "fde377f2",
   "metadata": {
    "papermill": {
     "duration": 0.004637,
     "end_time": "2023-02-21T06:45:34.055190",
     "exception": false,
     "start_time": "2023-02-21T06:45:34.050553",
     "status": "completed"
    },
    "tags": []
   },
   "source": [
    "# 1.\n",
    "\n",
    "Complete the body of the following function according to its docstring.\n",
    "\n",
    "HINT: Python has a built-in function `round`."
   ]
  },
  {
   "cell_type": "code",
   "execution_count": 2,
   "id": "92fa64f3",
   "metadata": {
    "execution": {
     "iopub.execute_input": "2023-02-21T06:45:34.067704Z",
     "iopub.status.busy": "2023-02-21T06:45:34.066878Z",
     "iopub.status.idle": "2023-02-21T06:45:34.080368Z",
     "shell.execute_reply": "2023-02-21T06:45:34.079153Z"
    },
    "papermill": {
     "duration": 0.022746,
     "end_time": "2023-02-21T06:45:34.082850",
     "exception": false,
     "start_time": "2023-02-21T06:45:34.060104",
     "status": "completed"
    },
    "tags": []
   },
   "outputs": [
    {
     "data": {
      "application/javascript": [
       "parent.postMessage({\"jupyterEvent\": \"custom.exercise_interaction\", \"data\": {\"outcomeType\": 1, \"valueTowardsCompletion\": 0.16666666666666666, \"interactionType\": 1, \"questionType\": 2, \"questionId\": \"1_RoundFunctionProblem\", \"learnToolsVersion\": \"0.3.4\", \"failureMessage\": \"\", \"exceptionClass\": \"\", \"trace\": \"\"}}, \"*\")"
      ],
      "text/plain": [
       "<IPython.core.display.Javascript object>"
      ]
     },
     "metadata": {},
     "output_type": "display_data"
    },
    {
     "data": {
      "text/markdown": [
       "<span style=\"color:#33cc33\">Correct</span>"
      ],
      "text/plain": [
       "Correct"
      ]
     },
     "metadata": {},
     "output_type": "display_data"
    }
   ],
   "source": [
    "def round_to_two_places(num):\n",
    "    \"\"\"Return the given number rounded to two decimal places. \n",
    "    \n",
    "    >>> round_to_two_places(3.14159)\n",
    "    3.14\n",
    "    \"\"\"\n",
    "    # Replace this body with your own code.\n",
    "    # (\"pass\" is a keyword that does literally nothing. We used it as a placeholder\n",
    "    # because after we begin a code block, Python requires at least one line of code)\n",
    "    return round(num, 2)\n",
    "\n",
    "# Check your answer\n",
    "q1.check()"
   ]
  },
  {
   "cell_type": "code",
   "execution_count": 3,
   "id": "a9d90b34",
   "metadata": {
    "execution": {
     "iopub.execute_input": "2023-02-21T06:45:34.096780Z",
     "iopub.status.busy": "2023-02-21T06:45:34.094911Z",
     "iopub.status.idle": "2023-02-21T06:45:34.101376Z",
     "shell.execute_reply": "2023-02-21T06:45:34.100351Z"
    },
    "papermill": {
     "duration": 0.015861,
     "end_time": "2023-02-21T06:45:34.104068",
     "exception": false,
     "start_time": "2023-02-21T06:45:34.088207",
     "status": "completed"
    },
    "tags": []
   },
   "outputs": [],
   "source": [
    "# Uncomment the following for a hint\n",
    "#q1.hint()\n",
    "# Or uncomment the following to peek at the solution\n",
    "#q1.solution()"
   ]
  },
  {
   "cell_type": "markdown",
   "id": "0e31f505",
   "metadata": {
    "papermill": {
     "duration": 0.005825,
     "end_time": "2023-02-21T06:45:34.115796",
     "exception": false,
     "start_time": "2023-02-21T06:45:34.109971",
     "status": "completed"
    },
    "tags": []
   },
   "source": [
    "# 2.\n",
    "The help for `round` says that `ndigits` (the second argument) may be negative.\n",
    "What do you think will happen when it is? Try some examples in the following cell."
   ]
  },
  {
   "cell_type": "code",
   "execution_count": 4,
   "id": "8eaae0e1",
   "metadata": {
    "execution": {
     "iopub.execute_input": "2023-02-21T06:45:34.128954Z",
     "iopub.status.busy": "2023-02-21T06:45:34.128511Z",
     "iopub.status.idle": "2023-02-21T06:45:34.137973Z",
     "shell.execute_reply": "2023-02-21T06:45:34.136179Z"
    },
    "papermill": {
     "duration": 0.020622,
     "end_time": "2023-02-21T06:45:34.141908",
     "exception": false,
     "start_time": "2023-02-21T06:45:34.121286",
     "status": "completed"
    },
    "tags": []
   },
   "outputs": [
    {
     "name": "stdout",
     "output_type": "stream",
     "text": [
      "Help on built-in function round in module builtins:\n",
      "\n",
      "round(number, ndigits=None)\n",
      "    Round a number to a given precision in decimal digits.\n",
      "    \n",
      "    The return value is an integer if ndigits is omitted or None.  Otherwise\n",
      "    the return value has the same type as the number.  ndigits may be negative.\n",
      "\n"
     ]
    },
    {
     "data": {
      "text/plain": [
       "12300344.99"
      ]
     },
     "execution_count": 4,
     "metadata": {},
     "output_type": "execute_result"
    }
   ],
   "source": [
    "# Put your test code here\n",
    "help(round)\n",
    "\n",
    "number1 = 12300344.98879\n",
    "round(number1, ndigits= -2) # ndigits may be negative\n",
    "round(number1, ndigits= 2)"
   ]
  },
  {
   "cell_type": "markdown",
   "id": "e38a1bdc",
   "metadata": {
    "papermill": {
     "duration": 0.005333,
     "end_time": "2023-02-21T06:45:34.153796",
     "exception": false,
     "start_time": "2023-02-21T06:45:34.148463",
     "status": "completed"
    },
    "tags": []
   },
   "source": [
    "Can you think of a case where this would be useful?  Once you're ready, run the code cell below to see the answer and to receive credit for completing the problem."
   ]
  },
  {
   "cell_type": "code",
   "execution_count": 5,
   "id": "9799d03d",
   "metadata": {
    "execution": {
     "iopub.execute_input": "2023-02-21T06:45:34.167081Z",
     "iopub.status.busy": "2023-02-21T06:45:34.166610Z",
     "iopub.status.idle": "2023-02-21T06:45:34.176759Z",
     "shell.execute_reply": "2023-02-21T06:45:34.175358Z"
    },
    "papermill": {
     "duration": 0.02012,
     "end_time": "2023-02-21T06:45:34.179516",
     "exception": false,
     "start_time": "2023-02-21T06:45:34.159396",
     "status": "completed"
    },
    "tags": []
   },
   "outputs": [
    {
     "data": {
      "application/javascript": [
       "parent.postMessage({\"jupyterEvent\": \"custom.exercise_interaction\", \"data\": {\"interactionType\": 3, \"questionType\": 4, \"questionId\": \"2_RoundNdigitsProblem\", \"learnToolsVersion\": \"0.3.4\", \"valueTowardsCompletion\": 0.0, \"failureMessage\": \"\", \"exceptionClass\": \"\", \"trace\": \"\", \"outcomeType\": 4}}, \"*\")"
      ],
      "text/plain": [
       "<IPython.core.display.Javascript object>"
      ]
     },
     "metadata": {},
     "output_type": "display_data"
    },
    {
     "data": {
      "text/markdown": [
       "<span style=\"color:#33cc99\">Solution:</span> As you've seen, `ndigits=-1` rounds to the nearest 10, `ndigits=-2` rounds to the nearest 100 and so on. Where might this be useful? Suppose we're dealing with large numbers:\n",
       "\n",
       "> The area of Finland is 338,424 km²  \n",
       "> The area of Greenland is 2,166,086 km²\n",
       "\n",
       "We probably don't care whether it's really 338,424, or 338,425, or 338,177. All those digits of accuracy are just distracting. We can chop them off by calling `round()` with `ndigits=-3`:\n",
       "\n",
       "> The area of Finland is 338,000 km²  \n",
       "> The area of Greenland is 2,166,000 km²\n",
       "\n",
       "(We'll talk about how we would get the commas later when we talk about string formatting :))\n"
      ],
      "text/plain": [
       "Solution: As you've seen, `ndigits=-1` rounds to the nearest 10, `ndigits=-2` rounds to the nearest 100 and so on. Where might this be useful? Suppose we're dealing with large numbers:\n",
       "\n",
       "> The area of Finland is 338,424 km²  \n",
       "> The area of Greenland is 2,166,086 km²\n",
       "\n",
       "We probably don't care whether it's really 338,424, or 338,425, or 338,177. All those digits of accuracy are just distracting. We can chop them off by calling `round()` with `ndigits=-3`:\n",
       "\n",
       "> The area of Finland is 338,000 km²  \n",
       "> The area of Greenland is 2,166,000 km²\n",
       "\n",
       "(We'll talk about how we would get the commas later when we talk about string formatting :))"
      ]
     },
     "metadata": {},
     "output_type": "display_data"
    }
   ],
   "source": [
    "# Check your answer (Run this code cell to receive credit!)\n",
    "q2.solution()"
   ]
  },
  {
   "cell_type": "markdown",
   "id": "efb12d33",
   "metadata": {
    "papermill": {
     "duration": 0.00553,
     "end_time": "2023-02-21T06:45:34.190929",
     "exception": false,
     "start_time": "2023-02-21T06:45:34.185399",
     "status": "completed"
    },
    "tags": []
   },
   "source": [
    "# 3.\n",
    "\n",
    "In the previous exercise, the candy-sharing friends Alice, Bob and Carol tried to split candies evenly. For the sake of their friendship, any candies left over would be smashed. For example, if they collectively bring home 91 candies, they'll take 30 each and smash 1.\n",
    "\n",
    "Below is a simple function that will calculate the number of candies to smash for *any* number of total candies.\n",
    "\n",
    "Modify it so that it optionally takes a second argument representing the number of friends the candies are being split between. If no second argument is provided, it should assume 3 friends, as before.\n",
    "\n",
    "Update the docstring to reflect this new behaviour."
   ]
  },
  {
   "cell_type": "code",
   "execution_count": 6,
   "id": "1076ff76",
   "metadata": {
    "execution": {
     "iopub.execute_input": "2023-02-21T06:45:34.204491Z",
     "iopub.status.busy": "2023-02-21T06:45:34.204045Z",
     "iopub.status.idle": "2023-02-21T06:45:34.215249Z",
     "shell.execute_reply": "2023-02-21T06:45:34.213891Z"
    },
    "papermill": {
     "duration": 0.021534,
     "end_time": "2023-02-21T06:45:34.218188",
     "exception": false,
     "start_time": "2023-02-21T06:45:34.196654",
     "status": "completed"
    },
    "tags": []
   },
   "outputs": [
    {
     "data": {
      "application/javascript": [
       "parent.postMessage({\"jupyterEvent\": \"custom.exercise_interaction\", \"data\": {\"outcomeType\": 1, \"valueTowardsCompletion\": 0.16666666666666666, \"interactionType\": 1, \"questionType\": 2, \"questionId\": \"3_CandySmashingFunctionProblem\", \"learnToolsVersion\": \"0.3.4\", \"failureMessage\": \"\", \"exceptionClass\": \"\", \"trace\": \"\"}}, \"*\")"
      ],
      "text/plain": [
       "<IPython.core.display.Javascript object>"
      ]
     },
     "metadata": {},
     "output_type": "display_data"
    },
    {
     "data": {
      "text/markdown": [
       "<span style=\"color:#33cc33\">Correct</span>"
      ],
      "text/plain": [
       "Correct"
      ]
     },
     "metadata": {},
     "output_type": "display_data"
    }
   ],
   "source": [
    "def to_smash(total_candies, total_friends = None):\n",
    "    \"\"\"Return the number of leftover candies that must be smashed after distributing\n",
    "    the given number of candies evenly between 3 friends if second argument 'total_friends' is not given, otherwise distibute \n",
    "    among all the friends (total_friends) and remainging will get smashed\n",
    "    \n",
    "    >>> to_smash(91)\n",
    "    1\n",
    "    \n",
    "    >>> to_smash(91, 7)\n",
    "    0\n",
    "    \"\"\"\n",
    "    result = total_candies % 3\n",
    "    \n",
    "    if(total_friends != None):\n",
    "        result = total_candies % total_friends\n",
    "    \n",
    "    return result\n",
    "\n",
    "# Check your answer\n",
    "q3.check()"
   ]
  },
  {
   "cell_type": "code",
   "execution_count": 7,
   "id": "50349b05",
   "metadata": {
    "execution": {
     "iopub.execute_input": "2023-02-21T06:45:34.232575Z",
     "iopub.status.busy": "2023-02-21T06:45:34.232147Z",
     "iopub.status.idle": "2023-02-21T06:45:34.238467Z",
     "shell.execute_reply": "2023-02-21T06:45:34.236802Z"
    },
    "papermill": {
     "duration": 0.016365,
     "end_time": "2023-02-21T06:45:34.240913",
     "exception": false,
     "start_time": "2023-02-21T06:45:34.224548",
     "status": "completed"
    },
    "tags": []
   },
   "outputs": [],
   "source": [
    "#q3.hint()"
   ]
  },
  {
   "cell_type": "code",
   "execution_count": 8,
   "id": "51814d39",
   "metadata": {
    "execution": {
     "iopub.execute_input": "2023-02-21T06:45:34.256696Z",
     "iopub.status.busy": "2023-02-21T06:45:34.255556Z",
     "iopub.status.idle": "2023-02-21T06:45:34.261958Z",
     "shell.execute_reply": "2023-02-21T06:45:34.260526Z"
    },
    "papermill": {
     "duration": 0.017277,
     "end_time": "2023-02-21T06:45:34.264759",
     "exception": false,
     "start_time": "2023-02-21T06:45:34.247482",
     "status": "completed"
    },
    "tags": []
   },
   "outputs": [],
   "source": [
    "#q3.solution()"
   ]
  },
  {
   "cell_type": "markdown",
   "id": "a01e6451",
   "metadata": {
    "papermill": {
     "duration": 0.005849,
     "end_time": "2023-02-21T06:45:34.276889",
     "exception": false,
     "start_time": "2023-02-21T06:45:34.271040",
     "status": "completed"
    },
    "tags": []
   },
   "source": [
    "# 4. (Optional)\n",
    "\n",
    "It may not be fun, but reading and understanding error messages will be an important part of your Python career.\n",
    "\n",
    "Each code cell below contains some commented buggy code. For each cell...\n",
    "\n",
    "1. Read the code and predict what you think will happen when it's run.\n",
    "2. Then uncomment the code and run it to see what happens. (**Tip**: In the kernel editor, you can highlight several lines and press `ctrl`+`/` to toggle commenting.)\n",
    "3. Fix the code (so that it accomplishes its intended purpose without throwing an exception)\n",
    "\n",
    "<!-- TODO: should this be autochecked? Delta is probably pretty small. -->"
   ]
  },
  {
   "cell_type": "code",
   "execution_count": 9,
   "id": "60562aec",
   "metadata": {
    "execution": {
     "iopub.execute_input": "2023-02-21T06:45:34.292467Z",
     "iopub.status.busy": "2023-02-21T06:45:34.292046Z",
     "iopub.status.idle": "2023-02-21T06:45:34.298170Z",
     "shell.execute_reply": "2023-02-21T06:45:34.296166Z"
    },
    "papermill": {
     "duration": 0.016906,
     "end_time": "2023-02-21T06:45:34.300935",
     "exception": false,
     "start_time": "2023-02-21T06:45:34.284029",
     "status": "completed"
    },
    "tags": []
   },
   "outputs": [],
   "source": [
    "# ruound_to_two_places(9.9999)"
   ]
  },
  {
   "cell_type": "code",
   "execution_count": 10,
   "id": "af698d41",
   "metadata": {
    "execution": {
     "iopub.execute_input": "2023-02-21T06:45:34.315647Z",
     "iopub.status.busy": "2023-02-21T06:45:34.315221Z",
     "iopub.status.idle": "2023-02-21T06:45:34.320559Z",
     "shell.execute_reply": "2023-02-21T06:45:34.318816Z"
    },
    "papermill": {
     "duration": 0.016233,
     "end_time": "2023-02-21T06:45:34.323692",
     "exception": false,
     "start_time": "2023-02-21T06:45:34.307459",
     "status": "completed"
    },
    "tags": []
   },
   "outputs": [],
   "source": [
    "# x = -10\n",
    "# y = 5\n",
    "# # Which of the two variables above has the smallest absolute value?\n",
    "# smallest_abs = min(abs(x, y))"
   ]
  },
  {
   "cell_type": "code",
   "execution_count": 11,
   "id": "32d85c00",
   "metadata": {
    "execution": {
     "iopub.execute_input": "2023-02-21T06:45:34.338582Z",
     "iopub.status.busy": "2023-02-21T06:45:34.338155Z",
     "iopub.status.idle": "2023-02-21T06:45:34.345000Z",
     "shell.execute_reply": "2023-02-21T06:45:34.343586Z"
    },
    "papermill": {
     "duration": 0.017816,
     "end_time": "2023-02-21T06:45:34.347920",
     "exception": false,
     "start_time": "2023-02-21T06:45:34.330104",
     "status": "completed"
    },
    "tags": []
   },
   "outputs": [
    {
     "name": "stdout",
     "output_type": "stream",
     "text": [
      "5\n"
     ]
    }
   ],
   "source": [
    "def f(x):\n",
    "    y = abs(x)\n",
    "    return y\n",
    "\n",
    "print(f(5))"
   ]
  },
  {
   "cell_type": "markdown",
   "id": "43cbaac7",
   "metadata": {
    "papermill": {
     "duration": 0.006377,
     "end_time": "2023-02-21T06:45:34.362193",
     "exception": false,
     "start_time": "2023-02-21T06:45:34.355816",
     "status": "completed"
    },
    "tags": []
   },
   "source": [
    "# Keep Going\n",
    "\n",
    "Nice job with the code. Next up, you'll learn about *conditionals*, which you'll need to **[write interesting programs](https://www.kaggle.com/colinmorris/booleans-and-conditionals)**. "
   ]
  },
  {
   "cell_type": "markdown",
   "id": "cfc79782",
   "metadata": {
    "papermill": {
     "duration": 0.005912,
     "end_time": "2023-02-21T06:45:34.374760",
     "exception": false,
     "start_time": "2023-02-21T06:45:34.368848",
     "status": "completed"
    },
    "tags": []
   },
   "source": [
    "---\n",
    "\n",
    "\n",
    "\n",
    "\n",
    "*Have questions or comments? Visit the [course discussion forum](https://www.kaggle.com/learn/python/discussion) to chat with other learners.*"
   ]
  }
 ],
 "metadata": {
  "kernelspec": {
   "display_name": "Python 3",
   "language": "python",
   "name": "python3"
  },
  "language_info": {
   "codemirror_mode": {
    "name": "ipython",
    "version": 3
   },
   "file_extension": ".py",
   "mimetype": "text/x-python",
   "name": "python",
   "nbconvert_exporter": "python",
   "pygments_lexer": "ipython3",
   "version": "3.7.12"
  },
  "papermill": {
   "default_parameters": {},
   "duration": 10.348743,
   "end_time": "2023-02-21T06:45:35.205358",
   "environment_variables": {},
   "exception": null,
   "input_path": "__notebook__.ipynb",
   "output_path": "__notebook__.ipynb",
   "parameters": {},
   "start_time": "2023-02-21T06:45:24.856615",
   "version": "2.3.4"
  }
 },
 "nbformat": 4,
 "nbformat_minor": 5
}
