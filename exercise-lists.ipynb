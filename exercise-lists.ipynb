{
 "cells": [
  {
   "cell_type": "markdown",
   "id": "73142def",
   "metadata": {
    "papermill": {
     "duration": 0.00867,
     "end_time": "2023-02-21T09:31:53.294385",
     "exception": false,
     "start_time": "2023-02-21T09:31:53.285715",
     "status": "completed"
    },
    "tags": []
   },
   "source": [
    "**This notebook is an exercise in the [Python](https://www.kaggle.com/learn/python) course.  You can reference the tutorial at [this link](https://www.kaggle.com/colinmorris/lists).**\n",
    "\n",
    "---\n"
   ]
  },
  {
   "cell_type": "markdown",
   "id": "9839bffa",
   "metadata": {
    "papermill": {
     "duration": 0.004643,
     "end_time": "2023-02-21T09:31:53.304202",
     "exception": false,
     "start_time": "2023-02-21T09:31:53.299559",
     "status": "completed"
    },
    "tags": []
   },
   "source": [
    "Things get more interesting with lists. You'll apply your new knowledge to solve the questions below. Remember to run the following cell first."
   ]
  },
  {
   "cell_type": "code",
   "execution_count": 1,
   "id": "ff40dd50",
   "metadata": {
    "execution": {
     "iopub.execute_input": "2023-02-21T09:31:53.316463Z",
     "iopub.status.busy": "2023-02-21T09:31:53.315669Z",
     "iopub.status.idle": "2023-02-21T09:31:53.366126Z",
     "shell.execute_reply": "2023-02-21T09:31:53.364799Z"
    },
    "papermill": {
     "duration": 0.060403,
     "end_time": "2023-02-21T09:31:53.369605",
     "exception": false,
     "start_time": "2023-02-21T09:31:53.309202",
     "status": "completed"
    },
    "tags": []
   },
   "outputs": [
    {
     "name": "stdout",
     "output_type": "stream",
     "text": [
      "Setup complete.\n"
     ]
    }
   ],
   "source": [
    "from learntools.core import binder; binder.bind(globals())\n",
    "from learntools.python.ex4 import *\n",
    "print('Setup complete.')"
   ]
  },
  {
   "cell_type": "markdown",
   "id": "6cd4a6a1",
   "metadata": {
    "papermill": {
     "duration": 0.004686,
     "end_time": "2023-02-21T09:31:53.379445",
     "exception": false,
     "start_time": "2023-02-21T09:31:53.374759",
     "status": "completed"
    },
    "tags": []
   },
   "source": [
    "# 1.\n",
    "\n",
    "Complete the function below according to its docstring."
   ]
  },
  {
   "cell_type": "code",
   "execution_count": 2,
   "id": "3a194358",
   "metadata": {
    "execution": {
     "iopub.execute_input": "2023-02-21T09:31:53.391016Z",
     "iopub.status.busy": "2023-02-21T09:31:53.390631Z",
     "iopub.status.idle": "2023-02-21T09:31:53.403687Z",
     "shell.execute_reply": "2023-02-21T09:31:53.402636Z"
    },
    "papermill": {
     "duration": 0.021424,
     "end_time": "2023-02-21T09:31:53.405784",
     "exception": false,
     "start_time": "2023-02-21T09:31:53.384360",
     "status": "completed"
    },
    "tags": []
   },
   "outputs": [
    {
     "data": {
      "application/javascript": [
       "parent.postMessage({\"jupyterEvent\": \"custom.exercise_interaction\", \"data\": {\"outcomeType\": 1, \"valueTowardsCompletion\": 0.2, \"interactionType\": 1, \"questionType\": 2, \"questionId\": \"1_SelectSecondItem\", \"learnToolsVersion\": \"0.3.4\", \"failureMessage\": \"\", \"exceptionClass\": \"\", \"trace\": \"\"}}, \"*\")"
      ],
      "text/plain": [
       "<IPython.core.display.Javascript object>"
      ]
     },
     "metadata": {},
     "output_type": "display_data"
    },
    {
     "data": {
      "text/markdown": [
       "<span style=\"color:#33cc33\">Correct</span>"
      ],
      "text/plain": [
       "Correct"
      ]
     },
     "metadata": {},
     "output_type": "display_data"
    }
   ],
   "source": [
    "def select_second(L):\n",
    "    \"\"\"Return the second element of the given list. If the list has no second\n",
    "    element, return None.\n",
    "    \"\"\"\n",
    "    if (len(L)==0 or len(L) == 1):\n",
    "        return None\n",
    "    else:\n",
    "        return L[1]\n",
    "\n",
    "# Check your answer\n",
    "q1.check()"
   ]
  },
  {
   "cell_type": "code",
   "execution_count": 3,
   "id": "eaf89303",
   "metadata": {
    "collapsed": true,
    "execution": {
     "iopub.execute_input": "2023-02-21T09:31:53.418838Z",
     "iopub.status.busy": "2023-02-21T09:31:53.418141Z",
     "iopub.status.idle": "2023-02-21T09:31:53.421936Z",
     "shell.execute_reply": "2023-02-21T09:31:53.421068Z"
    },
    "jupyter": {
     "outputs_hidden": true
    },
    "papermill": {
     "duration": 0.013381,
     "end_time": "2023-02-21T09:31:53.424581",
     "exception": false,
     "start_time": "2023-02-21T09:31:53.411200",
     "status": "completed"
    },
    "tags": []
   },
   "outputs": [],
   "source": [
    "#q1.hint()\n",
    "#q1.solution()"
   ]
  },
  {
   "cell_type": "markdown",
   "id": "0ad0d69f",
   "metadata": {
    "papermill": {
     "duration": 0.005227,
     "end_time": "2023-02-21T09:31:53.435430",
     "exception": false,
     "start_time": "2023-02-21T09:31:53.430203",
     "status": "completed"
    },
    "tags": []
   },
   "source": [
    "# 2.\n",
    "\n",
    "You are analyzing sports teams.  Members of each team are stored in a list. The Coach is the first name in the list, the captain is the second name in the list, and other players are listed after that. \n",
    "These lists are stored in another list, which starts with the best team and proceeds through the list to the worst team last.  Complete the function below to select the **captain** of the worst team."
   ]
  },
  {
   "cell_type": "code",
   "execution_count": 4,
   "id": "16dbd2b3",
   "metadata": {
    "execution": {
     "iopub.execute_input": "2023-02-21T09:31:53.448701Z",
     "iopub.status.busy": "2023-02-21T09:31:53.447793Z",
     "iopub.status.idle": "2023-02-21T09:31:53.455504Z",
     "shell.execute_reply": "2023-02-21T09:31:53.454742Z"
    },
    "papermill": {
     "duration": 0.016814,
     "end_time": "2023-02-21T09:31:53.457687",
     "exception": false,
     "start_time": "2023-02-21T09:31:53.440873",
     "status": "completed"
    },
    "tags": []
   },
   "outputs": [
    {
     "data": {
      "application/javascript": [
       "parent.postMessage({\"jupyterEvent\": \"custom.exercise_interaction\", \"data\": {\"outcomeType\": 1, \"valueTowardsCompletion\": 0.2, \"interactionType\": 1, \"questionType\": 2, \"questionId\": \"2_LosingTeamCaptain\", \"learnToolsVersion\": \"0.3.4\", \"failureMessage\": \"\", \"exceptionClass\": \"\", \"trace\": \"\"}}, \"*\")"
      ],
      "text/plain": [
       "<IPython.core.display.Javascript object>"
      ]
     },
     "metadata": {},
     "output_type": "display_data"
    },
    {
     "data": {
      "text/markdown": [
       "<span style=\"color:#33cc33\">Correct</span>"
      ],
      "text/plain": [
       "Correct"
      ]
     },
     "metadata": {},
     "output_type": "display_data"
    }
   ],
   "source": [
    "def losing_team_captain(teams):\n",
    "    \"\"\"Given a list of teams, where each team is a list of names, return the 2nd player (captain)\n",
    "    from the last listed team\n",
    "    \"\"\"\n",
    "    return teams[len(teams)-1][1]\n",
    "\n",
    "# Check your answer\n",
    "q2.check()"
   ]
  },
  {
   "cell_type": "code",
   "execution_count": 5,
   "id": "3a082f24",
   "metadata": {
    "collapsed": true,
    "execution": {
     "iopub.execute_input": "2023-02-21T09:31:53.470943Z",
     "iopub.status.busy": "2023-02-21T09:31:53.470335Z",
     "iopub.status.idle": "2023-02-21T09:31:53.473892Z",
     "shell.execute_reply": "2023-02-21T09:31:53.473101Z"
    },
    "jupyter": {
     "outputs_hidden": true
    },
    "papermill": {
     "duration": 0.012738,
     "end_time": "2023-02-21T09:31:53.476013",
     "exception": false,
     "start_time": "2023-02-21T09:31:53.463275",
     "status": "completed"
    },
    "tags": []
   },
   "outputs": [],
   "source": [
    "#q2.hint()\n",
    "#q2.solution()"
   ]
  },
  {
   "cell_type": "markdown",
   "id": "053b1c3c",
   "metadata": {
    "papermill": {
     "duration": 0.005333,
     "end_time": "2023-02-21T09:31:53.487024",
     "exception": false,
     "start_time": "2023-02-21T09:31:53.481691",
     "status": "completed"
    },
    "tags": []
   },
   "source": [
    "# 3.\n",
    "\n",
    "The next iteration of Mario Kart will feature an extra-infuriating new item, the *Purple Shell*. When used, it warps the last place racer into first place and the first place racer into last place. Complete the function below to implement the Purple Shell's effect."
   ]
  },
  {
   "cell_type": "code",
   "execution_count": 6,
   "id": "edac0635",
   "metadata": {
    "execution": {
     "iopub.execute_input": "2023-02-21T09:31:53.500404Z",
     "iopub.status.busy": "2023-02-21T09:31:53.499914Z",
     "iopub.status.idle": "2023-02-21T09:31:53.509463Z",
     "shell.execute_reply": "2023-02-21T09:31:53.508462Z"
    },
    "papermill": {
     "duration": 0.019069,
     "end_time": "2023-02-21T09:31:53.511701",
     "exception": false,
     "start_time": "2023-02-21T09:31:53.492632",
     "status": "completed"
    },
    "tags": []
   },
   "outputs": [
    {
     "data": {
      "application/javascript": [
       "parent.postMessage({\"jupyterEvent\": \"custom.exercise_interaction\", \"data\": {\"outcomeType\": 1, \"valueTowardsCompletion\": 0.2, \"interactionType\": 1, \"questionType\": 2, \"questionId\": \"3_PurpleShell\", \"learnToolsVersion\": \"0.3.4\", \"failureMessage\": \"\", \"exceptionClass\": \"\", \"trace\": \"\"}}, \"*\")"
      ],
      "text/plain": [
       "<IPython.core.display.Javascript object>"
      ]
     },
     "metadata": {},
     "output_type": "display_data"
    },
    {
     "data": {
      "text/markdown": [
       "<span style=\"color:#33cc33\">Correct</span>"
      ],
      "text/plain": [
       "Correct"
      ]
     },
     "metadata": {},
     "output_type": "display_data"
    }
   ],
   "source": [
    "def purple_shell(racers):\n",
    "    \"\"\"Given a list of racers, set the first place racer (at the front of the list) to last\n",
    "    place and vice versa.\n",
    "    \n",
    "    >>> r = [\"Mario\", \"Bowser\", \"Luigi\"]\n",
    "    >>> purple_shell(r)\n",
    "    >>> r\n",
    "    [\"Luigi\", \"Bowser\", \"Mario\"]\n",
    "    \"\"\"\n",
    "    racers[0], racers[len(racers)-1] = racers[len(racers)-1], racers[0]\n",
    "\n",
    "# Check your answer\n",
    "q3.check()"
   ]
  },
  {
   "cell_type": "code",
   "execution_count": 7,
   "id": "7d29846b",
   "metadata": {
    "execution": {
     "iopub.execute_input": "2023-02-21T09:31:53.525792Z",
     "iopub.status.busy": "2023-02-21T09:31:53.525187Z",
     "iopub.status.idle": "2023-02-21T09:31:53.532844Z",
     "shell.execute_reply": "2023-02-21T09:31:53.531634Z"
    },
    "papermill": {
     "duration": 0.017784,
     "end_time": "2023-02-21T09:31:53.535353",
     "exception": false,
     "start_time": "2023-02-21T09:31:53.517569",
     "status": "completed"
    },
    "tags": []
   },
   "outputs": [
    {
     "data": {
      "application/javascript": [
       "parent.postMessage({\"jupyterEvent\": \"custom.exercise_interaction\", \"data\": {\"interactionType\": 2, \"questionType\": 2, \"questionId\": \"3_PurpleShell\", \"learnToolsVersion\": \"0.3.4\", \"valueTowardsCompletion\": 0.0, \"failureMessage\": \"\", \"exceptionClass\": \"\", \"trace\": \"\", \"outcomeType\": 4}}, \"*\")"
      ],
      "text/plain": [
       "<IPython.core.display.Javascript object>"
      ]
     },
     "metadata": {},
     "output_type": "display_data"
    },
    {
     "data": {
      "text/markdown": [
       "<span style=\"color:#3366cc\">Hint:</span> Your function should change the list it receives, but not return anything\n",
       "\n",
       "To swap the list elements, think back to the code you used in the very first exercise to swap two variables."
      ],
      "text/plain": [
       "Hint: Your function should change the list it receives, but not return anything\n",
       "\n",
       "To swap the list elements, think back to the code you used in the very first exercise to swap two variables."
      ]
     },
     "metadata": {},
     "output_type": "display_data"
    }
   ],
   "source": [
    "q3.hint()\n",
    "#q3.solution()"
   ]
  },
  {
   "cell_type": "markdown",
   "id": "312d55c6",
   "metadata": {
    "papermill": {
     "duration": 0.005886,
     "end_time": "2023-02-21T09:31:53.547543",
     "exception": false,
     "start_time": "2023-02-21T09:31:53.541657",
     "status": "completed"
    },
    "tags": []
   },
   "source": [
    "# 4.\n",
    "\n",
    "What are the lengths of the following lists? Fill in the variable `lengths` with your predictions. (Try to make a prediction for each list *without* just calling `len()` on it.)"
   ]
  },
  {
   "cell_type": "code",
   "execution_count": 8,
   "id": "34563e5b",
   "metadata": {
    "execution": {
     "iopub.execute_input": "2023-02-21T09:31:53.565260Z",
     "iopub.status.busy": "2023-02-21T09:31:53.564805Z",
     "iopub.status.idle": "2023-02-21T09:31:53.582513Z",
     "shell.execute_reply": "2023-02-21T09:31:53.581170Z"
    },
    "papermill": {
     "duration": 0.032481,
     "end_time": "2023-02-21T09:31:53.586096",
     "exception": false,
     "start_time": "2023-02-21T09:31:53.553615",
     "status": "completed"
    },
    "tags": []
   },
   "outputs": [
    {
     "data": {
      "application/javascript": [
       "parent.postMessage({\"jupyterEvent\": \"custom.exercise_interaction\", \"data\": {\"outcomeType\": 1, \"valueTowardsCompletion\": 0.2, \"interactionType\": 1, \"questionType\": 1, \"questionId\": \"4_UnderstandLen\", \"learnToolsVersion\": \"0.3.4\", \"failureMessage\": \"\", \"exceptionClass\": \"\", \"trace\": \"\"}}, \"*\")"
      ],
      "text/plain": [
       "<IPython.core.display.Javascript object>"
      ]
     },
     "metadata": {},
     "output_type": "display_data"
    },
    {
     "data": {
      "text/markdown": [
       "<span style=\"color:#33cc33\">Correct:</span> \n",
       "\n",
       "\n",
       "- a: There are three items in this list. Nothing tricky yet.\n",
       "- b: The list `[2, 3]` counts as a single item. It has one item before it. So we have 2 items in the list\n",
       "- c: The empty list has 0 items\n",
       "- d: The expression is the same as the list `[2, 3]`, which has length 2."
      ],
      "text/plain": [
       "Correct: \n",
       "\n",
       "\n",
       "- a: There are three items in this list. Nothing tricky yet.\n",
       "- b: The list `[2, 3]` counts as a single item. It has one item before it. So we have 2 items in the list\n",
       "- c: The empty list has 0 items\n",
       "- d: The expression is the same as the list `[2, 3]`, which has length 2."
      ]
     },
     "metadata": {},
     "output_type": "display_data"
    }
   ],
   "source": [
    "a = [1, 2, 3]\n",
    "b = [1, [2, 3]]\n",
    "c = []\n",
    "d = [1, 2, 3][1:]\n",
    "\n",
    "# Put your predictions in the list below. Lengths should contain 4 numbers, the\n",
    "# first being the length of a, the second being the length of b and so on.\n",
    "lengths = [3,2,0,2]\n",
    "\n",
    "# Check your answer\n",
    "q4.check()"
   ]
  },
  {
   "cell_type": "code",
   "execution_count": 9,
   "id": "db678bdb",
   "metadata": {
    "collapsed": true,
    "execution": {
     "iopub.execute_input": "2023-02-21T09:31:53.601715Z",
     "iopub.status.busy": "2023-02-21T09:31:53.601231Z",
     "iopub.status.idle": "2023-02-21T09:31:53.608033Z",
     "shell.execute_reply": "2023-02-21T09:31:53.606620Z"
    },
    "jupyter": {
     "outputs_hidden": true
    },
    "papermill": {
     "duration": 0.017913,
     "end_time": "2023-02-21T09:31:53.610961",
     "exception": false,
     "start_time": "2023-02-21T09:31:53.593048",
     "status": "completed"
    },
    "tags": []
   },
   "outputs": [],
   "source": [
    "# line below provides some explanation\n",
    "#q4.solution()"
   ]
  },
  {
   "cell_type": "markdown",
   "id": "64c679c5",
   "metadata": {
    "papermill": {
     "duration": 0.007726,
     "end_time": "2023-02-21T09:31:53.625463",
     "exception": false,
     "start_time": "2023-02-21T09:31:53.617737",
     "status": "completed"
    },
    "tags": []
   },
   "source": [
    "# 5. <span title=\"A bit spicy\" style=\"color: darkgreen \">🌶️</span>\n",
    "\n",
    "We're using lists to record people who attended our party and what order they arrived in. For example, the following list represents a party with 7 guests, in which Adela showed up first and Ford was the last to arrive:\n",
    "\n",
    "    party_attendees = ['Adela', 'Fleda', 'Owen', 'May', 'Mona', 'Gilbert', 'Ford']\n",
    "\n",
    "A guest is considered 'fashionably late' if they arrived after at least half of the party's guests. However, they must not be the very last guest (that's taking it too far). In the above example, Mona and Gilbert are the only guests who were fashionably late.\n",
    "\n",
    "Complete the function below which takes a list of party attendees as well as a person, and tells us whether that person is fashionably late."
   ]
  },
  {
   "cell_type": "code",
   "execution_count": 10,
   "id": "62013845",
   "metadata": {
    "execution": {
     "iopub.execute_input": "2023-02-21T09:31:53.643352Z",
     "iopub.status.busy": "2023-02-21T09:31:53.642861Z",
     "iopub.status.idle": "2023-02-21T09:31:53.651581Z",
     "shell.execute_reply": "2023-02-21T09:31:53.650589Z"
    },
    "papermill": {
     "duration": 0.019228,
     "end_time": "2023-02-21T09:31:53.654100",
     "exception": false,
     "start_time": "2023-02-21T09:31:53.634872",
     "status": "completed"
    },
    "tags": []
   },
   "outputs": [
    {
     "data": {
      "application/javascript": [
       "parent.postMessage({\"jupyterEvent\": \"custom.exercise_interaction\", \"data\": {\"outcomeType\": 1, \"valueTowardsCompletion\": 0.2, \"interactionType\": 1, \"questionType\": 2, \"questionId\": \"5_FashionablyLate\", \"learnToolsVersion\": \"0.3.4\", \"failureMessage\": \"\", \"exceptionClass\": \"\", \"trace\": \"\"}}, \"*\")"
      ],
      "text/plain": [
       "<IPython.core.display.Javascript object>"
      ]
     },
     "metadata": {},
     "output_type": "display_data"
    },
    {
     "data": {
      "text/markdown": [
       "<span style=\"color:#33cc33\">Correct</span>"
      ],
      "text/plain": [
       "Correct"
      ]
     },
     "metadata": {},
     "output_type": "display_data"
    }
   ],
   "source": [
    "def fashionably_late(arrivals, name):\n",
    "    \"\"\"Given an ordered list of arrivals to the party and a name, return whether the guest with that\n",
    "    name was fashionably late.\n",
    "    \"\"\"\n",
    "    order_index = arrivals.index(name)\n",
    "    \n",
    "    return order_index >= len(arrivals)/2 and order_index != len(arrivals)-1\n",
    "\n",
    "# Check your answer\n",
    "q5.check()"
   ]
  },
  {
   "cell_type": "code",
   "execution_count": 11,
   "id": "1f9e32e1",
   "metadata": {
    "collapsed": true,
    "execution": {
     "iopub.execute_input": "2023-02-21T09:31:53.670594Z",
     "iopub.status.busy": "2023-02-21T09:31:53.669671Z",
     "iopub.status.idle": "2023-02-21T09:31:53.674342Z",
     "shell.execute_reply": "2023-02-21T09:31:53.673412Z"
    },
    "jupyter": {
     "outputs_hidden": true
    },
    "papermill": {
     "duration": 0.01552,
     "end_time": "2023-02-21T09:31:53.676692",
     "exception": false,
     "start_time": "2023-02-21T09:31:53.661172",
     "status": "completed"
    },
    "tags": []
   },
   "outputs": [],
   "source": [
    "#q5.hint()\n",
    "#q5.solution()"
   ]
  },
  {
   "cell_type": "markdown",
   "id": "770a4e87",
   "metadata": {
    "papermill": {
     "duration": 0.006508,
     "end_time": "2023-02-21T09:31:53.690047",
     "exception": false,
     "start_time": "2023-02-21T09:31:53.683539",
     "status": "completed"
    },
    "tags": []
   },
   "source": [
    "# Keep Going\n",
    "\n",
    "That's it for lists and tuples! Now you have the baseline knowledge to **[learn about loops](https://www.kaggle.com/colinmorris/loops-and-list-comprehensions)**, which is where lists and tuples get really interesting. "
   ]
  },
  {
   "cell_type": "markdown",
   "id": "5bdf6751",
   "metadata": {
    "papermill": {
     "duration": 0.00644,
     "end_time": "2023-02-21T09:31:53.703950",
     "exception": false,
     "start_time": "2023-02-21T09:31:53.697510",
     "status": "completed"
    },
    "tags": []
   },
   "source": [
    "---\n",
    "\n",
    "\n",
    "\n",
    "\n",
    "*Have questions or comments? Visit the [course discussion forum](https://www.kaggle.com/learn/python/discussion) to chat with other learners.*"
   ]
  }
 ],
 "metadata": {
  "kernelspec": {
   "display_name": "Python 3",
   "language": "python",
   "name": "python3"
  },
  "language_info": {
   "codemirror_mode": {
    "name": "ipython",
    "version": 3
   },
   "file_extension": ".py",
   "mimetype": "text/x-python",
   "name": "python",
   "nbconvert_exporter": "python",
   "pygments_lexer": "ipython3",
   "version": "3.7.12"
  },
  "papermill": {
   "default_parameters": {},
   "duration": 9.832538,
   "end_time": "2023-02-21T09:31:54.433572",
   "environment_variables": {},
   "exception": null,
   "input_path": "__notebook__.ipynb",
   "output_path": "__notebook__.ipynb",
   "parameters": {},
   "start_time": "2023-02-21T09:31:44.601034",
   "version": "2.3.4"
  }
 },
 "nbformat": 4,
 "nbformat_minor": 5
}
