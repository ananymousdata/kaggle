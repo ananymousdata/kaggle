{
 "cells": [
  {
   "cell_type": "markdown",
   "id": "38711414",
   "metadata": {
    "papermill": {
     "duration": 0.008485,
     "end_time": "2023-02-21T05:28:02.496507",
     "exception": false,
     "start_time": "2023-02-21T05:28:02.488022",
     "status": "completed"
    },
    "tags": []
   },
   "source": [
    "**This notebook is an exercise in the [Intro to Programming](https://www.kaggle.com/learn/intro-to-programming) course.  You can reference the tutorial at [this link](https://www.kaggle.com/alexisbcook/conditions-and-conditional-statements).**\n",
    "\n",
    "---\n"
   ]
  },
  {
   "cell_type": "markdown",
   "id": "64102039",
   "metadata": {
    "papermill": {
     "duration": 0.006942,
     "end_time": "2023-02-21T05:28:02.512200",
     "exception": false,
     "start_time": "2023-02-21T05:28:02.505258",
     "status": "completed"
    },
    "tags": []
   },
   "source": [
    "In the tutorial, you learned about conditions and conditional statements. In this exercise, you will use what you learned to answer several questions.\n",
    "\n",
    "# Set up the notebook\n",
    "\n",
    "Run the next code cell without changes to set up the notebook."
   ]
  },
  {
   "cell_type": "code",
   "execution_count": 1,
   "id": "4c4d20a6",
   "metadata": {
    "execution": {
     "iopub.execute_input": "2023-02-21T05:28:02.528578Z",
     "iopub.status.busy": "2023-02-21T05:28:02.527525Z",
     "iopub.status.idle": "2023-02-21T05:28:02.581785Z",
     "shell.execute_reply": "2023-02-21T05:28:02.580876Z"
    },
    "papermill": {
     "duration": 0.066379,
     "end_time": "2023-02-21T05:28:02.585394",
     "exception": false,
     "start_time": "2023-02-21T05:28:02.519015",
     "status": "completed"
    },
    "tags": []
   },
   "outputs": [
    {
     "name": "stdout",
     "output_type": "stream",
     "text": [
      "Setup complete.\n"
     ]
    }
   ],
   "source": [
    "from learntools.core import binder\n",
    "binder.bind(globals())\n",
    "from learntools.intro_to_programming.ex4 import *\n",
    "print('Setup complete.')"
   ]
  },
  {
   "cell_type": "markdown",
   "id": "8b2f787c",
   "metadata": {
    "papermill": {
     "duration": 0.00668,
     "end_time": "2023-02-21T05:28:02.599986",
     "exception": false,
     "start_time": "2023-02-21T05:28:02.593306",
     "status": "completed"
    },
    "tags": []
   },
   "source": [
    "# Question 1\n",
    "\n",
    "You work at a college admissions office.  When inspecting a dataset of college applicants, you notice that some students have represented their grades with letters (`\"A\"`, `\"B\"`, `\"C\"`, `\"D\"`, `\"F\"`), whereas others have represented their grades with a number between 0 and 100.\n",
    "\n",
    "You realize that for consistency, all of the grades should be formatted in the same way, and you decide to format them all as letters.  For the conversion, you decide to assign:\n",
    "- `\"A\"` - any grade 90-100, inclusive\n",
    "- `\"B\"` - any grade 80-89, inclusive\n",
    "- `\"C\"` - any grade 70-79, inclusive\n",
    "- `\"D\"` - any grade 60-69, inclusive\n",
    "- `\"F\"` - any grade <60\n",
    "\n",
    "Write a function `get_grade()` that takes as input:\n",
    "- `score` - an integer 0-100 corresponding to a numerical grade\n",
    "\n",
    "It should return a Python string with the letter grade that it corresponds to.  For instance,\n",
    "- A score of 85 corresponds to a B grade.  In other words, `get_grade(85)` should return `\"B\"`.\n",
    "- A score of 49 corresponds to an F grade.  In other words, `get_grade(49)` should return `\"F\"`.\n",
    "\n",
    "Make sure that when supplying the grade that is returned by the function, it is enclosed in quotes.  (For instance, if you want to return `\"A\"`, you should write `return \"A\"` and not `return A`.)"
   ]
  },
  {
   "cell_type": "code",
   "execution_count": 2,
   "id": "d9c904ac",
   "metadata": {
    "execution": {
     "iopub.execute_input": "2023-02-21T05:28:02.616014Z",
     "iopub.status.busy": "2023-02-21T05:28:02.615345Z",
     "iopub.status.idle": "2023-02-21T05:28:02.626890Z",
     "shell.execute_reply": "2023-02-21T05:28:02.625951Z"
    },
    "papermill": {
     "duration": 0.022378,
     "end_time": "2023-02-21T05:28:02.629301",
     "exception": false,
     "start_time": "2023-02-21T05:28:02.606923",
     "status": "completed"
    },
    "tags": []
   },
   "outputs": [
    {
     "data": {
      "application/javascript": [
       "parent.postMessage({\"jupyterEvent\": \"custom.exercise_interaction\", \"data\": {\"outcomeType\": 1, \"valueTowardsCompletion\": 0.2, \"interactionType\": 1, \"questionType\": 2, \"questionId\": \"1_GetGrade\", \"learnToolsVersion\": \"0.3.4\", \"failureMessage\": \"\", \"exceptionClass\": \"\", \"trace\": \"\"}}, \"*\")"
      ],
      "text/plain": [
       "<IPython.core.display.Javascript object>"
      ]
     },
     "metadata": {},
     "output_type": "display_data"
    },
    {
     "data": {
      "text/markdown": [
       "<span style=\"color:#33cc33\">Correct</span>"
      ],
      "text/plain": [
       "Correct"
      ]
     },
     "metadata": {},
     "output_type": "display_data"
    }
   ],
   "source": [
    "# TODO: Edit the function to return the correct grade for different scores\n",
    "def get_grade(score):\n",
    "    if(score >= 90):\n",
    "        grade = \"A\"\n",
    "    elif(score>=80):\n",
    "        grade = \"B\"\n",
    "    elif(score >=70):\n",
    "        grade = \"C\"\n",
    "    elif(score>=60):\n",
    "        grade = \"D\"\n",
    "    else:\n",
    "        grade = \"F\"\n",
    "    \n",
    "    return grade\n",
    "    \n",
    "# Check your answer\n",
    "q1.check()"
   ]
  },
  {
   "cell_type": "code",
   "execution_count": 3,
   "id": "e15040bb",
   "metadata": {
    "execution": {
     "iopub.execute_input": "2023-02-21T05:28:02.646097Z",
     "iopub.status.busy": "2023-02-21T05:28:02.645637Z",
     "iopub.status.idle": "2023-02-21T05:28:02.650176Z",
     "shell.execute_reply": "2023-02-21T05:28:02.648882Z"
    },
    "papermill": {
     "duration": 0.016179,
     "end_time": "2023-02-21T05:28:02.652675",
     "exception": false,
     "start_time": "2023-02-21T05:28:02.636496",
     "status": "completed"
    },
    "tags": []
   },
   "outputs": [],
   "source": [
    "# Uncomment to see a hint\n",
    "#q1.hint()\n",
    "\n",
    "# Uncomment to see the solution\n",
    "#q1.solution()"
   ]
  },
  {
   "cell_type": "markdown",
   "id": "d367605f",
   "metadata": {
    "papermill": {
     "duration": 0.006875,
     "end_time": "2023-02-21T05:28:02.667188",
     "exception": false,
     "start_time": "2023-02-21T05:28:02.660313",
     "status": "completed"
    },
    "tags": []
   },
   "source": [
    "# Question 2\n",
    "\n",
    "In the exercise for the previous lesson, you wrote a function `cost_of_project()` that estimated the price of rings for an online shop that sells rings with custom engravings.  This function did not use conditional statements.  In this exercise, you will rewrite the function to use conditional statements.  Recall that the online shop has the following price structure:\n",
    "- Gold plated rings have a base cost of \\\\$50, and you charge \\\\$7 per engraved unit.  \n",
    "- Solid gold rings have a base cost of \\\\$100, and you charge \\\\$10 per engraved unit.\n",
    "- Spaces and punctuation are counted as engraved units.\n",
    "\n",
    "Your function `cost_of_project()` takes two arguments:\n",
    "- `engraving` - a Python string with the text of the engraving\n",
    "- `solid_gold` - a Boolean that indicates whether the ring is solid gold\n",
    "\n",
    "It should return the cost of the project.  \n",
    "\n",
    "The function has been partially completed for you, and you need to fill in the blanks to complete the function."
   ]
  },
  {
   "cell_type": "code",
   "execution_count": 4,
   "id": "96adc76c",
   "metadata": {
    "execution": {
     "iopub.execute_input": "2023-02-21T05:28:02.683553Z",
     "iopub.status.busy": "2023-02-21T05:28:02.683129Z",
     "iopub.status.idle": "2023-02-21T05:28:02.692951Z",
     "shell.execute_reply": "2023-02-21T05:28:02.692021Z"
    },
    "papermill": {
     "duration": 0.020806,
     "end_time": "2023-02-21T05:28:02.695239",
     "exception": false,
     "start_time": "2023-02-21T05:28:02.674433",
     "status": "completed"
    },
    "tags": []
   },
   "outputs": [
    {
     "data": {
      "application/javascript": [
       "parent.postMessage({\"jupyterEvent\": \"custom.exercise_interaction\", \"data\": {\"outcomeType\": 1, \"valueTowardsCompletion\": 0.2, \"interactionType\": 1, \"questionType\": 2, \"questionId\": \"2_CostProjectPartDeux\", \"learnToolsVersion\": \"0.3.4\", \"failureMessage\": \"\", \"exceptionClass\": \"\", \"trace\": \"\"}}, \"*\")"
      ],
      "text/plain": [
       "<IPython.core.display.Javascript object>"
      ]
     },
     "metadata": {},
     "output_type": "display_data"
    },
    {
     "data": {
      "text/markdown": [
       "<span style=\"color:#33cc33\">Correct</span>"
      ],
      "text/plain": [
       "Correct"
      ]
     },
     "metadata": {},
     "output_type": "display_data"
    }
   ],
   "source": [
    "def cost_of_project(engraving, solid_gold):\n",
    "    if solid_gold == True:\n",
    "        cost = 100 + (len(engraving)*10)\n",
    "    else:\n",
    "        cost = 50 + (len(engraving)*7)\n",
    "    return cost\n",
    "\n",
    "# Check your answer\n",
    "q2.check()"
   ]
  },
  {
   "cell_type": "code",
   "execution_count": 5,
   "id": "bc2e63c2",
   "metadata": {
    "execution": {
     "iopub.execute_input": "2023-02-21T05:28:02.712745Z",
     "iopub.status.busy": "2023-02-21T05:28:02.712041Z",
     "iopub.status.idle": "2023-02-21T05:28:02.715959Z",
     "shell.execute_reply": "2023-02-21T05:28:02.715100Z"
    },
    "papermill": {
     "duration": 0.015503,
     "end_time": "2023-02-21T05:28:02.718467",
     "exception": false,
     "start_time": "2023-02-21T05:28:02.702964",
     "status": "completed"
    },
    "tags": []
   },
   "outputs": [],
   "source": [
    "# Uncomment to see a hint\n",
    "#q2.hint()\n",
    "\n",
    "# Uncomment to see the solution\n",
    "#q2.solution()"
   ]
  },
  {
   "cell_type": "markdown",
   "id": "d9725d0a",
   "metadata": {
    "papermill": {
     "duration": 0.007258,
     "end_time": "2023-02-21T05:28:02.733320",
     "exception": false,
     "start_time": "2023-02-21T05:28:02.726062",
     "status": "completed"
    },
    "tags": []
   },
   "source": [
    "# Question 3\n",
    "\n",
    "You are a programmer at a water agency.  Recently, you have been tasked to write a function `get_water_bill()` that takes as input:\n",
    "- `num_gallons` = the number of gallons of water that a customer used that month.  (This will always be an integer with no decimal part.)\n",
    "\n",
    "It should output the water bill.  \n",
    "\n",
    "The water agency uses this pricing structure:\n",
    "<table style=\"width: 100%;\">\n",
    "<tbody>\n",
    "<tr><th><b>Tier</b></th><th><b>Amount in gallons</b></th><th><b>Price per 1000 gallons</b></th></tr>\n",
    "<tr>\n",
    "<td>Tier 1</td>\n",
    "<td>0 - 8,000</td>\n",
    "<td>\\$5</td>\n",
    "</tr>\n",
    "<tr>\n",
    "<td>Tier 2</td>\n",
    "<td>8,001 - 22,000</td>\n",
    "<td>\\$6</td>\n",
    "</tr>\n",
    "<tr>\n",
    "<td>Tier 3</td>\n",
    "<td>22,001 - 30,000</td>\n",
    "<td>\\$7</td>\n",
    "</tr>\n",
    "<tr>\n",
    "<td>Tier 4</td>\n",
    "<td>30,001+</td>\n",
    "<td>\\$10</td>\n",
    "</tr>\n",
    "</tbody>\n",
    "</table>\n",
    "\n",
    "For example: \n",
    "- Someone who uses 10,000 gallons of water in a month is placed in Tier 2, and needs to pay a water bill of \\\\$6 * 10 = \\\\$60.  In other words, `get_water_bill(10000)` should return `60.0`.\n",
    "- Someone who uses 25,000 gallons of water in a month is placed in Tier 3, and needs to pay a water bill of \\\\$7 * 25 = \\\\$175.  In other words, `get_water_bill(25000)` should return `175.0`.\n",
    "\n",
    "**Do not round your answer.**  So, your answer might return fractions of a penny."
   ]
  },
  {
   "cell_type": "code",
   "execution_count": 6,
   "id": "1413c107",
   "metadata": {
    "execution": {
     "iopub.execute_input": "2023-02-21T05:28:02.750568Z",
     "iopub.status.busy": "2023-02-21T05:28:02.749744Z",
     "iopub.status.idle": "2023-02-21T05:28:02.762490Z",
     "shell.execute_reply": "2023-02-21T05:28:02.761019Z"
    },
    "papermill": {
     "duration": 0.024014,
     "end_time": "2023-02-21T05:28:02.764799",
     "exception": false,
     "start_time": "2023-02-21T05:28:02.740785",
     "status": "completed"
    },
    "tags": []
   },
   "outputs": [
    {
     "data": {
      "application/javascript": [
       "parent.postMessage({\"jupyterEvent\": \"custom.exercise_interaction\", \"data\": {\"outcomeType\": 1, \"valueTowardsCompletion\": 0.2, \"interactionType\": 1, \"questionType\": 2, \"questionId\": \"3_GetWaterBill\", \"learnToolsVersion\": \"0.3.4\", \"failureMessage\": \"\", \"exceptionClass\": \"\", \"trace\": \"\"}}, \"*\")"
      ],
      "text/plain": [
       "<IPython.core.display.Javascript object>"
      ]
     },
     "metadata": {},
     "output_type": "display_data"
    },
    {
     "data": {
      "text/markdown": [
       "<span style=\"color:#33cc33\">Correct</span>"
      ],
      "text/plain": [
       "Correct"
      ]
     },
     "metadata": {},
     "output_type": "display_data"
    }
   ],
   "source": [
    "# TODO: Edit the function to return the correct bill for different\n",
    "# values of num_gallons\n",
    "def get_water_bill(num_gallons):\n",
    "    if(num_gallons > 30000):\n",
    "        bill = (num_gallons/1000)*10\n",
    "    elif(num_gallons > 22000):\n",
    "        bill = (num_gallons/1000)*7\n",
    "    elif(num_gallons > 8000):\n",
    "        bill = (num_gallons/1000)*6\n",
    "    else:\n",
    "        bill = (num_gallons/1000)*5\n",
    "    \n",
    "    return bill\n",
    "\n",
    "# Check your answer\n",
    "q3.check()"
   ]
  },
  {
   "cell_type": "code",
   "execution_count": 7,
   "id": "19482b7f",
   "metadata": {
    "execution": {
     "iopub.execute_input": "2023-02-21T05:28:02.782928Z",
     "iopub.status.busy": "2023-02-21T05:28:02.781771Z",
     "iopub.status.idle": "2023-02-21T05:28:02.786340Z",
     "shell.execute_reply": "2023-02-21T05:28:02.785267Z"
    },
    "papermill": {
     "duration": 0.016157,
     "end_time": "2023-02-21T05:28:02.788861",
     "exception": false,
     "start_time": "2023-02-21T05:28:02.772704",
     "status": "completed"
    },
    "tags": []
   },
   "outputs": [],
   "source": [
    "# Uncomment to see a hint\n",
    "#q3.hint()\n",
    "\n",
    "# Uncomment to see the solution\n",
    "#q3.solution()"
   ]
  },
  {
   "cell_type": "markdown",
   "id": "07bf3753",
   "metadata": {
    "papermill": {
     "duration": 0.007373,
     "end_time": "2023-02-21T05:28:02.804073",
     "exception": false,
     "start_time": "2023-02-21T05:28:02.796700",
     "status": "completed"
    },
    "tags": []
   },
   "source": [
    "# Question 4\n",
    "\n",
    "You work for a company that provides data services.  For \\\\$100/month, your company provides 15 gigabytes (GB) of data.  Then, any additional data is billed at \\\\$0.10/MB (or \\\\$100/GB, since 1,000 MB are in 1 GB).\n",
    "\n",
    "Use the next code cell to write a function `get_phone_bill()` that takes as input:\n",
    "- `gb` = number of GB that the customer used in a month\n",
    "\n",
    "It should return the customer's total phone bill.\n",
    "\n",
    "For instance:\n",
    "- A customer who uses 10 GB of data in one month is billed only \\\\$100, since the usage stayed under 15 GB.  In other words, `get_phone_bill(10)` should return `100`.\n",
    "- A customer who uses 15.1 GB (or 15 GB + 100 MB) of data in one month has gone over by .1 GB, so they must pay \\\\$100 (cost of plan), plus \\\\$0.10 * 100 = \\\\$10, for a total bill of \\\\$110.  In other words, `get_phone_bill(15.1)` should return `110`.\n",
    "\n",
    "Do not round your answer."
   ]
  },
  {
   "cell_type": "code",
   "execution_count": 8,
   "id": "75fde097",
   "metadata": {
    "execution": {
     "iopub.execute_input": "2023-02-21T05:28:02.821260Z",
     "iopub.status.busy": "2023-02-21T05:28:02.820526Z",
     "iopub.status.idle": "2023-02-21T05:28:02.831009Z",
     "shell.execute_reply": "2023-02-21T05:28:02.829860Z"
    },
    "papermill": {
     "duration": 0.021766,
     "end_time": "2023-02-21T05:28:02.833378",
     "exception": false,
     "start_time": "2023-02-21T05:28:02.811612",
     "status": "completed"
    },
    "tags": []
   },
   "outputs": [
    {
     "data": {
      "application/javascript": [
       "parent.postMessage({\"jupyterEvent\": \"custom.exercise_interaction\", \"data\": {\"outcomeType\": 1, \"valueTowardsCompletion\": 0.2, \"interactionType\": 1, \"questionType\": 2, \"questionId\": \"4_GetPhoneBill\", \"learnToolsVersion\": \"0.3.4\", \"failureMessage\": \"\", \"exceptionClass\": \"\", \"trace\": \"\"}}, \"*\")"
      ],
      "text/plain": [
       "<IPython.core.display.Javascript object>"
      ]
     },
     "metadata": {},
     "output_type": "display_data"
    },
    {
     "data": {
      "text/markdown": [
       "<span style=\"color:#33cc33\">Correct</span>"
      ],
      "text/plain": [
       "Correct"
      ]
     },
     "metadata": {},
     "output_type": "display_data"
    }
   ],
   "source": [
    "# TODO: Edit the function to return the correct bill for different\n",
    "# values of GB\n",
    "def get_phone_bill(gb):\n",
    "    bill = 100\n",
    "    if(gb>15):\n",
    "        bill = 100 + 100*(gb-15)\n",
    "    return bill\n",
    "\n",
    "# Check your answer\n",
    "q4.check()"
   ]
  },
  {
   "cell_type": "code",
   "execution_count": 9,
   "id": "b02df903",
   "metadata": {
    "execution": {
     "iopub.execute_input": "2023-02-21T05:28:02.852000Z",
     "iopub.status.busy": "2023-02-21T05:28:02.851590Z",
     "iopub.status.idle": "2023-02-21T05:28:02.856827Z",
     "shell.execute_reply": "2023-02-21T05:28:02.855700Z"
    },
    "papermill": {
     "duration": 0.017787,
     "end_time": "2023-02-21T05:28:02.859244",
     "exception": false,
     "start_time": "2023-02-21T05:28:02.841457",
     "status": "completed"
    },
    "tags": []
   },
   "outputs": [],
   "source": [
    "# Uncomment to see a hint\n",
    "#q4.hint()\n",
    "\n",
    "# Uncomment to see the solution\n",
    "#q4.solution()"
   ]
  },
  {
   "cell_type": "markdown",
   "id": "31aff603",
   "metadata": {
    "papermill": {
     "duration": 0.007612,
     "end_time": "2023-02-21T05:28:02.875661",
     "exception": false,
     "start_time": "2023-02-21T05:28:02.868049",
     "status": "completed"
    },
    "tags": []
   },
   "source": [
    "# 🌶️ Question 5\n",
    "\n",
    "In Mexico, foods and beverages that are high in saturated fat, trans fat, sugar, sodium, and/or calories appear with warning labels that are designed to help consumers make healthy food choices.\n",
    "\n",
    "For instance, the [box of cookies](https://world.openfoodfacts.org/product/7501000673209/florentinas-gamesa) in the image below appears with two labels (in the upper right corner):\n",
    "- EXCESO CALORÍAS (in English, EXCESS CALORIES)\n",
    "- EXCESO AZÚCARES (in English, EXCESS SUGAR)\n",
    "\n",
    "<center><img src=\"https://i.imgur.com/VXYKHnM.png\" alt=\"drawing\" width=\"500\"/></center>\n",
    "\n",
    "In this question, you'll work with a function `get_labels()` that takes the nutritional details about a food item and prints the needed warning labels.  This function takes several inputs:\n",
    "- `food_type` = one of `\"solid\"` or `\"liquid\"`\n",
    "- `serving_size` = size of one serving (if solid, in grams; if liquid, in milliliters)\n",
    "- `calories_per_serving` = calories in one serving\n",
    "- `saturated_fat_g` = grams of saturated fat in one serving\n",
    "- `trans_fat_g` = grams of trans fat in one serving\n",
    "- `sodium_mg` = mg of sodium in one serving\n",
    "- `sugars_g` = grams of sugar in one serving\n",
    "\n",
    "Note that some of the code here should feel unfamiliar to you, since we have not shared the details of how some of the functions like `excess_sugar()` or `excess_saturated_fat()` work.  But at a high level, these are functions that return a value of `True` if the food is deemed to have an excess of sugar or saturated fat, respectively.  These functions are used within the `get_labels()` function, and whenever there is an excess (of sugar or saturated fat, but also of trans fat, sodium, or calories), it prints the corresponding label."
   ]
  },
  {
   "cell_type": "code",
   "execution_count": 10,
   "id": "e54c9797",
   "metadata": {
    "execution": {
     "iopub.execute_input": "2023-02-21T05:28:02.893460Z",
     "iopub.status.busy": "2023-02-21T05:28:02.893026Z",
     "iopub.status.idle": "2023-02-21T05:28:02.908754Z",
     "shell.execute_reply": "2023-02-21T05:28:02.907619Z"
    },
    "papermill": {
     "duration": 0.02787,
     "end_time": "2023-02-21T05:28:02.911508",
     "exception": false,
     "start_time": "2023-02-21T05:28:02.883638",
     "status": "completed"
    },
    "tags": []
   },
   "outputs": [],
   "source": [
    "# import functions needed to make get_labels work\n",
    "from learntools.intro_to_programming.ex4q5 import excess_sugar, excess_saturated_fat, excess_trans_fat, excess_sodium, excess_calories\n",
    "\n",
    "def get_labels(food_type, serving_size, calories_per_serving, saturated_fat_g, trans_fat_g, sodium_mg, sugars_g):\n",
    "    # Print messages based on findings\n",
    "    if excess_sugar(sugars_g, calories_per_serving) == True:\n",
    "        print(\"EXCESO AZÚCARES / EXCESS SUGAR\")\n",
    "    if excess_saturated_fat(saturated_fat_g, calories_per_serving) == True:\n",
    "        print(\"EXCESO GRASAS SATURADAS / EXCESS SATURATED FAT\")\n",
    "    if excess_trans_fat(trans_fat_g, calories_per_serving) == True:\n",
    "        print(\"EXCESO GRASAS TRANS / EXCESS TRANS FAT\")\n",
    "    if excess_sodium(calories_per_serving, sodium_mg) == True:\n",
    "        print(\"EXCESO SODIO / EXCESS SODIUM\")\n",
    "    if excess_calories(food_type, calories_per_serving, serving_size) == True:\n",
    "        print(\"EXCESO CALORÍAS / EXCESS CALORIES\")"
   ]
  },
  {
   "cell_type": "markdown",
   "id": "bdc7b96a",
   "metadata": {
    "papermill": {
     "duration": 0.007654,
     "end_time": "2023-02-21T05:28:02.927633",
     "exception": false,
     "start_time": "2023-02-21T05:28:02.919979",
     "status": "completed"
    },
    "tags": []
   },
   "source": [
    "The next code cell demonstrates how to use `get_labels()` to get the warning labels that the food item should contain.  We begin with [bologna](https://world.openfoodfacts.org/product/4099100179378/bologna).  Here is [an image](https://imgur.com/Cfcx72e) with all of the nutritional information.  Note that for this food,\n",
    "- `food_type = \"solid\"` (because bologna is a solid and not a liquid)\n",
    "- `serving_size = 32` (the serving size is 32 grams)\n",
    "- `calories_per_serving = 110` (there are 110 calories per serving)\n",
    "- `saturated_fat_g = 2.5` (there are 2.5 grams of saturated fat per serving)\n",
    "- `trans_fat_g = 0` (there are 0 grams of trans fat per serving)\n",
    "- `sodium_mg = 400` (there are 400 mg of sodium per serving)\n",
    "- `sugars_g = 1` (the nutrition facts say <1g, but we will round it up to 1 gram per serving to be safe)\n",
    "\n",
    "By supplying all of these values to the function, we can print the warning labels."
   ]
  },
  {
   "cell_type": "code",
   "execution_count": 11,
   "id": "ee23fc94",
   "metadata": {
    "execution": {
     "iopub.execute_input": "2023-02-21T05:28:02.945351Z",
     "iopub.status.busy": "2023-02-21T05:28:02.944953Z",
     "iopub.status.idle": "2023-02-21T05:28:02.951132Z",
     "shell.execute_reply": "2023-02-21T05:28:02.949692Z"
    },
    "papermill": {
     "duration": 0.018755,
     "end_time": "2023-02-21T05:28:02.954451",
     "exception": false,
     "start_time": "2023-02-21T05:28:02.935696",
     "status": "completed"
    },
    "tags": []
   },
   "outputs": [
    {
     "name": "stdout",
     "output_type": "stream",
     "text": [
      "EXCESO GRASAS SATURADAS / EXCESS SATURATED FAT\n",
      "EXCESO SODIO / EXCESS SODIUM\n",
      "EXCESO CALORÍAS / EXCESS CALORIES\n"
     ]
    }
   ],
   "source": [
    "# bologna https://world.openfoodfacts.org/product/4099100179378/bologna\n",
    "get_labels(\"solid\", 32, 110, 2.5, 0, 400, 1)"
   ]
  },
  {
   "cell_type": "markdown",
   "id": "568b8db5",
   "metadata": {
    "papermill": {
     "duration": 0.007927,
     "end_time": "2023-02-21T05:28:02.971297",
     "exception": false,
     "start_time": "2023-02-21T05:28:02.963370",
     "status": "completed"
    },
    "tags": []
   },
   "source": [
    "This bologna has three labels, printed in the output above.\n",
    "\n",
    "For the rest of this question, you will use the same `get_labels()` function to determine the labels for more foods.  This question is designed to help you get practice with feeling comfortable with code that other people have written, and where you don't have time to review every single line of code before interacting with it.  For instance, when you take the [Intro to Machine Learning course](http://www.kaggle.com/learn/intro-to-machine-learning), you'll work with a Python package called \"scikit-learn\", which is a large collection of code that you'll learn how to run without reviewing all of the code in detail (as it would take too long, and you can trust that it was implemented correctly).\n",
    "\n",
    "In general, as you continue coding in Python, you will often be running code that other people have written.  This is common practice for advanced programmers.\n",
    "\n",
    "In the next code cell, fill in the values for [this cereal](https://world.openfoodfacts.org/product/7501008023624/zucaritas-kellogg-s).  Here is [an image](https://imgur.com/a/MUxzHVU) with all of the nutritional information.\n",
    "\n",
    "**Note**: running the line of code below as-is will return an error.  You have to fill in the nutritional values first."
   ]
  },
  {
   "cell_type": "code",
   "execution_count": 12,
   "id": "4a52baaa",
   "metadata": {
    "execution": {
     "iopub.execute_input": "2023-02-21T05:28:02.989456Z",
     "iopub.status.busy": "2023-02-21T05:28:02.989019Z",
     "iopub.status.idle": "2023-02-21T05:28:02.995545Z",
     "shell.execute_reply": "2023-02-21T05:28:02.994150Z"
    },
    "papermill": {
     "duration": 0.018415,
     "end_time": "2023-02-21T05:28:02.998111",
     "exception": false,
     "start_time": "2023-02-21T05:28:02.979696",
     "status": "completed"
    },
    "tags": []
   },
   "outputs": [
    {
     "name": "stdout",
     "output_type": "stream",
     "text": [
      "EXCESO AZÚCARES / EXCESS SUGAR\n",
      "EXCESO SODIO / EXCESS SODIUM\n",
      "EXCESO CALORÍAS / EXCESS CALORIES\n"
     ]
    }
   ],
   "source": [
    "# zucaritas cereal https://world.openfoodfacts.org/product/7501008023624/zucaritas-kellogg-s\n",
    "# TODO: Uncomment the line below, fill in the values, and run the function\n",
    "get_labels(\"solid\", 18, 150, 0, 0, 150, 16)"
   ]
  },
  {
   "cell_type": "markdown",
   "id": "3cfd07b7",
   "metadata": {
    "papermill": {
     "duration": 0.008183,
     "end_time": "2023-02-21T05:28:03.014579",
     "exception": false,
     "start_time": "2023-02-21T05:28:03.006396",
     "status": "completed"
    },
    "tags": []
   },
   "source": [
    "Next, try [these mozzarella sticks](https://world-es.openfoodfacts.org/producto/0062325540104/mozzarella-cheese-sticks).  Here is [an image](https://imgur.com/rcdB7VH) with all of the nutritional information."
   ]
  },
  {
   "cell_type": "code",
   "execution_count": 13,
   "id": "48876a81",
   "metadata": {
    "execution": {
     "iopub.execute_input": "2023-02-21T05:28:03.033209Z",
     "iopub.status.busy": "2023-02-21T05:28:03.032779Z",
     "iopub.status.idle": "2023-02-21T05:28:03.039097Z",
     "shell.execute_reply": "2023-02-21T05:28:03.037709Z"
    },
    "papermill": {
     "duration": 0.018327,
     "end_time": "2023-02-21T05:28:03.041413",
     "exception": false,
     "start_time": "2023-02-21T05:28:03.023086",
     "status": "completed"
    },
    "tags": []
   },
   "outputs": [
    {
     "name": "stdout",
     "output_type": "stream",
     "text": [
      "EXCESO GRASAS SATURADAS / EXCESS SATURATED FAT\n",
      "EXCESO GRASAS TRANS / EXCESS TRANS FAT\n",
      "EXCESO SODIO / EXCESS SODIUM\n",
      "EXCESO CALORÍAS / EXCESS CALORIES\n"
     ]
    }
   ],
   "source": [
    "# mozzarella sticks https://world-es.openfoodfacts.org/producto/0062325540104/mozzarella-cheese-sticks\n",
    "# TODO: Uncomment the line below, fill in the values, and run the function\n",
    "get_labels(\"solid\", 21, 68, 3, 0.2,208,0)"
   ]
  },
  {
   "cell_type": "markdown",
   "id": "6770114b",
   "metadata": {
    "papermill": {
     "duration": 0.007789,
     "end_time": "2023-02-21T05:28:03.057445",
     "exception": false,
     "start_time": "2023-02-21T05:28:03.049656",
     "status": "completed"
    },
    "tags": []
   },
   "source": [
    "Feel free to skip to the end of the notebook now and run `q5.check()` to complete the exercise.  If you want to try more foods, \n",
    "- try [these cookies](https://world.openfoodfacts.org/product/0069700118545/biscuits-au-sucre-pretraches).  Here is [an image](https://imgur.com/2Bc271o) with all of the nutritional information.\n",
    "- try [this soda](https://world-es.openfoodfacts.org/producto/0078000113464/orange-soda-sunkist).  Here is [an image](https://imgur.com/RsBYa8E) with all of the nutritional information.\n",
    "\n",
    "Use the two code cells below for this."
   ]
  },
  {
   "cell_type": "code",
   "execution_count": 14,
   "id": "4dc2dbfb",
   "metadata": {
    "execution": {
     "iopub.execute_input": "2023-02-21T05:28:03.075430Z",
     "iopub.status.busy": "2023-02-21T05:28:03.075040Z",
     "iopub.status.idle": "2023-02-21T05:28:03.079577Z",
     "shell.execute_reply": "2023-02-21T05:28:03.078677Z"
    },
    "papermill": {
     "duration": 0.01604,
     "end_time": "2023-02-21T05:28:03.081668",
     "exception": false,
     "start_time": "2023-02-21T05:28:03.065628",
     "status": "completed"
    },
    "tags": []
   },
   "outputs": [],
   "source": [
    "# pillsbury cookies https://world.openfoodfacts.org/product/0069700118545/biscuits-au-sucre-pretraches\n",
    "# TODO: Uncomment the line below, fill in the values, and run the function\n",
    "#get_labels()"
   ]
  },
  {
   "cell_type": "code",
   "execution_count": 15,
   "id": "73468f58",
   "metadata": {
    "execution": {
     "iopub.execute_input": "2023-02-21T05:28:03.100025Z",
     "iopub.status.busy": "2023-02-21T05:28:03.099566Z",
     "iopub.status.idle": "2023-02-21T05:28:03.104255Z",
     "shell.execute_reply": "2023-02-21T05:28:03.103109Z"
    },
    "papermill": {
     "duration": 0.016655,
     "end_time": "2023-02-21T05:28:03.106530",
     "exception": false,
     "start_time": "2023-02-21T05:28:03.089875",
     "status": "completed"
    },
    "tags": []
   },
   "outputs": [],
   "source": [
    "# sunkist orange soda https://world-es.openfoodfacts.org/producto/0078000113464/orange-soda-sunkist\n",
    "# TODO: Uncomment the line below, fill in the values, and run the function\n",
    "#get_labels()"
   ]
  },
  {
   "cell_type": "markdown",
   "id": "326bad2c",
   "metadata": {
    "papermill": {
     "duration": 0.007819,
     "end_time": "2023-02-21T05:28:03.122538",
     "exception": false,
     "start_time": "2023-02-21T05:28:03.114719",
     "status": "completed"
    },
    "tags": []
   },
   "source": [
    "Once you have finished investigating the food items in this question, run the final code cell to get credit for completing this problem."
   ]
  },
  {
   "cell_type": "code",
   "execution_count": 16,
   "id": "87a1a661",
   "metadata": {
    "execution": {
     "iopub.execute_input": "2023-02-21T05:28:03.140402Z",
     "iopub.status.busy": "2023-02-21T05:28:03.139928Z",
     "iopub.status.idle": "2023-02-21T05:28:03.149865Z",
     "shell.execute_reply": "2023-02-21T05:28:03.148450Z"
    },
    "papermill": {
     "duration": 0.021685,
     "end_time": "2023-02-21T05:28:03.152327",
     "exception": false,
     "start_time": "2023-02-21T05:28:03.130642",
     "status": "completed"
    },
    "tags": []
   },
   "outputs": [
    {
     "data": {
      "application/javascript": [
       "parent.postMessage({\"jupyterEvent\": \"custom.exercise_interaction\", \"data\": {\"outcomeType\": 1, \"valueTowardsCompletion\": 0.2, \"interactionType\": 1, \"questionType\": 2, \"questionId\": \"5_GetLabels\", \"learnToolsVersion\": \"0.3.4\", \"failureMessage\": \"\", \"exceptionClass\": \"\", \"trace\": \"\"}}, \"*\")"
      ],
      "text/plain": [
       "<IPython.core.display.Javascript object>"
      ]
     },
     "metadata": {},
     "output_type": "display_data"
    },
    {
     "data": {
      "text/markdown": [
       "<span style=\"color:#33cc33\">Once you have determined the labels for all of the food items, you're ready to move on to the next lesson!</span>"
      ],
      "text/plain": [
       "Once you have determined the labels for all of the food items, you're ready to move on to the next lesson!"
      ]
     },
     "metadata": {},
     "output_type": "display_data"
    }
   ],
   "source": [
    "# Get credit for completing the problem\n",
    "q5.check()"
   ]
  },
  {
   "cell_type": "markdown",
   "id": "443dd16d",
   "metadata": {
    "papermill": {
     "duration": 0.008204,
     "end_time": "2023-02-21T05:28:03.168991",
     "exception": false,
     "start_time": "2023-02-21T05:28:03.160787",
     "status": "completed"
    },
    "tags": []
   },
   "source": [
    "# Keep going\n",
    "\n",
    "Continue to the next lesson to **[learn about Python lists](https://www.kaggle.com/alexisbcook/intro-to-lists)**."
   ]
  },
  {
   "cell_type": "markdown",
   "id": "81738052",
   "metadata": {
    "papermill": {
     "duration": 0.008406,
     "end_time": "2023-02-21T05:28:03.185779",
     "exception": false,
     "start_time": "2023-02-21T05:28:03.177373",
     "status": "completed"
    },
    "tags": []
   },
   "source": [
    "---\n",
    "\n",
    "\n",
    "\n",
    "\n",
    "*Have questions or comments? Visit the [course discussion forum](https://www.kaggle.com/learn/intro-to-programming/discussion) to chat with other learners.*"
   ]
  }
 ],
 "metadata": {
  "kernelspec": {
   "display_name": "Python 3",
   "language": "python",
   "name": "python3"
  },
  "language_info": {
   "codemirror_mode": {
    "name": "ipython",
    "version": 3
   },
   "file_extension": ".py",
   "mimetype": "text/x-python",
   "name": "python",
   "nbconvert_exporter": "python",
   "pygments_lexer": "ipython3",
   "version": "3.7.12"
  },
  "papermill": {
   "default_parameters": {},
   "duration": 13.215611,
   "end_time": "2023-02-21T05:28:06.646561",
   "environment_variables": {},
   "exception": null,
   "input_path": "__notebook__.ipynb",
   "output_path": "__notebook__.ipynb",
   "parameters": {},
   "start_time": "2023-02-21T05:27:53.430950",
   "version": "2.3.4"
  }
 },
 "nbformat": 4,
 "nbformat_minor": 5
}
