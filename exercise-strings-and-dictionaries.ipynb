{
 "cells": [
  {
   "cell_type": "markdown",
   "id": "1e7afe90",
   "metadata": {
    "papermill": {
     "duration": 0.007202,
     "end_time": "2023-02-22T17:51:16.983082",
     "exception": false,
     "start_time": "2023-02-22T17:51:16.975880",
     "status": "completed"
    },
    "tags": []
   },
   "source": [
    "**This notebook is an exercise in the [Python](https://www.kaggle.com/learn/python) course.  You can reference the tutorial at [this link](https://www.kaggle.com/colinmorris/strings-and-dictionaries).**\n",
    "\n",
    "---\n"
   ]
  },
  {
   "cell_type": "markdown",
   "id": "be878ff4",
   "metadata": {
    "papermill": {
     "duration": 0.005142,
     "end_time": "2023-02-22T17:51:16.994170",
     "exception": false,
     "start_time": "2023-02-22T17:51:16.989028",
     "status": "completed"
    },
    "tags": []
   },
   "source": [
    "You are almost done with the course. Nice job!\n",
    "\n",
    "We have a couple more interesting problems for you before you go. \n",
    "\n",
    "As always, run the setup code below before working on the questions."
   ]
  },
  {
   "cell_type": "code",
   "execution_count": 1,
   "id": "d4fb9dac",
   "metadata": {
    "execution": {
     "iopub.execute_input": "2023-02-22T17:51:17.008075Z",
     "iopub.status.busy": "2023-02-22T17:51:17.006686Z",
     "iopub.status.idle": "2023-02-22T17:51:17.060820Z",
     "shell.execute_reply": "2023-02-22T17:51:17.059666Z"
    },
    "papermill": {
     "duration": 0.064143,
     "end_time": "2023-02-22T17:51:17.063664",
     "exception": false,
     "start_time": "2023-02-22T17:51:16.999521",
     "status": "completed"
    },
    "tags": []
   },
   "outputs": [
    {
     "name": "stdout",
     "output_type": "stream",
     "text": [
      "Setup complete.\n"
     ]
    }
   ],
   "source": [
    "from learntools.core import binder; binder.bind(globals())\n",
    "from learntools.python.ex6 import *\n",
    "print('Setup complete.')"
   ]
  },
  {
   "cell_type": "markdown",
   "id": "6627ea3f",
   "metadata": {
    "papermill": {
     "duration": 0.005141,
     "end_time": "2023-02-22T17:51:17.074395",
     "exception": false,
     "start_time": "2023-02-22T17:51:17.069254",
     "status": "completed"
    },
    "tags": []
   },
   "source": [
    "Let's start with a string lightning round to warm up. What are the lengths of the strings below?\n",
    "\n",
    "For each of the five strings below, predict what `len()` would return when passed that string. Use the variable `length` to record your answer, then run the cell to check whether you were right.  \n",
    "\n",
    "# 0a."
   ]
  },
  {
   "cell_type": "code",
   "execution_count": 2,
   "id": "40eeb124",
   "metadata": {
    "execution": {
     "iopub.execute_input": "2023-02-22T17:51:17.087178Z",
     "iopub.status.busy": "2023-02-22T17:51:17.086236Z",
     "iopub.status.idle": "2023-02-22T17:51:17.097327Z",
     "shell.execute_reply": "2023-02-22T17:51:17.096336Z"
    },
    "papermill": {
     "duration": 0.020047,
     "end_time": "2023-02-22T17:51:17.099828",
     "exception": false,
     "start_time": "2023-02-22T17:51:17.079781",
     "status": "completed"
    },
    "tags": []
   },
   "outputs": [
    {
     "data": {
      "application/javascript": [
       "parent.postMessage({\"jupyterEvent\": \"custom.exercise_interaction\", \"data\": {\"outcomeType\": 1, \"valueTowardsCompletion\": 0.3333333333333333, \"interactionType\": 1, \"questionType\": 1, \"questionId\": \"0.1_ZA\", \"learnToolsVersion\": \"0.3.4\", \"failureMessage\": \"\", \"exceptionClass\": \"\", \"trace\": \"\"}}, \"*\")"
      ],
      "text/plain": [
       "<IPython.core.display.Javascript object>"
      ]
     },
     "metadata": {},
     "output_type": "display_data"
    },
    {
     "data": {
      "text/markdown": [
       "<span style=\"color:#33cc33\">Correct:</span> \n",
       "\n",
       "The empty string has length zero. Note that the empty string is also the only string that Python considers as False when converting to boolean."
      ],
      "text/plain": [
       "Correct: \n",
       "\n",
       "The empty string has length zero. Note that the empty string is also the only string that Python considers as False when converting to boolean."
      ]
     },
     "metadata": {},
     "output_type": "display_data"
    }
   ],
   "source": [
    "a = \"\"\n",
    "length = len(a)\n",
    "q0.a.check()"
   ]
  },
  {
   "cell_type": "markdown",
   "id": "a0c9713b",
   "metadata": {
    "papermill": {
     "duration": 0.005363,
     "end_time": "2023-02-22T17:51:17.110870",
     "exception": false,
     "start_time": "2023-02-22T17:51:17.105507",
     "status": "completed"
    },
    "tags": []
   },
   "source": [
    "# 0b."
   ]
  },
  {
   "cell_type": "code",
   "execution_count": 3,
   "id": "21bba199",
   "metadata": {
    "execution": {
     "iopub.execute_input": "2023-02-22T17:51:17.123794Z",
     "iopub.status.busy": "2023-02-22T17:51:17.123173Z",
     "iopub.status.idle": "2023-02-22T17:51:17.132174Z",
     "shell.execute_reply": "2023-02-22T17:51:17.131126Z"
    },
    "papermill": {
     "duration": 0.018086,
     "end_time": "2023-02-22T17:51:17.134451",
     "exception": false,
     "start_time": "2023-02-22T17:51:17.116365",
     "status": "completed"
    },
    "tags": []
   },
   "outputs": [
    {
     "data": {
      "application/javascript": [
       "parent.postMessage({\"jupyterEvent\": \"custom.exercise_interaction\", \"data\": {\"outcomeType\": 1, \"valueTowardsCompletion\": 0.3333333333333333, \"interactionType\": 1, \"questionType\": 1, \"questionId\": \"0.2_ZB\", \"learnToolsVersion\": \"0.3.4\", \"failureMessage\": \"\", \"exceptionClass\": \"\", \"trace\": \"\"}}, \"*\")"
      ],
      "text/plain": [
       "<IPython.core.display.Javascript object>"
      ]
     },
     "metadata": {},
     "output_type": "display_data"
    },
    {
     "data": {
      "text/markdown": [
       "<span style=\"color:#33cc33\">Correct:</span> \n",
       "\n",
       "Keep in mind Python includes spaces (and punctuation) when counting string length."
      ],
      "text/plain": [
       "Correct: \n",
       "\n",
       "Keep in mind Python includes spaces (and punctuation) when counting string length."
      ]
     },
     "metadata": {},
     "output_type": "display_data"
    }
   ],
   "source": [
    "b = \"it's ok\"\n",
    "length = len(b)\n",
    "q0.b.check()"
   ]
  },
  {
   "cell_type": "markdown",
   "id": "92d835f3",
   "metadata": {
    "papermill": {
     "duration": 0.005679,
     "end_time": "2023-02-22T17:51:17.146147",
     "exception": false,
     "start_time": "2023-02-22T17:51:17.140468",
     "status": "completed"
    },
    "tags": []
   },
   "source": [
    "# 0c."
   ]
  },
  {
   "cell_type": "code",
   "execution_count": 4,
   "id": "7e0be1c2",
   "metadata": {
    "execution": {
     "iopub.execute_input": "2023-02-22T17:51:17.159776Z",
     "iopub.status.busy": "2023-02-22T17:51:17.159376Z",
     "iopub.status.idle": "2023-02-22T17:51:17.167957Z",
     "shell.execute_reply": "2023-02-22T17:51:17.166947Z"
    },
    "papermill": {
     "duration": 0.017935,
     "end_time": "2023-02-22T17:51:17.170033",
     "exception": false,
     "start_time": "2023-02-22T17:51:17.152098",
     "status": "completed"
    },
    "tags": []
   },
   "outputs": [
    {
     "data": {
      "application/javascript": [
       "parent.postMessage({\"jupyterEvent\": \"custom.exercise_interaction\", \"data\": {\"outcomeType\": 1, \"valueTowardsCompletion\": 0.3333333333333333, \"interactionType\": 1, \"questionType\": 1, \"questionId\": \"0.3_ZC\", \"learnToolsVersion\": \"0.3.4\", \"failureMessage\": \"\", \"exceptionClass\": \"\", \"trace\": \"\"}}, \"*\")"
      ],
      "text/plain": [
       "<IPython.core.display.Javascript object>"
      ]
     },
     "metadata": {},
     "output_type": "display_data"
    },
    {
     "data": {
      "text/markdown": [
       "<span style=\"color:#33cc33\">Correct:</span> \n",
       "\n",
       "Even though we use different syntax to create it, the string `c` is identical to `b`. In particular, note that the backslash is not part of the string, so it doesn't contribute to its length."
      ],
      "text/plain": [
       "Correct: \n",
       "\n",
       "Even though we use different syntax to create it, the string `c` is identical to `b`. In particular, note that the backslash is not part of the string, so it doesn't contribute to its length."
      ]
     },
     "metadata": {},
     "output_type": "display_data"
    }
   ],
   "source": [
    "c = 'it\\'s ok'\n",
    "length = len(c)\n",
    "q0.c.check()"
   ]
  },
  {
   "cell_type": "markdown",
   "id": "5bed9d6a",
   "metadata": {
    "papermill": {
     "duration": 0.005805,
     "end_time": "2023-02-22T17:51:17.181880",
     "exception": false,
     "start_time": "2023-02-22T17:51:17.176075",
     "status": "completed"
    },
    "tags": []
   },
   "source": [
    "# 0d."
   ]
  },
  {
   "cell_type": "code",
   "execution_count": 5,
   "id": "88df0e11",
   "metadata": {
    "execution": {
     "iopub.execute_input": "2023-02-22T17:51:17.195283Z",
     "iopub.status.busy": "2023-02-22T17:51:17.194906Z",
     "iopub.status.idle": "2023-02-22T17:51:17.203548Z",
     "shell.execute_reply": "2023-02-22T17:51:17.202490Z"
    },
    "papermill": {
     "duration": 0.017626,
     "end_time": "2023-02-22T17:51:17.205480",
     "exception": false,
     "start_time": "2023-02-22T17:51:17.187854",
     "status": "completed"
    },
    "tags": []
   },
   "outputs": [
    {
     "data": {
      "application/javascript": [
       "parent.postMessage({\"jupyterEvent\": \"custom.exercise_interaction\", \"data\": {\"outcomeType\": 1, \"valueTowardsCompletion\": 0.3333333333333333, \"interactionType\": 1, \"questionType\": 1, \"questionId\": \"0.4_ZD\", \"learnToolsVersion\": \"0.3.4\", \"failureMessage\": \"\", \"exceptionClass\": \"\", \"trace\": \"\"}}, \"*\")"
      ],
      "text/plain": [
       "<IPython.core.display.Javascript object>"
      ]
     },
     "metadata": {},
     "output_type": "display_data"
    },
    {
     "data": {
      "text/markdown": [
       "<span style=\"color:#33cc33\">Correct:</span> \n",
       "\n",
       "The fact that this string was created using triple-quote syntax doesn't make any difference in terms of its content or length. This string is exactly the same as `'hey'`."
      ],
      "text/plain": [
       "Correct: \n",
       "\n",
       "The fact that this string was created using triple-quote syntax doesn't make any difference in terms of its content or length. This string is exactly the same as `'hey'`."
      ]
     },
     "metadata": {},
     "output_type": "display_data"
    }
   ],
   "source": [
    "d = \"\"\"hey\"\"\"\n",
    "length = len(d)\n",
    "q0.d.check()"
   ]
  },
  {
   "cell_type": "markdown",
   "id": "80ff7c84",
   "metadata": {
    "papermill": {
     "duration": 0.006039,
     "end_time": "2023-02-22T17:51:17.217776",
     "exception": false,
     "start_time": "2023-02-22T17:51:17.211737",
     "status": "completed"
    },
    "tags": []
   },
   "source": [
    "# 0e."
   ]
  },
  {
   "cell_type": "code",
   "execution_count": 6,
   "id": "8894295c",
   "metadata": {
    "execution": {
     "iopub.execute_input": "2023-02-22T17:51:17.231951Z",
     "iopub.status.busy": "2023-02-22T17:51:17.231561Z",
     "iopub.status.idle": "2023-02-22T17:51:17.240437Z",
     "shell.execute_reply": "2023-02-22T17:51:17.239377Z"
    },
    "papermill": {
     "duration": 0.018368,
     "end_time": "2023-02-22T17:51:17.242406",
     "exception": false,
     "start_time": "2023-02-22T17:51:17.224038",
     "status": "completed"
    },
    "tags": []
   },
   "outputs": [
    {
     "data": {
      "application/javascript": [
       "parent.postMessage({\"jupyterEvent\": \"custom.exercise_interaction\", \"data\": {\"outcomeType\": 1, \"valueTowardsCompletion\": 0.3333333333333333, \"interactionType\": 1, \"questionType\": 1, \"questionId\": \"0.5_ZE\", \"learnToolsVersion\": \"0.3.4\", \"failureMessage\": \"\", \"exceptionClass\": \"\", \"trace\": \"\"}}, \"*\")"
      ],
      "text/plain": [
       "<IPython.core.display.Javascript object>"
      ]
     },
     "metadata": {},
     "output_type": "display_data"
    },
    {
     "data": {
      "text/markdown": [
       "<span style=\"color:#33cc33\">Correct:</span> \n",
       "\n",
       "The newline character is just a single character! (Even though we represent it to Python using a combination of two characters.)"
      ],
      "text/plain": [
       "Correct: \n",
       "\n",
       "The newline character is just a single character! (Even though we represent it to Python using a combination of two characters.)"
      ]
     },
     "metadata": {},
     "output_type": "display_data"
    }
   ],
   "source": [
    "e = '\\n'\n",
    "length = len(e)\n",
    "q0.e.check()"
   ]
  },
  {
   "cell_type": "markdown",
   "id": "07d6d9d2",
   "metadata": {
    "papermill": {
     "duration": 0.006565,
     "end_time": "2023-02-22T17:51:17.255707",
     "exception": false,
     "start_time": "2023-02-22T17:51:17.249142",
     "status": "completed"
    },
    "tags": []
   },
   "source": [
    "# 1.\n",
    "\n",
    "There is a saying that \"Data scientists spend 80% of their time cleaning data, and 20% of their time complaining about cleaning data.\" Let's see if you can write a function to help clean US zip code data. Given a string, it should return whether or not that string represents a valid zip code. For our purposes, a valid zip code is any string consisting of exactly 5 digits.\n",
    "\n",
    "HINT: `str` has a method that will be useful here. Use `help(str)` to review a list of string methods."
   ]
  },
  {
   "cell_type": "code",
   "execution_count": 7,
   "id": "8f445b8c",
   "metadata": {
    "execution": {
     "iopub.execute_input": "2023-02-22T17:51:17.271191Z",
     "iopub.status.busy": "2023-02-22T17:51:17.270797Z",
     "iopub.status.idle": "2023-02-22T17:51:17.287465Z",
     "shell.execute_reply": "2023-02-22T17:51:17.286331Z"
    },
    "papermill": {
     "duration": 0.027024,
     "end_time": "2023-02-22T17:51:17.289534",
     "exception": false,
     "start_time": "2023-02-22T17:51:17.262510",
     "status": "completed"
    },
    "tags": []
   },
   "outputs": [
    {
     "data": {
      "application/javascript": [
       "parent.postMessage({\"jupyterEvent\": \"custom.exercise_interaction\", \"data\": {\"outcomeType\": 1, \"valueTowardsCompletion\": 0.3333333333333333, \"interactionType\": 1, \"questionType\": 2, \"questionId\": \"1_ZipValidator\", \"learnToolsVersion\": \"0.3.4\", \"failureMessage\": \"\", \"exceptionClass\": \"\", \"trace\": \"\"}}, \"*\")"
      ],
      "text/plain": [
       "<IPython.core.display.Javascript object>"
      ]
     },
     "metadata": {},
     "output_type": "display_data"
    },
    {
     "data": {
      "text/markdown": [
       "<span style=\"color:#33cc33\">Correct</span>"
      ],
      "text/plain": [
       "Correct"
      ]
     },
     "metadata": {},
     "output_type": "display_data"
    }
   ],
   "source": [
    "def is_valid_zip(zip_code):\n",
    "    \"\"\"Returns whether the input string is a valid (5 digit) zip code\n",
    "    \"\"\"\n",
    "    if(len(zip_code)==5 and zip_code.isdigit()):\n",
    "        return True\n",
    "    \n",
    "    return False\n",
    "\n",
    "# Check your answer\n",
    "q1.check()"
   ]
  },
  {
   "cell_type": "code",
   "execution_count": 8,
   "id": "53febb5d",
   "metadata": {
    "execution": {
     "iopub.execute_input": "2023-02-22T17:51:17.304484Z",
     "iopub.status.busy": "2023-02-22T17:51:17.304143Z",
     "iopub.status.idle": "2023-02-22T17:51:17.311804Z",
     "shell.execute_reply": "2023-02-22T17:51:17.310796Z"
    },
    "papermill": {
     "duration": 0.017336,
     "end_time": "2023-02-22T17:51:17.313858",
     "exception": false,
     "start_time": "2023-02-22T17:51:17.296522",
     "status": "completed"
    },
    "tags": []
   },
   "outputs": [
    {
     "data": {
      "application/javascript": [
       "parent.postMessage({\"jupyterEvent\": \"custom.exercise_interaction\", \"data\": {\"interactionType\": 2, \"questionType\": 2, \"questionId\": \"1_ZipValidator\", \"learnToolsVersion\": \"0.3.4\", \"valueTowardsCompletion\": 0.0, \"failureMessage\": \"\", \"exceptionClass\": \"\", \"trace\": \"\", \"outcomeType\": 4}}, \"*\")"
      ],
      "text/plain": [
       "<IPython.core.display.Javascript object>"
      ]
     },
     "metadata": {},
     "output_type": "display_data"
    },
    {
     "data": {
      "text/markdown": [
       "<span style=\"color:#3366cc\">Hint:</span> Try looking up `help(str.isdigit)`"
      ],
      "text/plain": [
       "Hint: Try looking up `help(str.isdigit)`"
      ]
     },
     "metadata": {},
     "output_type": "display_data"
    }
   ],
   "source": [
    "q1.hint()\n",
    "#q1.solution()"
   ]
  },
  {
   "cell_type": "markdown",
   "id": "3a566e33",
   "metadata": {
    "papermill": {
     "duration": 0.006839,
     "end_time": "2023-02-22T17:51:17.327783",
     "exception": false,
     "start_time": "2023-02-22T17:51:17.320944",
     "status": "completed"
    },
    "tags": []
   },
   "source": [
    "# 2.\n",
    "\n",
    "A researcher has gathered thousands of news articles. But she wants to focus her attention on articles including a specific word. Complete the function below to help her filter her list of articles.\n",
    "\n",
    "Your function should meet the following criteria:\n",
    "\n",
    "- Do not include documents where the keyword string shows up only as a part of a larger word. For example, if she were looking for the keyword “closed”, you would not include the string “enclosed.” \n",
    "- She does not want you to distinguish upper case from lower case letters. So the phrase “Closed the case.” would be included when the keyword is “closed”\n",
    "- Do not let periods or commas affect what is matched. “It is closed.” would be included when the keyword is “closed”. But you can assume there are no other types of punctuation."
   ]
  },
  {
   "cell_type": "code",
   "execution_count": 9,
   "id": "68c62999",
   "metadata": {
    "execution": {
     "iopub.execute_input": "2023-02-22T17:51:17.343729Z",
     "iopub.status.busy": "2023-02-22T17:51:17.343306Z",
     "iopub.status.idle": "2023-02-22T17:51:17.354405Z",
     "shell.execute_reply": "2023-02-22T17:51:17.353327Z"
    },
    "papermill": {
     "duration": 0.021565,
     "end_time": "2023-02-22T17:51:17.356494",
     "exception": false,
     "start_time": "2023-02-22T17:51:17.334929",
     "status": "completed"
    },
    "tags": []
   },
   "outputs": [
    {
     "data": {
      "application/javascript": [
       "parent.postMessage({\"jupyterEvent\": \"custom.exercise_interaction\", \"data\": {\"outcomeType\": 1, \"valueTowardsCompletion\": 0.3333333333333333, \"interactionType\": 1, \"questionType\": 2, \"questionId\": \"2_WordSearch\", \"learnToolsVersion\": \"0.3.4\", \"failureMessage\": \"\", \"exceptionClass\": \"\", \"trace\": \"\"}}, \"*\")"
      ],
      "text/plain": [
       "<IPython.core.display.Javascript object>"
      ]
     },
     "metadata": {},
     "output_type": "display_data"
    },
    {
     "data": {
      "text/markdown": [
       "<span style=\"color:#33cc33\">Correct</span>"
      ],
      "text/plain": [
       "Correct"
      ]
     },
     "metadata": {},
     "output_type": "display_data"
    }
   ],
   "source": [
    "def word_search(doc_list, keyword):\n",
    "    \"\"\"\n",
    "    Takes a list of documents (each document is a string) and a keyword. \n",
    "    Returns list of the index values into the original list for all documents \n",
    "    containing the keyword.\n",
    "\n",
    "    Example:\n",
    "    doc_list = [\"The Learn Python Challenge Casino.\", \"They bought a car\", \"Casinoville\"]\n",
    "    >>> word_search(doc_list, 'casino')\n",
    "    >>> [0]\n",
    "    \"\"\"\n",
    "    indices = [] \n",
    "    for i, doc in enumerate(doc_list):\n",
    "        # Split the string doc into a list of words (according to whitespace)\n",
    "        tokens = doc.split()\n",
    "        \n",
    "        normalized = [token.rstrip('.,').lower() for token in tokens]\n",
    "        # Is there a match? If so, update the list of matching indices.\n",
    "        if keyword.lower() in normalized:\n",
    "            indices.append(i)\n",
    "    return indices\n",
    "\n",
    "# Check your answer\n",
    "q2.check()"
   ]
  },
  {
   "cell_type": "code",
   "execution_count": 10,
   "id": "333ad45a",
   "metadata": {
    "execution": {
     "iopub.execute_input": "2023-02-22T17:51:17.373120Z",
     "iopub.status.busy": "2023-02-22T17:51:17.372710Z",
     "iopub.status.idle": "2023-02-22T17:51:17.381430Z",
     "shell.execute_reply": "2023-02-22T17:51:17.380245Z"
    },
    "papermill": {
     "duration": 0.019897,
     "end_time": "2023-02-22T17:51:17.383662",
     "exception": false,
     "start_time": "2023-02-22T17:51:17.363765",
     "status": "completed"
    },
    "tags": []
   },
   "outputs": [
    {
     "data": {
      "application/javascript": [
       "parent.postMessage({\"jupyterEvent\": \"custom.exercise_interaction\", \"data\": {\"interactionType\": 2, \"questionType\": 2, \"questionId\": \"2_WordSearch\", \"learnToolsVersion\": \"0.3.4\", \"valueTowardsCompletion\": 0.0, \"failureMessage\": \"\", \"exceptionClass\": \"\", \"trace\": \"\", \"outcomeType\": 4}}, \"*\")"
      ],
      "text/plain": [
       "<IPython.core.display.Javascript object>"
      ]
     },
     "metadata": {},
     "output_type": "display_data"
    },
    {
     "data": {
      "text/markdown": [
       "<span style=\"color:#3366cc\">Hint:</span> Some methods that may be useful here: `str.split()`, `str.strip()`, `str.lower()`."
      ],
      "text/plain": [
       "Hint: Some methods that may be useful here: `str.split()`, `str.strip()`, `str.lower()`."
      ]
     },
     "metadata": {},
     "output_type": "display_data"
    }
   ],
   "source": [
    "q2.hint()\n",
    "#q2.solution()"
   ]
  },
  {
   "cell_type": "markdown",
   "id": "61c78c98",
   "metadata": {
    "papermill": {
     "duration": 0.007523,
     "end_time": "2023-02-22T17:51:17.398987",
     "exception": false,
     "start_time": "2023-02-22T17:51:17.391464",
     "status": "completed"
    },
    "tags": []
   },
   "source": [
    "# 3.\n",
    "\n",
    "Now the researcher wants to supply multiple keywords to search for. Complete the function below to help her.\n",
    "\n",
    "(You're encouraged to use the `word_search` function you just wrote when implementing this function. Reusing code in this way makes your programs more robust and readable - and it saves typing!)"
   ]
  },
  {
   "cell_type": "code",
   "execution_count": 11,
   "id": "46f8df37",
   "metadata": {
    "execution": {
     "iopub.execute_input": "2023-02-22T17:51:17.416154Z",
     "iopub.status.busy": "2023-02-22T17:51:17.415740Z",
     "iopub.status.idle": "2023-02-22T17:51:17.427077Z",
     "shell.execute_reply": "2023-02-22T17:51:17.426082Z"
    },
    "papermill": {
     "duration": 0.022616,
     "end_time": "2023-02-22T17:51:17.429302",
     "exception": false,
     "start_time": "2023-02-22T17:51:17.406686",
     "status": "completed"
    },
    "tags": []
   },
   "outputs": [
    {
     "data": {
      "application/javascript": [
       "parent.postMessage({\"jupyterEvent\": \"custom.exercise_interaction\", \"data\": {\"outcomeType\": 1, \"valueTowardsCompletion\": 0.3333333333333333, \"interactionType\": 1, \"questionType\": 2, \"questionId\": \"3_MultiWordSearch\", \"learnToolsVersion\": \"0.3.4\", \"failureMessage\": \"\", \"exceptionClass\": \"\", \"trace\": \"\"}}, \"*\")"
      ],
      "text/plain": [
       "<IPython.core.display.Javascript object>"
      ]
     },
     "metadata": {},
     "output_type": "display_data"
    },
    {
     "data": {
      "text/markdown": [
       "<span style=\"color:#33cc33\">Correct</span>"
      ],
      "text/plain": [
       "Correct"
      ]
     },
     "metadata": {},
     "output_type": "display_data"
    }
   ],
   "source": [
    "def multi_word_search(doc_list, keywords):\n",
    "    \"\"\"\n",
    "    Takes list of documents (each document is a string) and a list of keywords.  \n",
    "    Returns a dictionary where each key is a keyword, and the value is a list of indices\n",
    "    (from doc_list) of the documents containing that keyword\n",
    "\n",
    "    >>> doc_list = [\"The Learn Python Challenge Casino.\", \"They bought a car and a casino\", \"Casinoville\"]\n",
    "    >>> keywords = ['casino', 'they']\n",
    "    >>> multi_word_search(doc_list, keywords)\n",
    "    {'casino': [0, 1], 'they': [1]}\n",
    "    \"\"\"\n",
    "    keyword_to_indices = {}\n",
    "    for keyword in keywords:\n",
    "        keyword_to_indices[keyword] = word_search(doc_list, keyword)\n",
    "    return keyword_to_indices\n",
    "\n",
    "# Check your answer\n",
    "q3.check()"
   ]
  },
  {
   "cell_type": "code",
   "execution_count": 12,
   "id": "a7417408",
   "metadata": {
    "execution": {
     "iopub.execute_input": "2023-02-22T17:51:17.446998Z",
     "iopub.status.busy": "2023-02-22T17:51:17.446612Z",
     "iopub.status.idle": "2023-02-22T17:51:17.450976Z",
     "shell.execute_reply": "2023-02-22T17:51:17.449826Z"
    },
    "papermill": {
     "duration": 0.015947,
     "end_time": "2023-02-22T17:51:17.453165",
     "exception": false,
     "start_time": "2023-02-22T17:51:17.437218",
     "status": "completed"
    },
    "tags": []
   },
   "outputs": [],
   "source": [
    "#q3.solution()"
   ]
  },
  {
   "cell_type": "markdown",
   "id": "56df676a",
   "metadata": {
    "papermill": {
     "duration": 0.00762,
     "end_time": "2023-02-22T17:51:17.468876",
     "exception": false,
     "start_time": "2023-02-22T17:51:17.461256",
     "status": "completed"
    },
    "tags": []
   },
   "source": [
    "# Keep Going\n",
    "\n",
    "You've learned a lot. But even the best programmers rely heavily on \"libraries\" of code from other programmers. You'll learn about that in **[the last lesson](https://www.kaggle.com/colinmorris/working-with-external-libraries)**.\n"
   ]
  },
  {
   "cell_type": "markdown",
   "id": "3c0313a5",
   "metadata": {
    "papermill": {
     "duration": 0.007709,
     "end_time": "2023-02-22T17:51:17.484471",
     "exception": false,
     "start_time": "2023-02-22T17:51:17.476762",
     "status": "completed"
    },
    "tags": []
   },
   "source": [
    "---\n",
    "\n",
    "\n",
    "\n",
    "\n",
    "*Have questions or comments? Visit the [course discussion forum](https://www.kaggle.com/learn/python/discussion) to chat with other learners.*"
   ]
  }
 ],
 "metadata": {
  "kernelspec": {
   "display_name": "Python 3",
   "language": "python",
   "name": "python3"
  },
  "language_info": {
   "codemirror_mode": {
    "name": "ipython",
    "version": 3
   },
   "file_extension": ".py",
   "mimetype": "text/x-python",
   "name": "python",
   "nbconvert_exporter": "python",
   "pygments_lexer": "ipython3",
   "version": "3.7.12"
  },
  "papermill": {
   "default_parameters": {},
   "duration": 9.255757,
   "end_time": "2023-02-22T17:51:18.113104",
   "environment_variables": {},
   "exception": null,
   "input_path": "__notebook__.ipynb",
   "output_path": "__notebook__.ipynb",
   "parameters": {},
   "start_time": "2023-02-22T17:51:08.857347",
   "version": "2.3.4"
  }
 },
 "nbformat": 4,
 "nbformat_minor": 5
}
